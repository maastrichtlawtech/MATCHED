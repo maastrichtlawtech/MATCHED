{
 "cells": [
  {
   "cell_type": "raw",
   "id": "8b93db49-35bc-4b67-b4d3-e89bfa348c3d",
   "metadata": {},
   "source": [
    "# Code Overview\n",
    "# This code uses the phone numbers in text advertisements to employ NetworkX, create vendor communities, and assign them to the four geographical regions.    "
   ]
  },
  {
   "cell_type": "markdown",
   "id": "8b36ee38",
   "metadata": {},
   "source": [
    "# Importing libraries"
   ]
  },
  {
   "cell_type": "code",
   "execution_count": 2,
   "id": "7c9468b6-5c66-4b72-9728-4a25553b2e79",
   "metadata": {
    "tags": []
   },
   "outputs": [],
   "source": [
    "import os\n",
    "import re\n",
    "\n",
    "from tqdm import tqdm\n",
    "from collections import Counter\n",
    "import networkx as nx\n",
    "\n",
    "import numpy as np\n",
    "import pandas as pd\n",
    "\n",
    "from PIL import Image\n",
    "# import cv2\n",
    "\n",
    "# import torch\n",
    "# from torch.utils.data import DataLoader\n",
    "# from torchvision import datasets\n",
    "# from facenet_pytorch import MTCNN, InceptionResnetV1\n",
    "\n",
    "import warnings\n",
    "warnings.filterwarnings('ignore')\n",
    "\n",
    "# workers = 0 if os.name == 'nt' else 4"
   ]
  },
  {
   "cell_type": "markdown",
   "id": "e2679159-7f98-4871-952d-c2d3dab8f8fd",
   "metadata": {},
   "source": [
    "# Loading data"
   ]
  },
  {
   "cell_type": "code",
   "execution_count": 2,
   "id": "6513e688-77ed-4992-b109-3bdecdb55335",
   "metadata": {
    "tags": []
   },
   "outputs": [],
   "source": [
    "provided_chicago = pd.read_csv(\"../data/provided/chicago_data.csv\")\n",
    "provided_atlanta = pd.read_csv(\"../data/provided/atlanta_data.csv\")\n",
    "provided_dallas = pd.read_csv(\"../data/provided/dallas_data.csv\")\n",
    "provided_detroit = pd.read_csv(\"../data/provided/detroit_data.csv\")\n",
    "provided_sf = pd.read_csv(\"../data/provided/sanfransisco_data.csv\")\n",
    "provided_ny = pd.read_csv(\"../data/provided/newyork_data.csv\")\n",
    "provided_houston = pd.read_csv(\"../data/provided/houston_data.csv\")"
   ]
  },
  {
   "cell_type": "code",
   "execution_count": 3,
   "id": "e817d735-2d2f-40ff-bc36-9be4a555b507",
   "metadata": {
    "tags": []
   },
   "outputs": [],
   "source": [
    "# Since NY dataset don't have the images attached\n",
    "provided_ny_id2imgmappings = pd.read_csv(\"../data/provided/ImgtoCSVmappings/NYC_ID2Image.csv\")\n",
    "# collecting list of images per ID\n",
    "unique_post_ids = provided_ny_id2imgmappings['Post ID'].unique()\n",
    "id_dict = {}\n",
    "\n",
    "for ids in unique_post_ids:\n",
    "    temp_df = provided_ny_id2imgmappings[provided_ny_id2imgmappings[\"Post ID\"] == ids]\n",
    "    images = \"|\".join(list(temp_df[\"Image Title\"].unique()))\n",
    "    id_dict[ids] = images\n",
    "    \n",
    "# Assigning Images to the NY dataset\n",
    "provided_ny['IMAGES'] = provided_ny['ID'].apply(lambda x: id_dict.get(x, np.nan))"
   ]
  },
  {
   "cell_type": "code",
   "execution_count": 4,
   "id": "96e44e78-c882-43c3-9a1d-2e550be4900f",
   "metadata": {
    "tags": []
   },
   "outputs": [],
   "source": [
    "# Dropping the instances with no images\n",
    "provided_chicago = provided_chicago[provided_chicago['IMAGES'].notnull()][['ID', 'TEXT', 'IMAGES', 'PHONES']]\n",
    "provided_atlanta = provided_atlanta[provided_atlanta['IMAGES'].notnull()][['ID', 'TEXT', 'IMAGES', 'PHONES']]\n",
    "provided_dallas = provided_dallas[provided_dallas['IMAGES'].notnull()][['ID', 'TEXT', 'IMAGES', 'PHONES']]\n",
    "provided_detroit = provided_detroit[provided_detroit['IMAGES'].notnull()][['ID', 'TEXT', 'IMAGES', 'PHONES']]\n",
    "provided_sf = provided_sf[provided_sf['IMAGES'].notnull()][['ID', 'TEXT', 'IMAGES', 'PHONES']]\n",
    "provided_ny = provided_ny[provided_ny['IMAGES'].notnull()][['ID', 'TEXT', 'IMAGES', 'PHONES']]\n",
    "provided_houston = provided_houston[provided_houston['IMAGES'].notnull()][['ID', 'TEXT', 'IMAGES', 'PHONES']]"
   ]
  },
  {
   "cell_type": "code",
   "execution_count": 5,
   "id": "6a3cf26f-98f0-40d9-98c2-d867b7b0f726",
   "metadata": {
    "tags": []
   },
   "outputs": [],
   "source": [
    "provided_chicago['PHONES'] = provided_chicago['PHONES'].apply(lambda x: eval(x))\n",
    "provided_atlanta['PHONES'] = provided_atlanta['PHONES'].apply(lambda x: eval(x))\n",
    "provided_dallas['PHONES'] = provided_dallas['PHONES'].apply(lambda x: eval(x))\n",
    "provided_detroit['PHONES'] = provided_detroit['PHONES'].apply(lambda x: eval(x))\n",
    "provided_sf['PHONES'] = provided_sf['PHONES'].apply(lambda x: eval(x))\n",
    "provided_ny['PHONES'] = provided_ny['PHONES'].apply(lambda x: eval(x))\n",
    "provided_houston['PHONES'] = provided_houston['PHONES'].apply(lambda x: eval(x))"
   ]
  },
  {
   "cell_type": "markdown",
   "id": "a5d60ff7-d46c-4233-8af3-91218031e35d",
   "metadata": {},
   "source": [
    "# Creating Vendor Communities"
   ]
  },
  {
   "cell_type": "code",
   "execution_count": 6,
   "id": "7735254d-5a0e-47b9-9322-bb15adf12845",
   "metadata": {
    "tags": []
   },
   "outputs": [],
   "source": [
    "# Cleaning phone numbers with white spaces and symbols\n",
    "def clean_phones(phones):\n",
    "    cleaned_phones = []\n",
    "    for phone in phones:\n",
    "        # Remove special characters, symbols, and emojis using regex\n",
    "        phone = re.sub(r'[^\\w\\s]', '', phone)\n",
    "\n",
    "        # Remove whitespaces\n",
    "        phone = ''.join(phone.split())\n",
    "        # Since all US phone numbers are atleat 7 digits long\n",
    "        if len(phone) > 6:\n",
    "            cleaned_phones.append(phone)\n",
    "    return cleaned_phones"
   ]
  },
  {
   "cell_type": "code",
   "execution_count": 7,
   "id": "8a47b514-3afb-4e99-b352-d3ecc6d50a5e",
   "metadata": {
    "tags": []
   },
   "outputs": [],
   "source": [
    "provided_chicago[\"CLEANED_PHONES\"] = provided_chicago[\"PHONES\"].apply(lambda x: clean_phones(x))\n",
    "provided_atlanta[\"CLEANED_PHONES\"] = provided_atlanta[\"PHONES\"].apply(lambda x: clean_phones(x))\n",
    "provided_dallas[\"CLEANED_PHONES\"] = provided_dallas[\"PHONES\"].apply(lambda x: clean_phones(x))\n",
    "provided_detroit[\"CLEANED_PHONES\"] = provided_detroit[\"PHONES\"].apply(lambda x: clean_phones(x))\n",
    "provided_sf[\"CLEANED_PHONES\"] = provided_sf[\"PHONES\"].apply(lambda x: clean_phones(x))\n",
    "provided_ny[\"CLEANED_PHONES\"] = provided_ny[\"PHONES\"].apply(lambda x: clean_phones(x))\n",
    "provided_houston[\"CLEANED_PHONES\"] = provided_houston[\"PHONES\"].apply(lambda x: clean_phones(x))"
   ]
  },
  {
   "cell_type": "code",
   "execution_count": 8,
   "id": "05014a23-7c13-4b74-b99c-71f51ed81e42",
   "metadata": {
    "tags": []
   },
   "outputs": [],
   "source": [
    "# Connecting phone numbers to create vendor communities\n",
    "def connect_numbers(input_numbers):\n",
    "    G = nx.Graph()\n",
    "\n",
    "    for sublist in input_numbers:\n",
    "        if len(sublist) > 1:\n",
    "            for i in range(len(sublist) - 1):\n",
    "                G.add_edge(sublist[i], sublist[i + 1])\n",
    "\n",
    "    communities = list(nx.connected_components(G))\n",
    "    return communities"
   ]
  },
  {
   "cell_type": "code",
   "execution_count": 9,
   "id": "63fa0f14-e279-438f-91a3-4cea7ebfb764",
   "metadata": {
    "tags": []
   },
   "outputs": [],
   "source": [
    "# Assign vendor IDs to communities\n",
    "def assign_ids2communities(communities):\n",
    "    id_dict = {}\n",
    "    id_ = 0\n",
    "    for index, community in enumerate(communities):\n",
    "        for number in community:\n",
    "            id_dict[number] = id_\n",
    "        id_ += 1\n",
    "    return id_dict"
   ]
  },
  {
   "cell_type": "code",
   "execution_count": 10,
   "id": "7788ec33-5cda-4037-82fd-0b51fc25f9ff",
   "metadata": {
    "tags": []
   },
   "outputs": [],
   "source": [
    "# Mapping advertisements to vendor ids\n",
    "def map_ads2ids(phone_numbers, community2id_dict):\n",
    "    ads2ids_list = []\n",
    "    for number in phone_numbers:\n",
    "        if number not in community2id_dict.keys():\n",
    "            community2id_dict[number] = len(community2id_dict)\n",
    "        ads2ids_list.append(community2id_dict[number])\n",
    "    return ads2ids_list"
   ]
  },
  {
   "cell_type": "code",
   "execution_count": 11,
   "id": "0a6d5d97-a26a-4afe-93f0-9261182fa94f",
   "metadata": {
    "tags": []
   },
   "outputs": [],
   "source": [
    "# Generating vendor labels\n",
    "def generate_vendor_labels(df):\n",
    "    input_numbers = df[\"CLEANED_PHONES\"].to_list()\n",
    "    communities = connect_numbers(df[\"CLEANED_PHONES\"].to_list())\n",
    "    community2id_dic = assign_ids2communities(communities)\n",
    "    df['VENDOR'] = df['CLEANED_PHONES'].apply(lambda x: set(map_ads2ids(x, community2id_dic)))\n",
    "    vendors = df['VENDOR'].to_list()\n",
    "    vendors = [int(list(vendor)[0]) if len(vendor) > 0 else np.nan for vendor in vendors]\n",
    "    df['VENDOR'] = vendors\n",
    "    return df"
   ]
  },
  {
   "cell_type": "code",
   "execution_count": 12,
   "id": "03dd0f5c-44f9-4ac8-9acd-b805bd8d8a6e",
   "metadata": {
    "tags": []
   },
   "outputs": [],
   "source": [
    "provided_chicago = generate_vendor_labels(provided_chicago)[['ID', 'TEXT', 'IMAGES', 'VENDOR']]\n",
    "provided_atlanta = generate_vendor_labels(provided_atlanta)[['ID', 'TEXT', 'IMAGES', 'VENDOR']]\n",
    "provided_dallas = generate_vendor_labels(provided_dallas)[['ID', 'TEXT', 'IMAGES', 'VENDOR']]\n",
    "provided_detroit = generate_vendor_labels(provided_detroit)[['ID', 'TEXT', 'IMAGES', 'VENDOR']]\n",
    "provided_sf = generate_vendor_labels(provided_sf)[['ID', 'TEXT', 'IMAGES', 'VENDOR']]\n",
    "provided_ny = generate_vendor_labels(provided_ny)[['ID', 'TEXT', 'IMAGES', 'VENDOR']]\n",
    "provided_houston = generate_vendor_labels(provided_houston)[['ID', 'TEXT', 'IMAGES', 'VENDOR']]"
   ]
  },
  {
   "cell_type": "code",
   "execution_count": 13,
   "id": "dbb1ce06-2679-4262-bbb5-bcf833727c5b",
   "metadata": {
    "tags": []
   },
   "outputs": [],
   "source": [
    "# Removing vendor entries with nan values\n",
    "provided_chicago = provided_chicago[~provided_chicago['VENDOR'].isna()]\n",
    "provided_atlanta = provided_atlanta[~provided_atlanta['VENDOR'].isna()]\n",
    "provided_dallas = provided_dallas[~provided_dallas['VENDOR'].isna()]\n",
    "provided_detroit = provided_detroit[~provided_detroit['VENDOR'].isna()]\n",
    "provided_sf = provided_sf[~provided_sf['VENDOR'].isna()]\n",
    "provided_ny = provided_ny[~provided_ny['VENDOR'].isna()]\n",
    "provided_houston = provided_houston[~provided_houston['VENDOR'].isna()]"
   ]
  },
  {
   "cell_type": "code",
   "execution_count": 14,
   "id": "0155d9b0-d63f-4e5f-a8ce-673490338c11",
   "metadata": {
    "tags": []
   },
   "outputs": [],
   "source": [
    "# Dropping duplicates\n",
    "provided_chicago = provided_chicago.drop_duplicates()\n",
    "provided_atlanta = provided_atlanta.drop_duplicates()\n",
    "provided_dallas = provided_dallas.drop_duplicates()\n",
    "provided_detroit = provided_detroit.drop_duplicates()\n",
    "provided_sf = provided_sf.drop_duplicates()\n",
    "provided_ny = provided_ny.drop_duplicates()\n",
    "provided_houston = provided_houston.drop_duplicates()"
   ]
  },
  {
   "cell_type": "markdown",
   "id": "82c7ac55-6e1e-4dc8-94d1-8382e3adfbf0",
   "metadata": {},
   "source": [
    "# Removing vendors that don't have at least 2 ads"
   ]
  },
  {
   "cell_type": "code",
   "execution_count": 15,
   "id": "a439e70e-9ef4-408d-892f-b85d9e920b19",
   "metadata": {
    "tags": []
   },
   "outputs": [],
   "source": [
    "def remove_vendors_with_one_ad(df):\n",
    "    vendor_freq_dict = dict(Counter(df.VENDOR))\n",
    "    non_relevant_vendor = [k for k, v in vendor_freq_dict.items() if v < 2]\n",
    "    df = df[~df['VENDOR'].isin(non_relevant_vendor)]\n",
    "    # converting the vendor ids to int format\n",
    "    df['VENDOR'] = df['VENDOR'].astype(int)\n",
    "    return df"
   ]
  },
  {
   "cell_type": "code",
   "execution_count": 16,
   "id": "a65abee7-ef89-4790-adec-2611043eca06",
   "metadata": {
    "tags": []
   },
   "outputs": [],
   "source": [
    "provided_chicago = remove_vendors_with_one_ad(provided_chicago)\n",
    "provided_atlanta = remove_vendors_with_one_ad(provided_atlanta)\n",
    "provided_dallas = remove_vendors_with_one_ad(provided_dallas)\n",
    "provided_detroit = remove_vendors_with_one_ad(provided_detroit)\n",
    "provided_sf = remove_vendors_with_one_ad(provided_sf)\n",
    "provided_ny = remove_vendors_with_one_ad(provided_ny)\n",
    "provided_houston = remove_vendors_with_one_ad(provided_houston)"
   ]
  },
  {
   "cell_type": "markdown",
   "id": "ad9f6020-46f7-410c-a1d8-47412a0cf381",
   "metadata": {},
   "source": [
    "# Detecting faces"
   ]
  },
  {
   "cell_type": "code",
   "execution_count": 32,
   "id": "918cfcf1-11e3-4517-aeee-a2a6efe7e7ba",
   "metadata": {
    "tags": []
   },
   "outputs": [
    {
     "name": "stdout",
     "output_type": "stream",
     "text": [
      "Running on device: cuda:0\n"
     ]
    }
   ],
   "source": [
    "device = torch.device('cuda:0' if torch.cuda.is_available() else 'cpu')\n",
    "print('Running on device: {}'.format(device))\n",
    "\n",
    "# Loading the model\n",
    "mtcnn = MTCNN(\n",
    "    keep_all=True,\n",
    "    device=device)"
   ]
  },
  {
   "cell_type": "code",
   "execution_count": 35,
   "id": "c8980e86-aaee-41b0-9497-903c005cb9cf",
   "metadata": {
    "tags": []
   },
   "outputs": [],
   "source": [
    "# Define a function to check if images contain faces\n",
    "def if_images_have_faces(df, city=\"chicago\"):\n",
    "    # Convert city name to lowercase for consistency\n",
    "    city = city.lower()\n",
    "\n",
    "    # Construct the path to the image directory based on the city\n",
    "    image_dir = os.path.join(\"/workspace/persistent/HTClipper/data/IMAGES\", city, \"image\")\n",
    "    \n",
    "    # Load all filenames from the image directory into a set for efficient lookup\n",
    "    filenames = set(os.listdir(image_dir))\n",
    "    \n",
    "    # Define a function to process each row of the dataframe\n",
    "    def process_row(row):\n",
    "        # Split the \"IMAGES\" field into individual image names\n",
    "        images = row[\"IMAGES\"].split('|')\n",
    "        output = []  # Initialize an empty list to store the results\n",
    "\n",
    "        # Iterate over each image name in the row\n",
    "        for image_name in images:\n",
    "            # Check if the image name exists in the set of filenames\n",
    "            if image_name in filenames:\n",
    "                # Construct the full path to the image\n",
    "                image_path = os.path.join(image_dir, image_name)\n",
    "                # Open the image and process it\n",
    "                with Image.open(image_path) as image:\n",
    "                    try:\n",
    "                        # Use MTCNN to detect faces in the image\n",
    "                        boxes, _ = mtcnn.detect(image)\n",
    "                        # Append \"yes\" to the output list if faces are detected, else \"no\"\n",
    "                        output.append(\"yes\" if boxes is not None else \"no\")\n",
    "                    except Exception as e:\n",
    "                        # Handle exceptions (e.g., issues in face detection) and append an \"-\" marker\n",
    "                        output.append(\"-\")\n",
    "                        print(f\"Error processing image {image_name}: {e}\")\n",
    "            else:\n",
    "                # Append \"-\" to the output list if the image name is not found\n",
    "                output.append(\"-\")\n",
    "\n",
    "        # Join the results for this row with \"|\" and return it\n",
    "        return \"|\".join(output)\n",
    "\n",
    "    # Apply the process_row function to each row of the dataframe\n",
    "    df[\"FACES\"] = df.apply(process_row, axis=1)\n",
    "\n",
    "    # Return the modified dataframe\n",
    "    return df"
   ]
  },
  {
   "cell_type": "code",
   "execution_count": null,
   "id": "a65dce29-2209-4aab-ad49-ed2b04f699df",
   "metadata": {
    "tags": []
   },
   "outputs": [],
   "source": [
    "provided_chicago = if_images_have_faces(provided_chicago, city=\"chicago\")\n",
    "provided_atlanta = if_images_have_faces(provided_atlanta, city=\"atlanta\")\n",
    "provided_dallas = if_images_have_faces(provided_dallas, city=\"dallas\")\n",
    "provided_detroit = if_images_have_faces(provided_detroit, city=\"detroit\")\n",
    "provided_sf = if_images_have_faces(provided_sf, city=\"sf\")\n",
    "provided_ny = if_images_have_faces(provided_ny, city=\"ny\")\n",
    "provided_houston = if_images_have_faces(provided_houston, city=\"houston\")"
   ]
  },
  {
   "cell_type": "markdown",
   "id": "90fe9d6e-dac7-4fb6-9ff0-1565eccada8c",
   "metadata": {},
   "source": [
    "# Save data"
   ]
  },
  {
   "cell_type": "code",
   "execution_count": null,
   "id": "eac61949-8642-46bb-b07b-4a1754794e0e",
   "metadata": {},
   "outputs": [],
   "source": [
    "provided_chicago.to_csv(\"/workspace/persistent/HTClipper/data/processed/chicago.csv\")\n",
    "provided_atlanta.to_csv(\"/workspace/persistent/HTClipper/data/processed/atlanta.csv\")\n",
    "provided_dallas.to_csv(\"/workspace/persistent/HTClipper/data/processed/dallas.csv\")\n",
    "provided_detroit.to_csv(\"/workspace/persistent/HTClipper/data/processed/detroit.csv\")\n",
    "provided_sf.to_csv(\"/workspace/persistent/HTClipper/data/processed/sf.csv\")\n",
    "provided_ny.to_csv(\"/workspace/persistent/HTClipper/data/processed/ny.csv\")\n",
    "provided_houston.to_csv(\"/workspace/persistent/HTClipper/data/processed/houston.csv\")"
   ]
  },
  {
   "cell_type": "markdown",
   "id": "fd3ff6f5-0a94-4c1a-875e-623f2c46d741",
   "metadata": {},
   "source": [
    "# Loading the Canada Data"
   ]
  },
  {
   "cell_type": "code",
   "execution_count": 129,
   "id": "11a9fea2-4fab-4da1-a96d-f60c04a34b29",
   "metadata": {
    "tags": []
   },
   "outputs": [],
   "source": [
    "canada_data = pd.read_excel(\"../data/provided/Colarado.xlsx\")"
   ]
  },
  {
   "cell_type": "code",
   "execution_count": 130,
   "id": "e6844896-05d8-4206-af9f-a6091fd24bed",
   "metadata": {
    "tags": []
   },
   "outputs": [],
   "source": [
    "canada_data.drop(columns=[\"Unnamed: 0\"], inplace=True)"
   ]
  },
  {
   "cell_type": "code",
   "execution_count": 131,
   "id": "5161a4b6-f2b6-4143-92af-884eeec9e3e3",
   "metadata": {
    "tags": []
   },
   "outputs": [],
   "source": [
    "canada_data.city = canada_data.city.apply(lambda x: x.lower())"
   ]
  },
  {
   "cell_type": "code",
   "execution_count": 132,
   "id": "d7e2a701-089e-4bf1-9570-75f25812a020",
   "metadata": {
    "tags": []
   },
   "outputs": [],
   "source": [
    "province_dict = {\n",
    "    'calgary': 'alberta',\n",
    "    'edmonton': 'alberta',\n",
    "    'lethbridge': 'alberta',\n",
    "    'banff/canmore': 'alberta',\n",
    "    'airdrie': 'alberta',\n",
    "    'medicine hat': 'alberta',\n",
    "    'red deer': 'alberta',\n",
    "    'lloydminster': 'alberta',  # Note: Lloydminster is split between Alberta and Saskatchewan\n",
    "    'leduc': 'alberta',\n",
    "    'grande prairie': 'alberta',\n",
    "    'fort mcmurray': 'alberta',\n",
    "    'peace river country': 'alberta',\n",
    "    'edson': 'alberta',\n",
    "    'mississauga': 'ontario',\n",
    "    'city of toronto': 'ontario',\n",
    "    'burlington': 'ontario',\n",
    "    'north york': 'ontario',\n",
    "    'greater-toronto': 'ontario',\n",
    "    'richmond hill': 'ontario',\n",
    "    'vaughan': 'ontario',\n",
    "    'brampton': 'ontario',\n",
    "    'durham region': 'ontario',\n",
    "    'kitchener': 'ontario',\n",
    "    'barrie': 'ontario',\n",
    "    'kingston': 'ontario',\n",
    "    'cornwall': 'ontario',\n",
    "    'pembroke': 'ontario',\n",
    "    'belleville': 'ontario',\n",
    "    'peterborough': 'ontario',\n",
    "    'orillia': 'ontario',\n",
    "    'cambridge': 'ontario',\n",
    "    'london': 'ontario',\n",
    "    'guelph': 'ontario',\n",
    "    'windsor': 'ontario',\n",
    "    'thunder bay': 'ontario',\n",
    "    'sault ste marie': 'ontario',\n",
    "    'ottawa' : 'ontario',\n",
    "    'north bay': 'ontario',\n",
    "    'sudbury': 'ontario',\n",
    "    'hamilton': 'ontario',\n",
    "    'niagara region': 'ontario',\n",
    "    'hamilton-niagara': 'ontario',\n",
    "    'brantford-woodstock': 'ontario',\n",
    "    'scarborough': 'ontario',\n",
    "    'vancouver': 'british columbia',\n",
    "    'burnaby/newwest': 'british columbia',\n",
    "    'richmond': 'british columbia',\n",
    "    'delta/surrey/langley': 'british columbia',\n",
    "    'fraser valley': 'british columbia',\n",
    "    'north shore': 'british columbia',\n",
    "    'tricities/pitt/maple': 'british columbia',\n",
    "    'whistler': 'british columbia',\n",
    "    'prince george': 'british columbia',\n",
    "    'fort st. john': 'british columbia',\n",
    "    'skeena-bulkley': 'british columbia',\n",
    "    'kamloops': 'british columbia',\n",
    "    'vernon': 'british columbia',\n",
    "    'kelowna': 'british columbia',\n",
    "    'penticton': 'british columbia',\n",
    "    'kootenays': 'british columbia',\n",
    "    'victoria': 'british columbia',\n",
    "    'nanaimo': 'british columbia',\n",
    "    'comox valley': 'british columbia',\n",
    "    'sunshine coast': 'british columbia',\n",
    "    'metro-vancouver': 'british columbia',\n",
    "    'vancouver-island': 'british columbia',\n",
    "    'quebec city': 'quebec',\n",
    "    'montreal': 'quebec',\n",
    "    'laval': 'quebec',\n",
    "    'trois rivieres': 'quebec',\n",
    "    'sherbrooke': 'quebec',\n",
    "    'saskatoon': 'saskatchewan',\n",
    "    'prince albert': 'saskatchewan',\n",
    "    'north battleford': 'saskatchewan',\n",
    "    'winnipeg': 'manitoba',\n",
    "    'brandon': 'manitoba',\n",
    "    'dieppe': 'new brunswick',\n",
    "    'saint john': 'new brunswick',\n",
    "    'moncton': 'new brunswick',\n",
    "    'fredericton': 'new brunswick',\n",
    "    'nb - other areas': 'new brunswick',\n",
    "    'new-brunswick': 'new brunswick',\n",
    "    'miramichi': 'new brunswick',\n",
    "    \"st. john's\": 'newfoundland and labrador',\n",
    "    'labrador city': 'newfoundland and labrador',\n",
    "    'goose bay': 'newfoundland and labrador',\n",
    "    'lab - other areas': 'newfoundland and labrador',\n",
    "    'newfoundland - other areas': 'newfoundland and labrador',\n",
    "    'labrador': 'newfoundland and labrador',\n",
    "    'newfoundland': 'newfoundland and labrador',\n",
    "    'whitehorse': 'yukon',\n",
    "    'yukon - other areas': 'yukon',\n",
    "    'yukon' : 'yukon',\n",
    "    'yellowknife': 'northwest territories',\n",
    "    'summerside': 'prince edward island',\n",
    "    'charlottetown': 'prince edward island',\n",
    "    'prince-edward': 'prince edward island',\n",
    "    'halifax': 'nova scotia',\n",
    "    'cape breton - sydney': 'nova scotia',\n",
    "    'truro': 'nova scotia',\n",
    "    'halifax - other areas': 'nova scotia',\n",
    "    'interior': 'british columbia'\n",
    "}"
   ]
  },
  {
   "cell_type": "code",
   "execution_count": 133,
   "id": "4c55c174-6849-46f0-ac1a-2e2eda1fa931",
   "metadata": {
    "tags": []
   },
   "outputs": [],
   "source": [
    "canada_data['province'] = canada_data['city'].map(province_dict)"
   ]
  },
  {
   "cell_type": "code",
   "execution_count": 134,
   "id": "e5af8756-5d02-4e4f-bdb6-5282226c433b",
   "metadata": {
    "tags": []
   },
   "outputs": [],
   "source": [
    "separator = ' [SEP] '\n",
    "canada_data['TEXT'] = canada_data.apply(lambda row: f\"{row['title']}{separator}{row['text']}\", axis=1)"
   ]
  },
  {
   "cell_type": "code",
   "execution_count": 135,
   "id": "4590b7f6-9d3c-40b2-85a7-84ea445e095d",
   "metadata": {
    "tags": []
   },
   "outputs": [],
   "source": [
    "canada_data = canada_data[[\"TEXT\", \"phone\", \"province\"]].drop_duplicates()"
   ]
  },
  {
   "cell_type": "code",
   "execution_count": 136,
   "id": "72347c53-2bba-40f8-9ebc-269ce4579c90",
   "metadata": {
    "tags": []
   },
   "outputs": [],
   "source": [
    "vendor_freq_dict = dict(Counter(canada_data.phone))\n",
    "non_relevant_vendor = [k for k, v in vendor_freq_dict.items() if v < 2]\n",
    "canada_data = canada_data[~canada_data['phone'].isin(non_relevant_vendor)]"
   ]
  },
  {
   "cell_type": "code",
   "execution_count": 155,
   "id": "4cb7df0f-6918-4061-bb26-166061ec3fec",
   "metadata": {
    "tags": []
   },
   "outputs": [],
   "source": [
    "phone_nr = canada_data[\"phone\"].to_list()\n",
    "\n",
    "phone_dict = {}\n",
    "for phone in phone_nr:\n",
    "    if phone not in phone_dict.keys():\n",
    "        phone_dict[phone] = len(phone_dict)"
   ]
  },
  {
   "cell_type": "code",
   "execution_count": 157,
   "id": "9cc23e96-03a4-4c85-81cd-9b791cdfc052",
   "metadata": {
    "tags": []
   },
   "outputs": [],
   "source": [
    "canada_data['VENDOR'] = canada_data['phone'].map(phone_dict)"
   ]
  },
  {
   "cell_type": "code",
   "execution_count": 159,
   "id": "04722479-c0d9-4608-8dc5-e5f58f7650f1",
   "metadata": {
    "tags": []
   },
   "outputs": [],
   "source": [
    "canada_data[[\"TEXT\", \"VENDOR\", \"province\"]].to_csv(\"../data/processed/canada.csv\")"
   ]
  },
  {
   "cell_type": "markdown",
   "id": "a60ae184-f776-4d9e-94bc-14d1759fc8a0",
   "metadata": {},
   "source": [
    "# Fetching data for vendors with atleast 3 ads"
   ]
  },
  {
   "cell_type": "code",
   "execution_count": 28,
   "id": "2cb8e50a-e771-48be-a6ed-4d57363bc3f7",
   "metadata": {
    "tags": []
   },
   "outputs": [],
   "source": [
    "chicago_df = pd.read_csv(\"../data/processed/chicago.csv\")\n",
    "atlanta_df = pd.read_csv(\"../data/processed/atlanta.csv\")\n",
    "dallas_df = pd.read_csv(\"../data/processed/dallas.csv\")\n",
    "detroit_df = pd.read_csv(\"../data/processed/detroit.csv\")\n",
    "houston_df = pd.read_csv(\"../data/processed/houston.csv\")\n",
    "ny_df = pd.read_csv(\"../data/processed/ny.csv\")\n",
    "sf_df = pd.read_csv(\"../data/processed/sf.csv\")\n",
    "canada_df = pd.read_csv(\"../data/processed/canada.csv\")"
   ]
  },
  {
   "cell_type": "code",
   "execution_count": 29,
   "id": "3e071a12-932c-477e-a479-1345c284f58a",
   "metadata": {
    "tags": []
   },
   "outputs": [],
   "source": [
    "max_id_present = pd.concat([chicago_df, atlanta_df, dallas_df, detroit_df, houston_df, ny_df, sf_df]).VENDOR.unique().max() + 1\n",
    "canada_df[\"VENDOR\"] = canada_df[\"VENDOR\"].apply(lambda x: max_id_present + x)"
   ]
  },
  {
   "cell_type": "code",
   "execution_count": 30,
   "id": "19f8cf35-8bc5-4eb5-a9a5-719c7021aa45",
   "metadata": {
    "tags": []
   },
   "outputs": [],
   "source": [
    "df = pd.concat([chicago_df, atlanta_df, dallas_df, detroit_df, houston_df, ny_df, sf_df, canada_df])[[\"TEXT\", \"VENDOR\", \"IMAGES\", \"FACES\"]]"
   ]
  },
  {
   "cell_type": "code",
   "execution_count": 32,
   "id": "ff78f1a9-2122-4752-af5e-ca47729dc1a7",
   "metadata": {
    "tags": []
   },
   "outputs": [],
   "source": [
    "df.sample(frac=1).reset_index(drop=True).drop_duplicates().to_csv(\"../data/processed/all.csv\")"
   ]
  },
  {
   "cell_type": "markdown",
   "id": "58940d44-6cb3-4201-b744-ce42e560b76f",
   "metadata": {},
   "source": [
    "# Creating the image dataset"
   ]
  },
  {
   "cell_type": "code",
   "execution_count": 16,
   "id": "4952b779-dca0-4da9-a467-13cda24ec53a",
   "metadata": {
    "tags": []
   },
   "outputs": [],
   "source": [
    "chicago_df = pd.read_csv(\"../data/processed/chicago.csv\")\n",
    "atlanta_df = pd.read_csv(\"../data/processed/atlanta.csv\")\n",
    "dallas_df = pd.read_csv(\"../data/processed/dallas.csv\")\n",
    "detroit_df = pd.read_csv(\"../data/processed/detroit.csv\")\n",
    "houston_df = pd.read_csv(\"../data/processed/houston.csv\")\n",
    "ny_df = pd.read_csv(\"../data/processed/ny.csv\")\n",
    "sf_df = pd.read_csv(\"../data/processed/sf.csv\")\n",
    "canada_df = pd.read_csv(\"../data/processed/canada.csv\")"
   ]
  },
  {
   "cell_type": "code",
   "execution_count": 17,
   "id": "300e5ab8-d956-429e-a766-bd6dce14154f",
   "metadata": {
    "tags": []
   },
   "outputs": [],
   "source": [
    "chicago_df[\"CITY\"] = [\"chicago\"] * chicago_df.shape[0]\n",
    "atlanta_df[\"CITY\"] = [\"atlanta\"] * atlanta_df.shape[0]\n",
    "dallas_df[\"CITY\"] = [\"dallas\"] * dallas_df.shape[0]\n",
    "detroit_df[\"CITY\"] = [\"detroit\"] * detroit_df.shape[0]\n",
    "houston_df[\"CITY\"] = [\"houston\"] * houston_df.shape[0]\n",
    "ny_df[\"CITY\"] = [\"ny\"] * ny_df.shape[0]\n",
    "sf_df[\"CITY\"] = [\"sf\"] * sf_df.shape[0]"
   ]
  },
  {
   "cell_type": "code",
   "execution_count": 18,
   "id": "80cf6067-b2e7-4086-a54d-3f3f5a4c09bb",
   "metadata": {
    "tags": []
   },
   "outputs": [],
   "source": [
    "midwest_df = pd.concat([chicago_df, detroit_df])\n",
    "northeast_df = ny_df\n",
    "south_df = pd.concat([atlanta_df, houston_df, dallas_df])\n",
    "west_df = sf_df"
   ]
  },
  {
   "cell_type": "code",
   "execution_count": 24,
   "id": "480d9552-b55c-4cfc-8484-ffffe98ee162",
   "metadata": {
    "tags": []
   },
   "outputs": [],
   "source": [
    "midwest_df.to_csv(\"../data/processed/midwest.csv\")\n",
    "northeast_df.to_csv(\"../data/processed/northeast.csv\")\n",
    "south_df.to_csv(\"../data/processed/south.csv\")\n",
    "west_df.to_csv(\"../data/processed/west.csv\")"
   ]
  },
  {
   "cell_type": "code",
   "execution_count": 20,
   "id": "b7665f7b-9425-415c-8222-5effae1978f9",
   "metadata": {
    "tags": []
   },
   "outputs": [],
   "source": [
    "def load_image_dataset(df, city=\"chicago\"):\n",
    "    # Define the directory containing the images\n",
    "    image_dir = os.path.join(\"/workspace/persistent/HTClipper/data/IMAGES\", city, \"image\")\n",
    "    \n",
    "    # Initialize lists to store results\n",
    "    id_list, image_list, vendor_list, face_list = [], [], [], []\n",
    "\n",
    "    # Iterate over the dataframe with a progress bar\n",
    "    for index, row in tqdm(df.iterrows(), total=df.shape[0], desc=\"Processing Rows\"):\n",
    "        image_temp_list = row[\"IMAGES\"].split(\"|\")\n",
    "        face_temp_list = row[\"FACES\"].split(\"|\")\n",
    "        assert len(image_temp_list) == len(face_temp_list), \"Mismatch in the number of images and faces\"\n",
    "\n",
    "        # Filter out non-existing image files\n",
    "        valid_indices = [i for i, image in enumerate(image_temp_list) if os.path.isfile(os.path.join(image_dir, image))]\n",
    "        \n",
    "        image_temp_list = [image_temp_list[i] for i in valid_indices]\n",
    "        face_temp_list = [face_temp_list[i] for i in valid_indices]\n",
    "\n",
    "        # Generate corresponding ID and VENDOR lists\n",
    "        id_temp_list = [row[\"ID\"]] * len(image_temp_list)\n",
    "        vendor_temp_list = [row[\"VENDOR\"]] * len(image_temp_list)\n",
    "        \n",
    "        # Appending the image address to the image\n",
    "        image_temp_list = [os.path.join(image_dir, image) for image in image_temp_list]\n",
    "        \n",
    "        # Append to the main lists\n",
    "        id_list.extend(id_temp_list)\n",
    "        image_list.extend(image_temp_list)\n",
    "        vendor_list.extend(vendor_temp_list)\n",
    "        face_list.extend(face_temp_list)\n",
    "    \n",
    "    # Create the resulting dataframe\n",
    "    df_image = pd.DataFrame({\n",
    "        'ID': id_list,\n",
    "        'IMAGE': image_list,\n",
    "        'VENDOR': vendor_list,\n",
    "        'IF_FACE': face_list\n",
    "    })\n",
    "    \n",
    "    return df_image"
   ]
  },
  {
   "cell_type": "code",
   "execution_count": 21,
   "id": "736dcf96-875d-4d64-b0b8-add25270ea14",
   "metadata": {
    "tags": []
   },
   "outputs": [
    {
     "name": "stderr",
     "output_type": "stream",
     "text": [
      "Processing Rows: 100%|██████████| 7011/7011 [00:17<00:00, 410.96it/s]\n",
      "Processing Rows: 100%|██████████| 4951/4951 [00:10<00:00, 462.03it/s]\n",
      "Processing Rows: 100%|██████████| 4043/4043 [00:10<00:00, 395.76it/s]\n",
      "Processing Rows: 100%|██████████| 1553/1553 [00:03<00:00, 449.42it/s]\n",
      "Processing Rows: 100%|██████████| 5094/5094 [00:12<00:00, 400.87it/s]\n",
      "Processing Rows: 100%|██████████| 2599/2599 [00:07<00:00, 362.18it/s]\n",
      "Processing Rows: 100%|██████████| 3262/3262 [00:07<00:00, 465.12it/s]\n"
     ]
    }
   ],
   "source": [
    "df_chicago_image = load_image_dataset(chicago_df, \"chicago\")\n",
    "df_atlanta_image = load_image_dataset(atlanta_df, \"atlanta\")\n",
    "df_dallas_image = load_image_dataset(dallas_df, \"dallas\")\n",
    "df_detroit_image = load_image_dataset(detroit_df, \"detroit\")\n",
    "df_houston_image = load_image_dataset(houston_df, \"houston\")\n",
    "df_ny_image = load_image_dataset(ny_df, \"ny\")\n",
    "df_sf_image = load_image_dataset(sf_df, \"sf\")"
   ]
  },
  {
   "cell_type": "code",
   "execution_count": 25,
   "id": "7df0b426-b6dd-400c-ac9a-48ce150390e9",
   "metadata": {
    "tags": []
   },
   "outputs": [],
   "source": [
    "pd.concat([df_chicago_image, df_detroit_image]).to_csv(\"/workspace/persistent/HTClipper/data/processed/midwest_images.csv\")\n",
    "pd.concat([df_ny_image]).to_csv(\"/workspace/persistent/HTClipper/data/processed/northeast_images.csv\")\n",
    "pd.concat([df_atlanta_image, df_houston_image, df_dallas_image]).to_csv(\"/workspace/persistent/HTClipper/data/processed/south_images.csv\")\n",
    "pd.concat([df_sf_image]).to_csv(\"/workspace/persistent/HTClipper/data/processed/west_images.csv\")"
   ]
  },
  {
   "cell_type": "code",
   "execution_count": 6,
   "id": "f0a3e626-e27a-49ce-8936-2e12226463de",
   "metadata": {
    "tags": []
   },
   "outputs": [],
   "source": [
    "df_chicago_image.to_csv(os.path.join(\"/workspace/persistent/HTClipper/data/processed\", \"chicago_images.csv\"))\n",
    "df_atlanta_image.to_csv(os.path.join(\"/workspace/persistent/HTClipper/data/processed\", \"atlanta_images.csv\"))\n",
    "df_dallas_image.to_csv(os.path.join(\"/workspace/persistent/HTClipper/data/processed\", \"dallas_images.csv\"))\n",
    "df_detroit_image.to_csv(os.path.join(\"/workspace/persistent/HTClipper/data/processed\", \"detroit_images.csv\"))\n",
    "df_houston_image.to_csv(os.path.join(\"/workspace/persistent/HTClipper/data/processed\", \"houston_images.csv\"))\n",
    "df_ny_image.to_csv(os.path.join(\"/workspace/persistent/HTClipper/data/processed\", \"ny_images.csv\"))\n",
    "df_sf_image.to_csv(os.path.join(\"/workspace/persistent/HTClipper/data/processed\", \"sf_images.csv\"))"
   ]
  },
  {
   "cell_type": "code",
   "execution_count": 11,
   "id": "732bb192-45ba-4e08-babe-69e8fca51ef6",
   "metadata": {
    "tags": []
   },
   "outputs": [],
   "source": [
    "df_chicago_image[df_chicago_image[\"IF_FACE\"] == \"yes\"].to_csv(os.path.join(\"/workspace/persistent/HTClipper/data/processed\", \"chicago_faces.csv\"))\n",
    "df_chicago_image[df_chicago_image[\"IF_FACE\"] == \"no\"].to_csv(os.path.join(\"/workspace/persistent/HTClipper/data/processed\", \"chicago_nofaces.csv\"))\n",
    "\n",
    "df_atlanta_image[df_atlanta_image[\"IF_FACE\"] == \"yes\"].to_csv(os.path.join(\"/workspace/persistent/HTClipper/data/processed\", \"atlanta_faces.csv\"))\n",
    "df_atlanta_image[df_atlanta_image[\"IF_FACE\"] == \"no\"].to_csv(os.path.join(\"/workspace/persistent/HTClipper/data/processed\", \"atlanta_nofaces.csv\"))\n",
    "\n",
    "df_dallas_image[df_dallas_image[\"IF_FACE\"] == \"yes\"].to_csv(os.path.join(\"/workspace/persistent/HTClipper/data/processed\", \"dallas_faces.csv\"))\n",
    "df_dallas_image[df_dallas_image[\"IF_FACE\"] == \"no\"].to_csv(os.path.join(\"/workspace/persistent/HTClipper/data/processed\", \"dallas_nofaces.csv\"))\n",
    "\n",
    "df_detroit_image[df_detroit_image[\"IF_FACE\"] == \"yes\"].to_csv(os.path.join(\"/workspace/persistent/HTClipper/data/processed\", \"detroit_faces.csv\"))\n",
    "df_detroit_image[df_detroit_image[\"IF_FACE\"] == \"no\"].to_csv(os.path.join(\"/workspace/persistent/HTClipper/data/processed\", \"detroit_nofaces.csv\"))\n",
    "\n",
    "df_houston_image[df_houston_image[\"IF_FACE\"] == \"yes\"].to_csv(os.path.join(\"/workspace/persistent/HTClipper/data/processed\", \"houston_faces.csv\"))\n",
    "df_houston_image[df_houston_image[\"IF_FACE\"] == \"no\"].to_csv(os.path.join(\"/workspace/persistent/HTClipper/data/processed\", \"houston_nofaces.csv\"))\n",
    "\n",
    "df_ny_image[df_ny_image[\"IF_FACE\"] == \"yes\"].to_csv(os.path.join(\"/workspace/persistent/HTClipper/data/processed\", \"ny_faces.csv\"))\n",
    "df_ny_image[df_ny_image[\"IF_FACE\"] == \"no\"].to_csv(os.path.join(\"/workspace/persistent/HTClipper/data/processed\", \"ny_nofaces.csv\"))\n",
    "\n",
    "df_sf_image[df_sf_image[\"IF_FACE\"] == \"yes\"].to_csv(os.path.join(\"/workspace/persistent/HTClipper/data/processed\", \"sf_faces.csv\"))\n",
    "df_sf_image[df_sf_image[\"IF_FACE\"] == \"no\"].to_csv(os.path.join(\"/workspace/persistent/HTClipper/data/processed\", \"sf_nofaces.csv\"))"
   ]
  },
  {
   "cell_type": "code",
   "execution_count": 12,
   "id": "29b2f963-c815-4ba1-93a9-7e19ea4c0f3a",
   "metadata": {
    "tags": []
   },
   "outputs": [],
   "source": [
    "all_df = pd.concat([df_chicago_image, df_atlanta_image, df_dallas_image, df_detroit_image, df_houston_image, df_ny_image, df_sf_image])"
   ]
  },
  {
   "cell_type": "code",
   "execution_count": 14,
   "id": "15853ff5-9e5a-4d00-938d-0cc5bb3f7185",
   "metadata": {
    "tags": []
   },
   "outputs": [],
   "source": [
    "# Shuffling the dataset\n",
    "all_df = all_df.sample(frac=1)"
   ]
  },
  {
   "cell_type": "code",
   "execution_count": 16,
   "id": "d02094ee-a3fb-43fa-996e-6f3c832affdd",
   "metadata": {
    "tags": []
   },
   "outputs": [],
   "source": [
    "all_df[all_df[\"IF_FACE\"] == \"yes\"].to_csv(os.path.join(\"/workspace/persistent/HTClipper/data/processed\", \"all_faces.csv\"))\n",
    "all_df[all_df[\"IF_FACE\"] == \"no\"].to_csv(os.path.join(\"/workspace/persistent/HTClipper/data/processed\", \"all_nofaces.csv\"))\n",
    "all_df.to_csv(os.path.join(\"/workspace/persistent/HTClipper/data/processed\", \"all_images.csv\"))"
   ]
  },
  {
   "cell_type": "code",
   "execution_count": null,
   "id": "3bfa40b3-27b3-42b3-8956-ce983d2374dc",
   "metadata": {},
   "outputs": [],
   "source": []
  }
 ],
 "metadata": {
  "kernelspec": {
   "display_name": "HT",
   "language": "python",
   "name": "ht"
  },
  "language_info": {
   "codemirror_mode": {
    "name": "ipython",
    "version": 3
   },
   "file_extension": ".py",
   "mimetype": "text/x-python",
   "name": "python",
   "nbconvert_exporter": "python",
   "pygments_lexer": "ipython3",
   "version": "3.10.15"
  }
 },
 "nbformat": 4,
 "nbformat_minor": 5
}
