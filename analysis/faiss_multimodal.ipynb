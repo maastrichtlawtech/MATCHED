{
 "cells": [
  {
   "cell_type": "raw",
   "id": "10df7d83-524b-4b1c-9cbb-7b671c3b6c65",
   "metadata": {
    "vscode": {
     "languageId": "raw"
    }
   },
   "source": [
    "# Code Overview\n",
    "# Performs similarity search for all the multimodal baselines. "
   ]
  },
  {
   "cell_type": "markdown",
   "id": "6d6f0a73",
   "metadata": {},
   "source": [
    "# Importing libraries"
   ]
  },
  {
   "cell_type": "code",
   "execution_count": 2,
   "id": "bfaaa598-d479-40bf-8a84-e3d3d2b4f29a",
   "metadata": {
    "tags": []
   },
   "outputs": [],
   "source": [
    "import os\n",
    "import time\n",
    "import gc\n",
    "\n",
    "import numpy as np\n",
    "from itertools import product\n",
    "\n",
    "from collections import Counter\n",
    "from tqdm import tqdm\n",
    "import torch\n",
    "import faiss\n",
    "\n",
    "import warnings\n",
    "warnings.filterwarnings('ignore')"
   ]
  },
  {
   "cell_type": "markdown",
   "id": "aa74541d-a386-41e7-952e-57bf81e51719",
   "metadata": {},
   "source": [
    "# Loading the Pre-trained embeddings"
   ]
  },
  {
   "cell_type": "code",
   "execution_count": 3,
   "id": "a345e810-e51a-417d-af94-41f7cad56164",
   "metadata": {
    "tags": []
   },
   "outputs": [],
   "source": [
    "def load_embeddings(model_name, city, mode=\"text\"):\n",
    "    assert mode in [\"text\", \"image\", \"multimodal\"]\n",
    "    \n",
    "    # Define directory mapping for models\n",
    "    model_dirs = {\n",
    "        \"CE\": \"/workspace/persistent/HTClipper/models/pickled/embeddings/grouped-and-masked/trained_declutr_vit/CE\",\n",
    "        \"CE-concat\": \"/workspace/persistent/HTClipper/models/pickled/embeddings/multimodal_embeddings/declutr-vit/mean/CE-concat/\",\n",
    "        \"CE+SupCon\": \"/workspace/persistent/HTClipper/models/pickled/embeddings/grouped-and-masked/trained_declutr_vit/CE+SupCon\",\n",
    "        \"CE+SupCon-noAug\": \"/workspace/persistent/HTClipper/models/pickled/embeddings/multimodal_embeddings/declutr-vit/mean/CE+SupCon:noAug/\",\n",
    "        \"CE+SupCon:2\": \"/workspace/persistent/HTClipper/models/pickled/embeddings/multimodal_embeddings/declutr-vit/mean/CE+SupCon:2\",\n",
    "        \"CE+SupCon+ITM\": \"/workspace/persistent/HTClipper/models/pickled/embeddings/multimodal_embeddings/declutr-vit/mean/CE+SupCon+ITM\",\n",
    "        \"CE+SupCon-bs:28-neg:20-gradsteps:1\": \"/workspace/persistent/HTClipper/models/pickled/embeddings/multimodal_embeddings/declutr-vit/mean/CE+SupCon-bs:28-neg:20-gradsteps:1/\",\n",
    "        \"CE+NTXENT\": \"/workspace/persistent/HTClipper/models/pickled/embeddings/multimodal_embeddings/declutr-vit/mean/CE-NTXent\"\n",
    "    }\n",
    "    \n",
    "    # Check if model_name is valid\n",
    "    if model_name not in model_dirs:\n",
    "        raise ValueError(f\"Model '{model_name}' not implemented\")\n",
    "        \n",
    "    emb_dir = model_dirs[model_name]\n",
    "\n",
    "    filenames = {\n",
    "        \"train_emb\": f\"{city}_{mode}data_train.pt\",\n",
    "        \"train_labels\": f\"{city}_labels_train.pt\",\n",
    "        \"test_emb\": f\"{city}_{mode}data_test.pt\",\n",
    "        \"test_labels\": f\"{city}_labels_test.pt\"\n",
    "    }\n",
    "    \n",
    "    # Load embeddings and labels\n",
    "    train_emb = torch.load(os.path.join(emb_dir, filenames[\"train_emb\"]), map_location=torch.device('cpu'))\n",
    "    train_labels = torch.load(os.path.join(emb_dir, filenames[\"train_labels\"]), map_location=torch.device('cpu'))\n",
    "    test_emb = torch.load(os.path.join(emb_dir, filenames[\"test_emb\"]), map_location=torch.device('cpu'))\n",
    "    test_labels = torch.load(os.path.join(emb_dir, filenames[\"test_labels\"]), map_location=torch.device('cpu'))\n",
    "    \n",
    "    return train_emb, train_labels, test_emb, test_labels"
   ]
  },
  {
   "cell_type": "code",
   "execution_count": 4,
   "id": "40569998-15de-476e-a4e8-fed4ebb88592",
   "metadata": {
    "tags": []
   },
   "outputs": [],
   "source": [
    "def load_embeddings_for_clipstylemodels(model_name, city, mode=\"text\"):\n",
    "    assert mode in [\"text\", \"image\", \"multimodal\"]\n",
    "    \n",
    "    # Define directory mapping for models\n",
    "    model_dirs = {\n",
    "        \"CLIP\": \"/workspace/persistent/HTClipper/models/pickled/embeddings/grouped-and-masked/trained_declutr_vit/CLIP\",\n",
    "        \"CLIPITM\": \"/workspace/persistent/HTClipper/models/pickled/embeddings/grouped-and-masked/trained_declutr_vit/CLIPITM/\",\n",
    "        \"BLIP2\": \"/workspace/persistent/HTClipper/models/pickled/embeddings/grouped-and-masked/trained_declutr_vit/BLIP2\",\n",
    "        \"BLIP2conditional\": \"/workspace/persistent/HTClipper/models/pickled/embeddings/grouped-and-masked/trained_declutr_vit/BLIP2Conditional\",\n",
    "    }\n",
    "    \n",
    "    # Check if model_name is valid\n",
    "    if model_name not in model_dirs:\n",
    "        raise ValueError(f\"Model '{model_name}' not implemented\")\n",
    "        \n",
    "    emb_dir = model_dirs[model_name]\n",
    "\n",
    "    if mode == \"multimodal\":\n",
    "        filenames = {\n",
    "            \"train_emb\": f\"train_{mode}_embeddings_{city}_vendor.npy\",\n",
    "            \"train_labels\": f\"train_labels_{city}_vendor.npy\",\n",
    "            \"test_emb\": f\"test_{mode}_embeddings_{city}_vendor.npy\",\n",
    "            \"test_labels\": f\"test_labels_{city}_vendor.npy\",\n",
    "        }\n",
    "        \n",
    "    else:\n",
    "        filenames = {\n",
    "            \"train_emb\": f\"train_{mode}_embeddings_{city}_vendors.npy\",\n",
    "            \"train_labels\": f\"train_{mode}_labels_{city}_vendors.npy\",\n",
    "            \"test_emb\": f\"test_{mode}_embeddings_{city}_vendors.npy\",\n",
    "            \"test_labels\": f\"test_{mode}_labels_{city}_vendors.npy\",\n",
    "        }\n",
    "        \n",
    "    # Load embeddings and labels\n",
    "    train_emb = torch.from_numpy(np.load(os.path.join(emb_dir, filenames[\"train_emb\"])))\n",
    "    train_labels = torch.from_numpy(np.load(os.path.join(emb_dir, filenames[\"train_labels\"])))\n",
    "    test_emb = torch.from_numpy(np.load(os.path.join(emb_dir, filenames[\"test_emb\"])))\n",
    "    test_labels = torch.from_numpy(np.load(os.path.join(emb_dir, filenames[\"test_labels\"])))\n",
    "    \n",
    "    return train_emb, train_labels, test_emb, test_labels"
   ]
  },
  {
   "cell_type": "code",
   "execution_count": 5,
   "id": "10f31671-8fe0-4505-8bae-b5af869e3b8f",
   "metadata": {
    "tags": []
   },
   "outputs": [],
   "source": [
    "def load_embeddings_for_newclipstylemodels(model_name, city, mode=\"text\"):\n",
    "    assert mode in [\"text\", \"image\", \"multimodal\"]\n",
    "    \n",
    "    # Define directory mapping for models\n",
    "    model_dirs = {\n",
    "        \"BLIP2conditional\": \"/workspace/persistent/HTClipper/models/pickled/embeddings/grouped-and-masked/trained_declutr_vit/BLIP2Conditional\",\n",
    "        \"BigCLIP\": \"/workspace/persistent/HTClipper/models/pickled/embeddings/grouped-and-masked/trained_declutr_vit/BigCLIP\",    \n",
    "        \"CLIP_CLS\": \"/workspace/persistent/HTClipper/models/pickled/embeddings/grouped-and-masked/trained_declutr_vit/CLIP-CLS\"\n",
    "    }\n",
    "    \n",
    "    # Check if model_name is valid\n",
    "    if model_name not in model_dirs:\n",
    "        raise ValueError(f\"Model '{model_name}' not implemented\")\n",
    "        \n",
    "    emb_dir = model_dirs[model_name]\n",
    "    \n",
    "    filenames = {\n",
    "        \"train_emb\": f\"train_{mode}_embeddings_{city}_vendors.npy\",\n",
    "        \"train_labels\": f\"train_labels_{city}_vendors.npy\",\n",
    "        \"test_emb\": f\"test_{mode}_embeddings_{city}_vendors.npy\",\n",
    "        \"test_labels\": f\"test_labels_{city}_vendors.npy\",\n",
    "    }\n",
    "    \n",
    "    # Load embeddings and labels\n",
    "    train_emb = torch.from_numpy(np.load(os.path.join(emb_dir, filenames[\"train_emb\"])))\n",
    "    train_labels = torch.from_numpy(np.load(os.path.join(emb_dir, filenames[\"train_labels\"])))\n",
    "    test_emb = torch.from_numpy(np.load(os.path.join(emb_dir, filenames[\"test_emb\"])))\n",
    "    test_labels = torch.from_numpy(np.load(os.path.join(emb_dir, filenames[\"test_labels\"])))\n",
    "    \n",
    "    return train_emb, train_labels, test_emb, test_labels"
   ]
  },
  {
   "cell_type": "code",
   "execution_count": 6,
   "id": "fcc970a2-53b4-4fa1-8f27-84f2e1ae79af",
   "metadata": {
    "tags": []
   },
   "outputs": [],
   "source": [
    "def load_embeddings_for_finetunedclipstylemodels(model_name, city, mode=\"text\"):\n",
    "    assert mode in [\"text\", \"image\", \"multimodal\"]\n",
    "    \n",
    "    # Define directory mapping for models\n",
    "    model_dirs = {\n",
    "        \"CLIP\": \"/workspace/persistent/HTClipper/models/pickled/embeddings/grouped-and-masked/finetuned_declutr_vit/CLIP/\",\n",
    "        \"CLIPITM\": \"/workspace/persistent/HTClipper/models/pickled/embeddings/grouped-and-masked/finetuned_declutr_vit/CLIPITM/\",    \n",
    "        \"BLIP2\": \"/workspace/persistent/HTClipper/models/pickled/embeddings/grouped-and-masked/finetuned_declutr_vit/BLIP2/\",\n",
    "        \"CLIP-EOS\": \"/workspace/persistent/HTClipper/models/pickled/embeddings/grouped-and-masked/finetuned_declutr_vit/CLIP-EOS/\",\n",
    "        \"BLIP2-CESupCon\": \"/workspace/persistent/HTClipper/models/pickled/embeddings/grouped-and-masked/finetuned_declutr_vit/BLIP2-CESupCon\",\n",
    "        \"unCLIP\": \"/workspace/persistent/HTClipper/models/pickled/embeddings/grouped-and-masked/un-normalized/finetuned_declutr_vit/CLIP/\",\n",
    "        \"CLIP-EOS-CESupCon\": \"/workspace/persistent/HTClipper/models/pickled/embeddings/grouped-and-masked/finetuned_declutr_vit/CLIP-EOS-CESupCon/\"\n",
    "    }\n",
    "    \n",
    "    # Check if model_name is valid\n",
    "    if model_name not in model_dirs:\n",
    "        raise ValueError(f\"Model '{model_name}' not implemented\")\n",
    "        \n",
    "    emb_dir = model_dirs[model_name]\n",
    "    \n",
    "    filenames = {\n",
    "        \"train_emb\": f\"train_{mode}_embeddings_{city}_vendor.npy\",\n",
    "        \"train_labels\": f\"train_labels_{city}_vendor.npy\",\n",
    "        \"test_emb\": f\"test_{mode}_embeddings_{city}_vendor.npy\",\n",
    "        \"test_labels\": f\"test_labels_{city}_vendor.npy\",\n",
    "    }\n",
    "    \n",
    "    # Load embeddings and labels\n",
    "    train_emb = torch.from_numpy(np.load(os.path.join(emb_dir, filenames[\"train_emb\"])))\n",
    "    train_labels = torch.from_numpy(np.load(os.path.join(emb_dir, filenames[\"train_labels\"])))\n",
    "    test_emb = torch.from_numpy(np.load(os.path.join(emb_dir, filenames[\"test_emb\"])))\n",
    "    test_labels = torch.from_numpy(np.load(os.path.join(emb_dir, filenames[\"test_labels\"])))\n",
    "    \n",
    "    return train_emb, train_labels, test_emb, test_labels"
   ]
  },
  {
   "cell_type": "code",
   "execution_count": 7,
   "id": "d9ae0d4f-76ad-49f4-bc94-c635a071848a",
   "metadata": {
    "tags": []
   },
   "outputs": [],
   "source": [
    "def load_embeddings_for_clipstylemodels_ids(model_name, city, mode=\"text\"):\n",
    "    assert mode in [\"text\", \"image\", \"multimodal\"]\n",
    "    \n",
    "    # Define directory mapping for models\n",
    "    model_dirs = {\n",
    "        \"CLIP\": \"/workspace/persistent/HTClipper/models/pickled/embeddings/grouped-and-masked/trained_declutr_vit/CLIP\",\n",
    "        \"CLIPITM\": \"/workspace/persistent/HTClipper/models/pickled/embeddings/grouped-and-masked/trained_declutr_vit/CLIPITM/\",\n",
    "        \"BLIP2\": \"/workspace/persistent/HTClipper/models/pickled/embeddings/grouped-and-masked/trained_declutr_vit/BLIP2\"\n",
    "    }\n",
    "    \n",
    "    # Check if model_name is valid\n",
    "    if model_name not in model_dirs:\n",
    "        raise ValueError(f\"Model '{model_name}' not implemented\")\n",
    "        \n",
    "    emb_dir = model_dirs[model_name]\n",
    "\n",
    "    filenames = {\n",
    "        \"train_emb\": f\"train_{mode}_embeddings_{city}_ids.npy\",\n",
    "        \"train_labels\": f\"train_{mode}_labels_{city}_ids.npy\",\n",
    "        \"test_emb\": f\"test_{mode}_embeddings_{city}_ids.npy\",\n",
    "        \"test_labels\": f\"test_{mode}_labels_{city}_ids.npy\",\n",
    "    }\n",
    "    \n",
    "    # Load embeddings and labels\n",
    "    train_emb = torch.from_numpy(np.load(os.path.join(emb_dir, filenames[\"train_emb\"])))\n",
    "    train_labels = torch.from_numpy(np.load(os.path.join(emb_dir, filenames[\"train_labels\"])))\n",
    "    test_emb = torch.from_numpy(np.load(os.path.join(emb_dir, filenames[\"test_emb\"])))\n",
    "    test_labels = torch.from_numpy(np.load(os.path.join(emb_dir, filenames[\"test_labels\"])))\n",
    "    \n",
    "    return train_emb, train_labels, test_emb, test_labels"
   ]
  },
  {
   "cell_type": "code",
   "execution_count": 8,
   "id": "f510c0d1-5698-4fbe-868e-3395117c62f7",
   "metadata": {
    "tags": []
   },
   "outputs": [],
   "source": [
    "def load_embeddings_for_updatedclipstylemodels(model_name, city, mode=\"text\"):\n",
    "    assert mode in [\"text\", \"image\", \"multimodal\"]\n",
    "    \n",
    "    # Define directory mapping for models\n",
    "    model_dirs = {\n",
    "        \"BLIPConditional\": \"/workspace/persistent/HTClipper/models/pickled/embeddings/grouped-and-masked/trained_declutr_vit/updatedBLIP2Conditional/\",\n",
    "        \"CLIPITM\": \"/workspace/persistent/HTClipper/models/pickled/embeddings/grouped-and-masked/trained_declutr_vit/updatedCLIPITM/\",\n",
    "        \"BLIP2\": \"/workspace/persistent/HTClipper/models/pickled/embeddings/grouped-and-masked/trained_declutr_vit/updatedBLIP2\"\n",
    "    }\n",
    "    \n",
    "    # Check if model_name is valid\n",
    "    if model_name not in model_dirs:\n",
    "        raise ValueError(f\"Model '{model_name}' not implemented\")\n",
    "        \n",
    "    emb_dir = model_dirs[model_name]\n",
    "\n",
    "    filenames = {\n",
    "        \"train_emb\": f\"train_{mode}_embeddings_{city}_vendor.npy\",\n",
    "        \"train_labels\": f\"train_labels_{city}_vendor.npy\",\n",
    "        \"test_emb\": f\"test_{mode}_embeddings_{city}_vendor.npy\",\n",
    "        \"test_labels\": f\"test_labels_{city}_vendor.npy\",\n",
    "    }\n",
    "    \n",
    "    # Load embeddings and labels\n",
    "    train_emb = torch.from_numpy(np.load(os.path.join(emb_dir, filenames[\"train_emb\"])))\n",
    "    train_labels = torch.from_numpy(np.load(os.path.join(emb_dir, filenames[\"train_labels\"])))\n",
    "    test_emb = torch.from_numpy(np.load(os.path.join(emb_dir, filenames[\"test_emb\"])))\n",
    "    test_labels = torch.from_numpy(np.load(os.path.join(emb_dir, filenames[\"test_labels\"])))\n",
    "    \n",
    "    return train_emb, train_labels, test_emb, test_labels"
   ]
  },
  {
   "cell_type": "code",
   "execution_count": 9,
   "id": "f7d3b506-5705-4205-9669-5ea2fb70b479",
   "metadata": {
    "tags": []
   },
   "outputs": [],
   "source": [
    "def load_embedddings_for_e2e(model_name, city, mode=\"text\"):\n",
    "    assert mode in [\"text\", \"image\", \"multimodal\"]\n",
    "    \n",
    "    # Define directory mapping for models\n",
    "    model_dirs = {\n",
    "        \"CE\": \"/workspace/persistent/HTClipper/models/pickled/embeddings/grouped-and-masked/trained_declutr_vit/CE\",\n",
    "        \"CE+SupCon\": \"/workspace/persistent/HTClipper/models/pickled/embeddings/grouped-and-masked/trained_declutr_vit/CE+SupCon\",\n",
    "    }\n",
    "    \n",
    "    # Check if model_name is valid\n",
    "    if model_name not in model_dirs:\n",
    "        raise ValueError(f\"Model '{model_name}' not implemented\")\n",
    "        \n",
    "    emb_dir = model_dirs[model_name]\n",
    "    \n",
    "    if model_name == \"CE+SupCon\":\n",
    "        filenames = {\n",
    "            \"train_emb\": f\"{city}_{mode}data_train.pt\",\n",
    "            \"train_labels\": f\"{city}_labels_{mode}_train.pt\",\n",
    "            \"test_emb\": f\"{city}_{mode}data_test.pt\",\n",
    "            \"test_labels\": f\"{city}_labels_{mode}_test.pt\",\n",
    "        }\n",
    "    else:\n",
    "        filenames = {\n",
    "            \"train_emb\": f\"{city}_{mode}data_train.pt\",\n",
    "            \"train_labels\": f\"{city}_labels_train.pt\",\n",
    "            \"test_emb\": f\"{city}_{mode}data_test.pt\",\n",
    "            \"test_labels\": f\"{city}_labels_test.pt\",\n",
    "        }\n",
    "    \n",
    "    # Load embeddings and labels\n",
    "    train_emb = torch.load(os.path.join(emb_dir, filenames[\"train_emb\"]), map_location=torch.device('cpu'))\n",
    "    train_labels = torch.load(os.path.join(emb_dir, filenames[\"train_labels\"]), map_location=torch.device('cpu'))\n",
    "    test_emb = torch.load(os.path.join(emb_dir, filenames[\"test_emb\"]), map_location=torch.device('cpu'))\n",
    "    test_labels = torch.load(os.path.join(emb_dir, filenames[\"test_labels\"]), map_location=torch.device('cpu'))\n",
    "    \n",
    "    return train_emb, train_labels, test_emb, test_labels"
   ]
  },
  {
   "cell_type": "markdown",
   "id": "4e71d069-d066-4d2f-9a27-3379ccaece59",
   "metadata": {},
   "source": [
    "# Loading new embeddings"
   ]
  },
  {
   "cell_type": "code",
   "execution_count": 11,
   "id": "513a3d0c-407d-4460-85a3-a22f99f94ac5",
   "metadata": {
    "tags": []
   },
   "outputs": [],
   "source": [
    "def load_e2e_classifier_embeddings(model_name, city, mode=\"text\"):\n",
    "    assert mode in [\"text\", \"image\", \"multimodal\"]\n",
    "    \n",
    "    # Define directory mapping for models\n",
    "    model_dirs = {\n",
    "        \"CE-SupCon-mean-0.1\": \"/workspace/persistent/HTClipper/models/pickled/embeddings/grouped-and-masked/multimodal_baselines/E2E/CE-SupCon-mean-0.1\",\n",
    "        \"CE-SupCon-mean-0.5\": \"/workspace/persistent/HTClipper/models/pickled/embeddings/grouped-and-masked/multimodal_baselines/E2E/CE-SupCon-mean-0.5\",\n",
    "        \"CE-attention\": \"/workspace/persistent/HTClipper/models/pickled/embeddings/grouped-and-masked/multimodal_baselines/E2E/CE-attention\",\n",
    "        \"CE-concat\": \"/workspace/persistent/HTClipper/models/pickled/embeddings/grouped-and-masked/multimodal_baselines/E2E/CE-concat\",\n",
    "        \"CE-mean\": \"/workspace/persistent/HTClipper/models/pickled/embeddings/grouped-and-masked/multimodal_baselines/E2E/CE-mean\",\n",
    "        \"CE-learned_fusion\": \"/workspace/persistent/HTClipper/models/pickled/embeddings/grouped-and-masked/multimodal_baselines/E2E/CE-learned_fusion\",\n",
    "    }\n",
    "    \n",
    "    # Check if model_name is valid\n",
    "    if model_name not in model_dirs:\n",
    "        raise ValueError(f\"Model '{model_name}' not implemented\")\n",
    "        \n",
    "    emb_dir = model_dirs[model_name]    \n",
    "    \n",
    "    filenames = {\n",
    "        \"train_emb\": f\"{city}_{mode}data_train.pt\",\n",
    "        \"train_labels\": f\"{city}_labels_train.pt\",\n",
    "        \"test_emb\": f\"{city}_{mode}data_test.pt\",\n",
    "        \"test_labels\": f\"{city}_labels_test.pt\"\n",
    "    }\n",
    "    \n",
    "    # Load embeddings and labels\n",
    "    train_emb = torch.load(os.path.join(emb_dir, filenames[\"train_emb\"]), map_location=torch.device('cpu'))\n",
    "    train_labels = torch.load(os.path.join(emb_dir, filenames[\"train_labels\"]), map_location=torch.device('cpu'))\n",
    "    test_emb = torch.load(os.path.join(emb_dir, filenames[\"test_emb\"]), map_location=torch.device('cpu'))\n",
    "    test_labels = torch.load(os.path.join(emb_dir, filenames[\"test_labels\"]), map_location=torch.device('cpu'))\n",
    "    \n",
    "    return train_emb, train_labels, test_emb, test_labels"
   ]
  },
  {
   "cell_type": "code",
   "execution_count": 12,
   "id": "1122ad04-fcf0-465d-9ef9-e6f248d4c092",
   "metadata": {
    "tags": []
   },
   "outputs": [],
   "source": [
    "def load_embeddings_for_finetunedclipstylemodels(model_name, city, mode=\"text\"):\n",
    "    assert mode in [\"text\", \"image\", \"multimodal\"]\n",
    "    \n",
    "    # Define directory mapping for models\n",
    "    model_dirs = {\n",
    "        \"CLIP\": \"/workspace/persistent/HTClipper/models/pickled/embeddings/grouped-and-masked/multimodal_baselines/finetuned/CLIP-CE/\",\n",
    "        \"CLIPITM\": \"/workspace/persistent/HTClipper/models/pickled/embeddings/grouped-and-masked/multimodal_baselines/finetuned/CLIPITM-CE/\",    \n",
    "        \"BLIP2\": \"/workspace/persistent/HTClipper/models/pickled/embeddings/grouped-and-masked/multimodal_baselines/finetuned/BLIP2-CE/\",\n",
    "        \"BLIP2-SupCon\": \"/workspace/persistent/HTClipper/models/pickled/embeddings/grouped-and-masked/multimodal_baselines/finetuned/BLIP2-CE-SupCon\",\n",
    "    }\n",
    "    \n",
    "    # Check if model_name is valid\n",
    "    if model_name not in model_dirs:\n",
    "        raise ValueError(f\"Model '{model_name}' not implemented\")\n",
    "        \n",
    "    emb_dir = model_dirs[model_name]\n",
    "    \n",
    "    \n",
    "    filenames = {\n",
    "        \"train_emb\": f\"train_{mode}_embeddings_{city}_vendor.npy\",\n",
    "        \"train_labels\": f\"train_labels_{city}_vendor.npy\",\n",
    "        \"test_emb\": f\"test_{mode}_embeddings_{city}_vendor.npy\",\n",
    "        \"test_labels\": f\"test_labels_{city}_vendor.npy\",\n",
    "    }\n",
    "    \n",
    "    # Load embeddings and labels\n",
    "    train_emb = torch.from_numpy(np.load(os.path.join(emb_dir, filenames[\"train_emb\"])))\n",
    "    train_labels = torch.from_numpy(np.load(os.path.join(emb_dir, filenames[\"train_labels\"])))\n",
    "    test_emb = torch.from_numpy(np.load(os.path.join(emb_dir, filenames[\"test_emb\"])))\n",
    "    test_labels = torch.from_numpy(np.load(os.path.join(emb_dir, filenames[\"test_labels\"])))\n",
    "    \n",
    "    return train_emb, train_labels, test_emb, test_labels"
   ]
  },
  {
   "cell_type": "markdown",
   "id": "b9824f6e-7ba6-4c3e-8570-76aa9ce8bfdd",
   "metadata": {},
   "source": [
    "# Helper functions"
   ]
  },
  {
   "cell_type": "code",
   "execution_count": 13,
   "id": "53e32168-73d4-46fd-8b7a-665bc5c05395",
   "metadata": {
    "tags": []
   },
   "outputs": [],
   "source": [
    "# Global variables\n",
    "dim = None\n",
    "index = None\n",
    "train_embeddings_np = None\n",
    "train_labels_np = None\n",
    "\n",
    "# @profile\n",
    "def initialize_globals(train_embeddings, train_labels):\n",
    "    global dim, index, train_embeddings_np, train_labels_tensor\n",
    "    start_time = time.time()\n",
    "    dim = train_embeddings.shape[1]\n",
    "    index = faiss.IndexFlatL2(dim)\n",
    "    \n",
    "    train_embeddings_np = train_embeddings.numpy()\n",
    "    batch_size = 10000\n",
    "    num_batches = (train_embeddings_np.shape[0] + batch_size - 1) // batch_size\n",
    "\n",
    "    for i in range(num_batches):\n",
    "        start_idx = i * batch_size\n",
    "        end_idx = min((i + 1) * batch_size, train_embeddings_np.shape[0])\n",
    "        batch_embeddings = train_embeddings_np[start_idx:end_idx]\n",
    "        index.add(batch_embeddings)\n",
    "        # print(f\"Added batch {i+1}/{num_batches} to index.\")\n",
    "    \n",
    "    train_labels_tensor = train_labels\n",
    "    elapsed_time = time.time() - start_time\n",
    "    print(f\"Global variables initialized in {elapsed_time:.2f} seconds.\")\n",
    "\n",
    "def recall_at_k(actual, predicted, k):\n",
    "    recall_list = []\n",
    "    for act, pred in zip(actual, predicted):\n",
    "        act_set = set(act.numpy())\n",
    "        pred_set = set(pred[:k].numpy())\n",
    "        recall_list.append(len(act_set & pred_set) / float(len(act_set)))\n",
    "    return recall_list\n",
    "\n",
    "def generate_rprecision_results(test_embeddings, test_labels):\n",
    "    unique_vendors = torch.unique(test_labels)\n",
    "    train_labels_np = train_labels_tensor.numpy()\n",
    "    vendor_dict = {int(vendor_id): np.sum(train_labels_np == int(vendor_id)) for vendor_id in unique_vendors}\n",
    "    r_precision_score = {}\n",
    "\n",
    "    for vendor_id in tqdm(unique_vendors, total=len(unique_vendors), desc=\"Calculating R-precision\"):\n",
    "        vendor_id = int(vendor_id)\n",
    "        test_adsidx = (test_labels == vendor_id).nonzero(as_tuple=True)[0]\n",
    "\n",
    "        if len(test_adsidx) == 0 or vendor_dict[vendor_id] == 0:\n",
    "            continue\n",
    "\n",
    "        test_vendor_embeddings = test_embeddings[test_adsidx]\n",
    "        if test_vendor_embeddings.ndim == 1:\n",
    "            test_vendor_embeddings = test_vendor_embeddings.unsqueeze(0)\n",
    "        test_vendor_embeddings_np = test_vendor_embeddings.numpy()\n",
    "\n",
    "        k = vendor_dict[vendor_id]\n",
    "        if k > train_embeddings_np.shape[0]:\n",
    "            k = train_embeddings_np.shape[0]\n",
    "\n",
    "        _, I = index.search(test_vendor_embeddings_np, int(k))\n",
    "\n",
    "        predicted_label_list = [torch.tensor(I[index]) for index in range(len(test_adsidx))]\n",
    "        true_label_list = [torch.where(train_labels_tensor == vendor_id)[0] for _ in range(len(test_adsidx))]\n",
    "        \n",
    "        r_precision_score[vendor_id] = np.mean(recall_at_k(true_label_list, predicted_label_list, k))\n",
    "    \n",
    "    r_precision_mean = np.mean(list(r_precision_score.values()))\n",
    "    r_precision_std = np.std(list(r_precision_score.values()))\n",
    "\n",
    "    print(f\"R precision mean: {round(r_precision_mean, 4)} ± {round(r_precision_std, 2)}\")\n",
    "    # print(f\"R precision std: {r_precision_std}\")\n",
    "    \n",
    "    return r_precision_mean, r_precision_std\n",
    "\n",
    "def mrr_at_k(actual, predicted, k_):\n",
    "    mrr = 0.0\n",
    "    for act, pred in zip(actual, predicted):\n",
    "        act_set = set(act.numpy())\n",
    "        for i, p in enumerate(pred[:k_].numpy(), 1):\n",
    "            if p in act_set:\n",
    "                mrr += 1 / i\n",
    "                break\n",
    "    return mrr / len(actual) if actual else 0\n",
    "\n",
    "def generate_mrr_at_1_results(test_embeddings, test_labels, k):\n",
    "    unique_labels = torch.unique(test_labels)\n",
    "    mrr_score = []\n",
    "\n",
    "    for label in tqdm(unique_labels, total=len(unique_labels), desc=f\"Calculating MRR@{k}\"):\n",
    "        label_id = int(label)\n",
    "        test_idx = (test_labels == label_id).nonzero(as_tuple=True)[0]\n",
    "\n",
    "        if len(test_idx) == 0:\n",
    "            continue\n",
    "\n",
    "        test_embeddings_np = test_embeddings[test_idx].numpy()\n",
    "\n",
    "        D, I = index.search(test_embeddings_np, 1)\n",
    "\n",
    "        predicted_label_list = [train_labels_tensor[I[index]] for index in range(len(test_idx))]\n",
    "        true_label_list = [train_labels_tensor[torch.where(train_labels_tensor == label_id)[0]] for _ in range(len(test_idx))]\n",
    "        \n",
    "        mrr_score.append(mrr_at_k(true_label_list, predicted_label_list, k_=k))\n",
    "\n",
    "    mrr_mean = np.mean(mrr_score)\n",
    "    mrr_std = np.std(mrr_score)\n",
    "    print(f\"MRR@{k} mean: {round(mrr_mean, 4)} ± {round(mrr_std, 2)}\")\n",
    "    # print(f\"MRR@{k} std: {mrr_std}\")\n",
    "    \n",
    "    return mrr_mean, mrr_std\n",
    "\n",
    "def generate_macro_rprecision_results(test_embeddings, test_labels):\n",
    "    unique_vendors = torch.unique(test_labels)\n",
    "    train_labels_np = train_labels_tensor.numpy()\n",
    "    vendor_dict = {int(vendor_id): np.sum(train_labels_np == int(vendor_id)) for vendor_id in unique_vendors}\n",
    "    r_precision_score = {}\n",
    "    total_samples = 0\n",
    "\n",
    "    for vendor_id in tqdm(unique_vendors, total=len(unique_vendors), desc=\"Calculating R-precision\"):\n",
    "        vendor_id = int(vendor_id)\n",
    "        test_adsidx = (test_labels == vendor_id).nonzero(as_tuple=True)[0]\n",
    "\n",
    "        if len(test_adsidx) == 0 or vendor_dict[vendor_id] == 0:\n",
    "            continue\n",
    "\n",
    "        test_vendor_embeddings = test_embeddings[test_adsidx]\n",
    "        if test_vendor_embeddings.ndim == 1:\n",
    "            test_vendor_embeddings = test_vendor_embeddings.unsqueeze(0)\n",
    "        test_vendor_embeddings_np = test_vendor_embeddings.numpy()\n",
    "\n",
    "        k = vendor_dict[vendor_id]\n",
    "        if k > train_embeddings_np.shape[0]:\n",
    "            k = train_embeddings_np.shape[0]\n",
    "\n",
    "        _, I = index.search(test_vendor_embeddings_np, int(k))\n",
    "\n",
    "        predicted_label_list = [torch.tensor(I[index]) for index in range(len(test_adsidx))]\n",
    "        true_label_list = [torch.where(train_labels_tensor == vendor_id)[0] for _ in range(len(test_adsidx))]\n",
    "        \n",
    "        r_precision_score[vendor_id] = np.mean(recall_at_k(true_label_list, predicted_label_list, k))\n",
    "        total_samples += len(test_adsidx)\n",
    "\n",
    "    weighted_r_precision_sum = sum(r_precision_score[vendor_id] * len((test_labels == vendor_id).nonzero(as_tuple=True)[0]) for vendor_id in r_precision_score.keys())\n",
    "    macro_r_precision = weighted_r_precision_sum / total_samples\n",
    "\n",
    "    print(f\"Macro R-precision: {macro_r_precision}\")\n",
    "    \n",
    "    return macro_r_precision"
   ]
  },
  {
   "cell_type": "code",
   "execution_count": 14,
   "id": "20f2cb08-c321-4f26-bcd5-b952e7f77b5d",
   "metadata": {
    "tags": []
   },
   "outputs": [],
   "source": [
    "def precision_at_k(actual, predicted, k):\n",
    "    precision_list = []\n",
    "    for act, pred in zip(actual, predicted):\n",
    "        act_set = set(act.numpy())\n",
    "        pred_set = set(pred[:k].numpy())\n",
    "        precision_list.append(len(act_set & pred_set) / float(k))\n",
    "    return precision_list\n",
    "\n",
    "def f1_at_k(actual, predicted, k):\n",
    "    f1_list = []\n",
    "    precision_list = precision_at_k(actual, predicted, k)\n",
    "    recall_list = recall_at_k(actual, predicted, k)\n",
    "    for precision, recall in zip(precision_list, recall_list):\n",
    "        if precision + recall > 0:\n",
    "            f1 = 2 * (precision * recall) / (precision + recall)\n",
    "        else:\n",
    "            f1 = 0\n",
    "        f1_list.append(f1)\n",
    "    return f1_list\n",
    "\n",
    "def generate_macro_f1_at_x_results(test_embeddings, test_labels):\n",
    "    unique_vendors = torch.unique(test_labels)\n",
    "    train_labels_np = train_labels_tensor.numpy()\n",
    "    vendor_dict = {int(vendor_id): np.sum(train_labels_np == int(vendor_id)) for vendor_id in unique_vendors}\n",
    "    f1_score_list = []\n",
    "\n",
    "    for vendor_id in tqdm(unique_vendors, total=len(unique_vendors), desc=\"Calculating Macro-F1@X\"):\n",
    "        vendor_id = int(vendor_id)\n",
    "        test_adsidx = (test_labels == vendor_id).nonzero(as_tuple=True)[0]\n",
    "\n",
    "        if len(test_adsidx) == 0 or vendor_dict[vendor_id] == 0:\n",
    "            continue\n",
    "\n",
    "        test_vendor_embeddings = test_embeddings[test_adsidx]\n",
    "        if test_vendor_embeddings.ndim == 1:\n",
    "            test_vendor_embeddings = test_vendor_embeddings.unsqueeze(0)\n",
    "        test_vendor_embeddings_np = test_vendor_embeddings.numpy()\n",
    "\n",
    "        k = vendor_dict[vendor_id]\n",
    "        if k > train_embeddings_np.shape[0]:\n",
    "            k = train_embeddings_np.shape[0]\n",
    "\n",
    "        _, I = index.search(test_vendor_embeddings_np, int(k))\n",
    "\n",
    "        predicted_label_list = [torch.tensor(I[index]) for index in range(len(test_adsidx))]\n",
    "        true_label_list = [torch.where(train_labels_tensor == vendor_id)[0] for _ in range(len(test_adsidx))]\n",
    "        \n",
    "        f1_score_list.extend(f1_at_k(true_label_list, predicted_label_list, k))\n",
    "\n",
    "    macro_f1_mean = np.mean(f1_score_list)\n",
    "    macro_f1_std = np.std(f1_score_list)\n",
    "\n",
    "    print(f\"Macro F1@X: {round(macro_f1_mean, 4)} ± {round(macro_f1_std, 2)}\")\n",
    "    \n",
    "    return macro_f1_mean, macro_f1_std"
   ]
  },
  {
   "cell_type": "code",
   "execution_count": 15,
   "id": "a3a93b2d-21db-451a-b979-852cc5e71948",
   "metadata": {
    "tags": []
   },
   "outputs": [],
   "source": [
    "import torch\n",
    "import hashlib\n",
    "\n",
    "def remove_duplicate_embeddings(train_embeddings, train_labels, test_embeddings, test_labels):\n",
    "    \"\"\"\n",
    "    Removes duplicate embeddings between train and test sets using hashing.\n",
    "\n",
    "    Args:\n",
    "        train_embeddings (torch.Tensor): Embeddings from the training set.\n",
    "        train_labels (torch.Tensor): Labels corresponding to the training embeddings.\n",
    "        test_embeddings (torch.Tensor): Embeddings from the test set.\n",
    "        test_labels (torch.Tensor): Labels corresponding to the test embeddings.\n",
    "\n",
    "    Returns:\n",
    "        unique_train_embeddings (torch.Tensor): Unique embeddings from the training set.\n",
    "        unique_train_labels (torch.Tensor): Labels corresponding to the unique training embeddings.\n",
    "        unique_test_embeddings (torch.Tensor): Unique embeddings from the test set (excluding duplicates with train set).\n",
    "        unique_test_labels (torch.Tensor): Labels corresponding to the unique test embeddings.\n",
    "    \"\"\"\n",
    "\n",
    "    def hash_embedding(embedding):\n",
    "        # Ensure the embedding is contiguous in memory and of type float32\n",
    "        embedding = embedding.contiguous().view(-1).float()\n",
    "        # Round to reduce the impact of floating-point precision errors\n",
    "        embedding = torch.round(embedding * 1e6) / 1e6  # Adjust precision as needed\n",
    "        # Convert the embedding to bytes\n",
    "        emb_bytes = embedding.numpy().tobytes()\n",
    "        # Compute MD5 hash\n",
    "        return hashlib.md5(emb_bytes).hexdigest()\n",
    "\n",
    "    # Create dictionaries mapping hashes to embeddings and labels for the train set\n",
    "    train_hash_embedding_label_dict = {}\n",
    "    for emb, label in zip(train_embeddings, train_labels):\n",
    "        emb_hash = hash_embedding(emb)\n",
    "        # Store the embedding and label only if the hash is not already in the dictionary\n",
    "        if emb_hash not in train_hash_embedding_label_dict:\n",
    "            train_hash_embedding_label_dict[emb_hash] = (emb, label.item())\n",
    "\n",
    "    # Create dictionaries mapping hashes to embeddings and labels for the test set\n",
    "    test_hash_embedding_label_dict = {}\n",
    "    for emb, label in zip(test_embeddings, test_labels):\n",
    "        emb_hash = hash_embedding(emb)\n",
    "        # Store the embedding and label only if the hash is not already in the dictionary\n",
    "        if emb_hash not in test_hash_embedding_label_dict:\n",
    "            test_hash_embedding_label_dict[emb_hash] = (emb, label.item())\n",
    "\n",
    "    # Identify common hashes between train and test sets\n",
    "    common_hashes = set(train_hash_embedding_label_dict.keys()).intersection(set(test_hash_embedding_label_dict.keys()))\n",
    "\n",
    "    # Remove duplicates from the test set\n",
    "    unique_test_hashes = set(test_hash_embedding_label_dict.keys()) - common_hashes\n",
    "\n",
    "    # Reconstruct unique embeddings and labels for the train set\n",
    "    unique_train_embeddings_list = [emb_label[0] for emb_label in train_hash_embedding_label_dict.values()]\n",
    "    unique_train_labels_list = [emb_label[1] for emb_label in train_hash_embedding_label_dict.values()]\n",
    "\n",
    "    # Reconstruct unique embeddings and labels for the test set\n",
    "    unique_test_embeddings_list = [test_hash_embedding_label_dict[h][0] for h in unique_test_hashes]\n",
    "    unique_test_labels_list = [test_hash_embedding_label_dict[h][1] for h in unique_test_hashes]\n",
    "\n",
    "    # Convert lists to tensors\n",
    "    unique_train_embeddings = torch.stack(unique_train_embeddings_list)\n",
    "    unique_train_labels = torch.tensor(unique_train_labels_list)\n",
    "\n",
    "    unique_test_embeddings = torch.stack(unique_test_embeddings_list)\n",
    "    unique_test_labels = torch.tensor(unique_test_labels_list)\n",
    "\n",
    "    return unique_train_embeddings, unique_train_labels, unique_test_embeddings, unique_test_labels"
   ]
  },
  {
   "cell_type": "code",
   "execution_count": 16,
   "id": "fa5ed883-5425-42be-8778-3d0ec80a1594",
   "metadata": {
    "tags": []
   },
   "outputs": [],
   "source": [
    "def find_members(train_embeddings, train_labels, test_embeddings, test_labels):\n",
    "    \"\"\"\n",
    "    Filters test_embeddings and test_labels by removing entries whose labels do not exist in train_labels.\n",
    "\n",
    "    Parameters:\n",
    "    - train_embeddings (torch.Tensor): Embeddings for the training data.\n",
    "    - train_labels (torch.Tensor): Labels for the training data.\n",
    "    - test_embeddings (torch.Tensor): Embeddings for the test data.\n",
    "    - test_labels (torch.Tensor): Labels for the test data.\n",
    "\n",
    "    Returns:\n",
    "    - train_embeddings (torch.Tensor): Original training embeddings (unchanged).\n",
    "    - train_labels (torch.Tensor): Original training labels (unchanged).\n",
    "    - filtered_test_embeddings (torch.Tensor): Filtered test embeddings.\n",
    "    - filtered_test_labels (torch.Tensor): Filtered test labels.\n",
    "    \"\"\"\n",
    "\n",
    "    # Ensure labels are on the same device\n",
    "    if train_labels.device != test_labels.device:\n",
    "        train_labels = train_labels.to(test_labels.device)\n",
    "\n",
    "    # Use torch.isin to create a mask of test labels that exist in train labels\n",
    "    if hasattr(torch, 'isin'):\n",
    "        # torch.isin is available in PyTorch 1.10 and later\n",
    "        mask = torch.isin(test_labels, train_labels)\n",
    "    else:\n",
    "        # For older versions of PyTorch, convert to NumPy arrays\n",
    "        train_labels_np = train_labels.cpu().numpy()\n",
    "        test_labels_np = test_labels.cpu().numpy()\n",
    "        mask_np = np.isin(test_labels_np, train_labels_np)\n",
    "        mask = torch.from_numpy(mask_np).to(test_labels.device)\n",
    "\n",
    "    # Apply the mask to filter test embeddings and labels\n",
    "    filtered_test_embeddings = test_embeddings[mask]\n",
    "    filtered_test_labels = test_labels[mask]\n",
    "\n",
    "    return train_embeddings, train_labels, filtered_test_embeddings, filtered_test_labels"
   ]
  },
  {
   "cell_type": "markdown",
   "id": "adbd41fc-6882-45eb-b661-0f4fe74dfc03",
   "metadata": {
    "tags": []
   },
   "source": [
    "# Evaluation of E2E classifiers: CE-SupCon-mean-0.1', 'CE-SupCon-mean-0.5', 'CE-attention', 'CE-concat', 'CE-mean', 'CE-learned_fusion'"
   ]
  },
  {
   "cell_type": "code",
   "execution_count": 32,
   "id": "5069c1b9-7eaf-403d-9ef5-1b5c23fd91dc",
   "metadata": {
    "tags": []
   },
   "outputs": [
    {
     "name": "stdout",
     "output_type": "stream",
     "text": [
      "--------------------------------------------------south--------------------------------------------------\n",
      "Global variables initialized in 0.21 seconds.\n"
     ]
    },
    {
     "name": "stderr",
     "output_type": "stream",
     "text": [
      "Calculating MRR@10: 100%|██████████| 1098/1098 [01:14<00:00, 14.66it/s]\n"
     ]
    },
    {
     "name": "stdout",
     "output_type": "stream",
     "text": [
      "MRR@10 mean: 0.7675 ± 0.39\n"
     ]
    },
    {
     "name": "stderr",
     "output_type": "stream",
     "text": [
      "Calculating R-precision: 100%|██████████| 1098/1098 [01:15<00:00, 14.50it/s]\n"
     ]
    },
    {
     "name": "stdout",
     "output_type": "stream",
     "text": [
      "R precision mean: 0.6362 ± 0.38\n"
     ]
    },
    {
     "name": "stderr",
     "output_type": "stream",
     "text": [
      "Calculating Macro-F1@X:  53%|█████▎    | 579/1098 [00:47<00:42, 12.17it/s]\n"
     ]
    },
    {
     "ename": "KeyboardInterrupt",
     "evalue": "",
     "output_type": "error",
     "traceback": [
      "\u001b[0;31m---------------------------------------------------------------------------\u001b[0m",
      "\u001b[0;31mKeyboardInterrupt\u001b[0m                         Traceback (most recent call last)",
      "Cell \u001b[0;32mIn[32], line 30\u001b[0m\n\u001b[1;32m     28\u001b[0m mean_temp, std_temp \u001b[38;5;241m=\u001b[39m generate_rprecision_results(text_test_embeddings, text_test_labels)\n\u001b[1;32m     29\u001b[0m \u001b[38;5;66;03m# _ = generate_macro_rprecision_results(test_embeddings, test_labels)\u001b[39;00m\n\u001b[0;32m---> 30\u001b[0m mean_temp, std_temp  \u001b[38;5;241m=\u001b[39m \u001b[43mgenerate_macro_f1_at_x_results\u001b[49m\u001b[43m(\u001b[49m\u001b[43mtext_test_embeddings\u001b[49m\u001b[43m,\u001b[49m\u001b[43m \u001b[49m\u001b[43mtext_test_labels\u001b[49m\u001b[43m)\u001b[49m\n\u001b[1;32m     31\u001b[0m \u001b[38;5;66;03m# print(f\"{city}-mean:{round(mean_temp, 4)} ± {round(std_temp, 2)}\\n\")\u001b[39;00m\n\u001b[1;32m     32\u001b[0m mean \u001b[38;5;241m+\u001b[39m\u001b[38;5;241m=\u001b[39m mean_temp\n",
      "Cell \u001b[0;32mIn[5], line 46\u001b[0m, in \u001b[0;36mgenerate_macro_f1_at_x_results\u001b[0;34m(test_embeddings, test_labels)\u001b[0m\n\u001b[1;32m     43\u001b[0m     _, I \u001b[38;5;241m=\u001b[39m index\u001b[38;5;241m.\u001b[39msearch(test_vendor_embeddings_np, \u001b[38;5;28mint\u001b[39m(k))\n\u001b[1;32m     45\u001b[0m     predicted_label_list \u001b[38;5;241m=\u001b[39m [torch\u001b[38;5;241m.\u001b[39mtensor(I[index]) \u001b[38;5;28;01mfor\u001b[39;00m index \u001b[38;5;129;01min\u001b[39;00m \u001b[38;5;28mrange\u001b[39m(\u001b[38;5;28mlen\u001b[39m(test_adsidx))]\n\u001b[0;32m---> 46\u001b[0m     true_label_list \u001b[38;5;241m=\u001b[39m [torch\u001b[38;5;241m.\u001b[39mwhere(train_labels_tensor \u001b[38;5;241m==\u001b[39m vendor_id)[\u001b[38;5;241m0\u001b[39m] \u001b[38;5;28;01mfor\u001b[39;00m _ \u001b[38;5;129;01min\u001b[39;00m \u001b[38;5;28mrange\u001b[39m(\u001b[38;5;28mlen\u001b[39m(test_adsidx))]\n\u001b[1;32m     48\u001b[0m     f1_score_list\u001b[38;5;241m.\u001b[39mextend(f1_at_k(true_label_list, predicted_label_list, k))\n\u001b[1;32m     50\u001b[0m macro_f1_mean \u001b[38;5;241m=\u001b[39m np\u001b[38;5;241m.\u001b[39mmean(f1_score_list)\n",
      "Cell \u001b[0;32mIn[5], line 46\u001b[0m, in \u001b[0;36m<listcomp>\u001b[0;34m(.0)\u001b[0m\n\u001b[1;32m     43\u001b[0m     _, I \u001b[38;5;241m=\u001b[39m index\u001b[38;5;241m.\u001b[39msearch(test_vendor_embeddings_np, \u001b[38;5;28mint\u001b[39m(k))\n\u001b[1;32m     45\u001b[0m     predicted_label_list \u001b[38;5;241m=\u001b[39m [torch\u001b[38;5;241m.\u001b[39mtensor(I[index]) \u001b[38;5;28;01mfor\u001b[39;00m index \u001b[38;5;129;01min\u001b[39;00m \u001b[38;5;28mrange\u001b[39m(\u001b[38;5;28mlen\u001b[39m(test_adsidx))]\n\u001b[0;32m---> 46\u001b[0m     true_label_list \u001b[38;5;241m=\u001b[39m [\u001b[43mtorch\u001b[49m\u001b[38;5;241;43m.\u001b[39;49m\u001b[43mwhere\u001b[49m\u001b[43m(\u001b[49m\u001b[43mtrain_labels_tensor\u001b[49m\u001b[43m \u001b[49m\u001b[38;5;241;43m==\u001b[39;49m\u001b[43m \u001b[49m\u001b[43mvendor_id\u001b[49m\u001b[43m)\u001b[49m[\u001b[38;5;241m0\u001b[39m] \u001b[38;5;28;01mfor\u001b[39;00m _ \u001b[38;5;129;01min\u001b[39;00m \u001b[38;5;28mrange\u001b[39m(\u001b[38;5;28mlen\u001b[39m(test_adsidx))]\n\u001b[1;32m     48\u001b[0m     f1_score_list\u001b[38;5;241m.\u001b[39mextend(f1_at_k(true_label_list, predicted_label_list, k))\n\u001b[1;32m     50\u001b[0m macro_f1_mean \u001b[38;5;241m=\u001b[39m np\u001b[38;5;241m.\u001b[39mmean(f1_score_list)\n",
      "\u001b[0;31mKeyboardInterrupt\u001b[0m: "
     ]
    }
   ],
   "source": [
    "mean, std = 0, 0\n",
    "\n",
    "for city in [\"south\", \"midwest\", \"west\", \"northeast\"]:\n",
    "    print(\"-\" * 50 + city + \"-\" * 50)\n",
    "\n",
    "    text_train_embeddings, text_train_labels, text_test_embeddings, text_test_labels = load_e2e_classifier_embeddings(\"CE-mean\", city, mode=\"text\")\n",
    "    # text_train_embeddings, text_train_labels, text_test_embeddings, text_test_labels = remove_duplicate_embeddings(text_train_embeddings, text_train_labels, text_test_embeddings, text_test_labels)\n",
    "    \n",
    "    text_train_embeddings, text_train_labels, text_test_embeddings, text_test_labels = find_members(text_train_embeddings, text_train_labels, text_test_embeddings, text_test_labels)\n",
    "    # test_embeddings = torch.cat((text_train_embeddings, text_test_embeddings), 0)\n",
    "    # test_labels = torch.cat((text_train_labels, text_test_labels), 0)\n",
    "\n",
    "    # train_embeddings = torch.cat((image_train_embeddings, image_test_embeddings), 0)\n",
    "    # train_labels = torch.cat((image_train_labels, image_test_labels), 0)\n",
    "    \n",
    "    # Performing mean pooling\n",
    "    # train_embeddings = torch.mean(train_embeddings, dim=1)\n",
    "    \n",
    "    # Normalize training embeddings\n",
    "    faiss.normalize_L2(text_train_embeddings.detach().cpu().numpy())\n",
    "    # Normalize test embeddings\n",
    "    faiss.normalize_L2(text_test_embeddings.detach().cpu().numpy())\n",
    "\n",
    "    initialize_globals(text_train_embeddings, text_train_labels)\n",
    "\n",
    "    try:\n",
    "        mean_temp, std_temp = generate_mrr_at_1_results(text_test_embeddings, text_test_labels, 10)\n",
    "        mean_temp, std_temp = generate_rprecision_results(text_test_embeddings, text_test_labels)\n",
    "        # _ = generate_macro_rprecision_results(test_embeddings, test_labels)\n",
    "        mean_temp, std_temp  = generate_macro_f1_at_x_results(text_test_embeddings, text_test_labels)\n",
    "        # print(f\"{city}-mean:{round(mean_temp, 4)} ± {round(std_temp, 2)}\\n\")\n",
    "        mean += mean_temp\n",
    "        std += std_temp\n",
    "    except Exception as e:\n",
    "        file.write(f\"Error processing {city}: {e}\\n\")\n",
    "\n",
    "    # Clear cache and free memory\n",
    "    del text_train_embeddings, text_train_labels, text_test_embeddings, text_test_labels\n",
    "    gc.collect()"
   ]
  },
  {
   "cell_type": "code",
   "execution_count": 27,
   "id": "62585f57-b246-4c84-a0eb-a47dd4211e7a",
   "metadata": {
    "tags": []
   },
   "outputs": [
    {
     "name": "stdout",
     "output_type": "stream",
     "text": [
      "--------------------------------------------------south--------------------------------------------------\n",
      "Global variables initialized in 0.09 seconds.\n"
     ]
    },
    {
     "name": "stderr",
     "output_type": "stream",
     "text": [
      "Calculating MRR@10: 100%|██████████| 732/732 [00:17<00:00, 42.93it/s]\n"
     ]
    },
    {
     "name": "stdout",
     "output_type": "stream",
     "text": [
      "MRR@10 mean: 0.2691 ± 0.36\n"
     ]
    },
    {
     "name": "stderr",
     "output_type": "stream",
     "text": [
      "Calculating R-precision: 100%|██████████| 732/732 [00:17<00:00, 42.88it/s]\n"
     ]
    },
    {
     "name": "stdout",
     "output_type": "stream",
     "text": [
      "R precision mean: 0.0855 ± 0.16\n"
     ]
    },
    {
     "name": "stderr",
     "output_type": "stream",
     "text": [
      "Calculating Macro-F1@X: 100%|██████████| 732/732 [00:17<00:00, 42.70it/s]\n"
     ]
    },
    {
     "name": "stdout",
     "output_type": "stream",
     "text": [
      "Macro F1@X: 0.1109 ± 0.22\n",
      "--------------------------------------------------midwest--------------------------------------------------\n",
      "Global variables initialized in 0.04 seconds.\n"
     ]
    },
    {
     "name": "stderr",
     "output_type": "stream",
     "text": [
      "Calculating MRR@10: 100%|██████████| 400/400 [00:05<00:00, 71.62it/s]\n"
     ]
    },
    {
     "name": "stdout",
     "output_type": "stream",
     "text": [
      "MRR@10 mean: 0.2609 ± 0.35\n"
     ]
    },
    {
     "name": "stderr",
     "output_type": "stream",
     "text": [
      "Calculating R-precision: 100%|██████████| 400/400 [00:05<00:00, 70.87it/s]\n"
     ]
    },
    {
     "name": "stdout",
     "output_type": "stream",
     "text": [
      "R precision mean: 0.0675 ± 0.11\n"
     ]
    },
    {
     "name": "stderr",
     "output_type": "stream",
     "text": [
      "Calculating Macro-F1@X: 100%|██████████| 400/400 [00:05<00:00, 71.03it/s]\n"
     ]
    },
    {
     "name": "stdout",
     "output_type": "stream",
     "text": [
      "Macro F1@X: 0.073 ± 0.13\n",
      "--------------------------------------------------west--------------------------------------------------\n",
      "Global variables initialized in 0.01 seconds.\n"
     ]
    },
    {
     "name": "stderr",
     "output_type": "stream",
     "text": [
      "Calculating MRR@10: 100%|██████████| 165/165 [00:01<00:00, 150.70it/s]\n"
     ]
    },
    {
     "name": "stdout",
     "output_type": "stream",
     "text": [
      "MRR@10 mean: 0.2602 ± 0.34\n"
     ]
    },
    {
     "name": "stderr",
     "output_type": "stream",
     "text": [
      "Calculating R-precision: 100%|██████████| 165/165 [00:01<00:00, 154.48it/s]\n"
     ]
    },
    {
     "name": "stdout",
     "output_type": "stream",
     "text": [
      "R precision mean: 0.0956 ± 0.14\n"
     ]
    },
    {
     "name": "stderr",
     "output_type": "stream",
     "text": [
      "Calculating Macro-F1@X: 100%|██████████| 165/165 [00:01<00:00, 144.47it/s]\n"
     ]
    },
    {
     "name": "stdout",
     "output_type": "stream",
     "text": [
      "Macro F1@X: 0.1092 ± 0.19\n",
      "--------------------------------------------------northeast--------------------------------------------------\n",
      "Global variables initialized in 0.00 seconds.\n"
     ]
    },
    {
     "name": "stderr",
     "output_type": "stream",
     "text": [
      "Calculating MRR@10: 100%|██████████| 262/262 [00:02<00:00, 101.09it/s]\n"
     ]
    },
    {
     "name": "stdout",
     "output_type": "stream",
     "text": [
      "MRR@10 mean: 0.2309 ± 0.34\n"
     ]
    },
    {
     "name": "stderr",
     "output_type": "stream",
     "text": [
      "Calculating R-precision: 100%|██████████| 262/262 [00:02<00:00, 98.84it/s] \n"
     ]
    },
    {
     "name": "stdout",
     "output_type": "stream",
     "text": [
      "R precision mean: 0.1013 ± 0.17\n"
     ]
    },
    {
     "name": "stderr",
     "output_type": "stream",
     "text": [
      "Calculating Macro-F1@X: 100%|██████████| 262/262 [00:02<00:00, 100.80it/s]\n"
     ]
    },
    {
     "name": "stdout",
     "output_type": "stream",
     "text": [
      "Macro F1@X: 0.0932 ± 0.18\n"
     ]
    }
   ],
   "source": [
    "mean, std = 0, 0\n",
    "\n",
    "for city in [\"south\", \"midwest\", \"west\", \"northeast\"]:\n",
    "    print(\"-\" * 50 + city + \"-\" * 50)\n",
    "\n",
    "    text_train_embeddings, text_train_labels, text_test_embeddings, text_test_labels = load_embeddings_for_finetunedclipstylemodels(\"BLIP2\", city, mode=\"image\")\n",
    "    text_train_embeddings, text_train_labels, text_test_embeddings, text_test_labels = remove_duplicate_embeddings(text_train_embeddings, text_train_labels, text_test_embeddings, text_test_labels)\n",
    "    \n",
    "    text_train_embeddings, text_train_labels, text_test_embeddings, text_test_labels = find_members(text_train_embeddings, text_train_labels, text_test_embeddings, text_test_labels)\n",
    "    # test_embeddings = torch.cat((text_train_embeddings, text_test_embeddings), 0)\n",
    "    # test_labels = torch.cat((text_train_labels, text_test_labels), 0)\n",
    "\n",
    "    # train_embeddings = torch.cat((image_train_embeddings, image_test_embeddings), 0)\n",
    "    # train_labels = torch.cat((image_train_labels, image_test_labels), 0)\n",
    "    \n",
    "    # Performing mean pooling\n",
    "    # train_embeddings = torch.mean(train_embeddings, dim=1)\n",
    "    \n",
    "    # Normalize training embeddings\n",
    "    # faiss.normalize_L2(text_train_embeddings.detach().cpu().numpy())\n",
    "    # Normalize test embeddings\n",
    "    # faiss.normalize_L2(text_test_embeddings.detach().cpu().numpy())\n",
    "\n",
    "    initialize_globals(text_train_embeddings, text_train_labels)\n",
    "\n",
    "    try:\n",
    "        mean_temp, std_temp = generate_mrr_at_1_results(text_test_embeddings, text_test_labels, 10)\n",
    "        mean_temp, std_temp = generate_rprecision_results(text_test_embeddings, text_test_labels)\n",
    "        # _ = generate_macro_rprecision_results(test_embeddings, test_labels)\n",
    "        mean_temp, std_temp  = generate_macro_f1_at_x_results(text_test_embeddings, text_test_labels)\n",
    "        # print(f\"{city}-mean:{round(mean_temp, 4)} ± {round(std_temp, 2)}\\n\")\n",
    "        mean += mean_temp\n",
    "        std += std_temp\n",
    "    except Exception as e:\n",
    "        file.write(f\"Error processing {city}: {e}\\n\")\n",
    "\n",
    "    # Clear cache and free memory\n",
    "    del text_train_embeddings, text_train_labels, text_test_embeddings, text_test_labels\n",
    "    gc.collect()"
   ]
  },
  {
   "cell_type": "code",
   "execution_count": 30,
   "id": "9e415e65-6e96-4102-8394-66309313ccd7",
   "metadata": {
    "tags": []
   },
   "outputs": [
    {
     "name": "stdout",
     "output_type": "stream",
     "text": [
      "--------------------------------------------------south--------------------------------------------------\n",
      "Global variables initialized in 0.03 seconds.\n"
     ]
    },
    {
     "name": "stderr",
     "output_type": "stream",
     "text": [
      "Calculating MRR@10: 100%|██████████| 1097/1097 [00:10<00:00, 99.88it/s] \n"
     ]
    },
    {
     "name": "stdout",
     "output_type": "stream",
     "text": [
      "MRR@10 mean: 0.453 ± 0.44\n"
     ]
    },
    {
     "name": "stderr",
     "output_type": "stream",
     "text": [
      "Calculating R-precision:  31%|███       | 337/1097 [00:03<00:08, 89.21it/s] \n"
     ]
    },
    {
     "ename": "KeyboardInterrupt",
     "evalue": "",
     "output_type": "error",
     "traceback": [
      "\u001b[0;31m---------------------------------------------------------------------------\u001b[0m",
      "\u001b[0;31mKeyboardInterrupt\u001b[0m                         Traceback (most recent call last)",
      "\u001b[0;32m/tmp/ipykernel_407846/4288834920.py\u001b[0m in \u001b[0;36m?\u001b[0;34m()\u001b[0m\n\u001b[1;32m     30\u001b[0m         \u001b[0mmean_temp\u001b[0m\u001b[0;34m,\u001b[0m \u001b[0mstd_temp\u001b[0m  \u001b[0;34m=\u001b[0m \u001b[0mgenerate_macro_f1_at_x_results\u001b[0m\u001b[0;34m(\u001b[0m\u001b[0mtext_test_embeddings\u001b[0m\u001b[0;34m,\u001b[0m \u001b[0mtext_test_labels\u001b[0m\u001b[0;34m)\u001b[0m\u001b[0;34m\u001b[0m\u001b[0;34m\u001b[0m\u001b[0m\n\u001b[1;32m     31\u001b[0m         \u001b[0;31m# print(f\"{city}-mean:{round(mean_temp, 4)} ± {round(std_temp, 2)}\\n\")\u001b[0m\u001b[0;34m\u001b[0m\u001b[0;34m\u001b[0m\u001b[0m\n\u001b[1;32m     32\u001b[0m         \u001b[0mmean\u001b[0m \u001b[0;34m+=\u001b[0m \u001b[0mmean_temp\u001b[0m\u001b[0;34m\u001b[0m\u001b[0;34m\u001b[0m\u001b[0m\n\u001b[1;32m     33\u001b[0m         \u001b[0mstd\u001b[0m \u001b[0;34m+=\u001b[0m \u001b[0mstd_temp\u001b[0m\u001b[0;34m\u001b[0m\u001b[0;34m\u001b[0m\u001b[0m\n\u001b[0;32m---> 34\u001b[0;31m     \u001b[0;32mexcept\u001b[0m \u001b[0mException\u001b[0m \u001b[0;32mas\u001b[0m \u001b[0me\u001b[0m\u001b[0;34m:\u001b[0m\u001b[0;34m\u001b[0m\u001b[0;34m\u001b[0m\u001b[0m\n\u001b[0m\u001b[1;32m     35\u001b[0m         \u001b[0mfile\u001b[0m\u001b[0;34m.\u001b[0m\u001b[0mwrite\u001b[0m\u001b[0;34m(\u001b[0m\u001b[0;34mf\"Error processing {city}: {e}\\n\"\u001b[0m\u001b[0;34m)\u001b[0m\u001b[0;34m\u001b[0m\u001b[0;34m\u001b[0m\u001b[0m\n\u001b[1;32m     36\u001b[0m \u001b[0;34m\u001b[0m\u001b[0m\n\u001b[1;32m     37\u001b[0m     \u001b[0;31m# Clear cache and free memory\u001b[0m\u001b[0;34m\u001b[0m\u001b[0;34m\u001b[0m\u001b[0m\n",
      "\u001b[0;32m/tmp/ipykernel_407846/3323258511.py\u001b[0m in \u001b[0;36m?\u001b[0;34m(test_embeddings, test_labels)\u001b[0m\n\u001b[1;32m     55\u001b[0m         \u001b[0mk\u001b[0m \u001b[0;34m=\u001b[0m \u001b[0mvendor_dict\u001b[0m\u001b[0;34m[\u001b[0m\u001b[0mvendor_id\u001b[0m\u001b[0;34m]\u001b[0m\u001b[0;34m\u001b[0m\u001b[0;34m\u001b[0m\u001b[0m\n\u001b[1;32m     56\u001b[0m         \u001b[0;32mif\u001b[0m \u001b[0mk\u001b[0m \u001b[0;34m>\u001b[0m \u001b[0mtrain_embeddings_np\u001b[0m\u001b[0;34m.\u001b[0m\u001b[0mshape\u001b[0m\u001b[0;34m[\u001b[0m\u001b[0;36m0\u001b[0m\u001b[0;34m]\u001b[0m\u001b[0;34m:\u001b[0m\u001b[0;34m\u001b[0m\u001b[0;34m\u001b[0m\u001b[0m\n\u001b[1;32m     57\u001b[0m             \u001b[0mk\u001b[0m \u001b[0;34m=\u001b[0m \u001b[0mtrain_embeddings_np\u001b[0m\u001b[0;34m.\u001b[0m\u001b[0mshape\u001b[0m\u001b[0;34m[\u001b[0m\u001b[0;36m0\u001b[0m\u001b[0;34m]\u001b[0m\u001b[0;34m\u001b[0m\u001b[0;34m\u001b[0m\u001b[0m\n\u001b[1;32m     58\u001b[0m \u001b[0;34m\u001b[0m\u001b[0m\n\u001b[0;32m---> 59\u001b[0;31m         \u001b[0m_\u001b[0m\u001b[0;34m,\u001b[0m \u001b[0mI\u001b[0m \u001b[0;34m=\u001b[0m \u001b[0mindex\u001b[0m\u001b[0;34m.\u001b[0m\u001b[0msearch\u001b[0m\u001b[0;34m(\u001b[0m\u001b[0mtest_vendor_embeddings_np\u001b[0m\u001b[0;34m,\u001b[0m \u001b[0mint\u001b[0m\u001b[0;34m(\u001b[0m\u001b[0mk\u001b[0m\u001b[0;34m)\u001b[0m\u001b[0;34m)\u001b[0m\u001b[0;34m\u001b[0m\u001b[0;34m\u001b[0m\u001b[0m\n\u001b[0m\u001b[1;32m     60\u001b[0m \u001b[0;34m\u001b[0m\u001b[0m\n\u001b[1;32m     61\u001b[0m         \u001b[0mpredicted_label_list\u001b[0m \u001b[0;34m=\u001b[0m \u001b[0;34m[\u001b[0m\u001b[0mtorch\u001b[0m\u001b[0;34m.\u001b[0m\u001b[0mtensor\u001b[0m\u001b[0;34m(\u001b[0m\u001b[0mI\u001b[0m\u001b[0;34m[\u001b[0m\u001b[0mindex\u001b[0m\u001b[0;34m]\u001b[0m\u001b[0;34m)\u001b[0m \u001b[0;32mfor\u001b[0m \u001b[0mindex\u001b[0m \u001b[0;32min\u001b[0m \u001b[0mrange\u001b[0m\u001b[0;34m(\u001b[0m\u001b[0mlen\u001b[0m\u001b[0;34m(\u001b[0m\u001b[0mtest_adsidx\u001b[0m\u001b[0;34m)\u001b[0m\u001b[0;34m)\u001b[0m\u001b[0;34m]\u001b[0m\u001b[0;34m\u001b[0m\u001b[0;34m\u001b[0m\u001b[0m\n\u001b[1;32m     62\u001b[0m         \u001b[0mtrue_label_list\u001b[0m \u001b[0;34m=\u001b[0m \u001b[0;34m[\u001b[0m\u001b[0mtorch\u001b[0m\u001b[0;34m.\u001b[0m\u001b[0mwhere\u001b[0m\u001b[0;34m(\u001b[0m\u001b[0mtrain_labels_tensor\u001b[0m \u001b[0;34m==\u001b[0m \u001b[0mvendor_id\u001b[0m\u001b[0;34m)\u001b[0m\u001b[0;34m[\u001b[0m\u001b[0;36m0\u001b[0m\u001b[0;34m]\u001b[0m \u001b[0;32mfor\u001b[0m \u001b[0m_\u001b[0m \u001b[0;32min\u001b[0m \u001b[0mrange\u001b[0m\u001b[0;34m(\u001b[0m\u001b[0mlen\u001b[0m\u001b[0;34m(\u001b[0m\u001b[0mtest_adsidx\u001b[0m\u001b[0;34m)\u001b[0m\u001b[0;34m)\u001b[0m\u001b[0;34m]\u001b[0m\u001b[0;34m\u001b[0m\u001b[0;34m\u001b[0m\u001b[0m\n",
      "\u001b[0;32m~/miniconda3/envs/HT/lib/python3.10/site-packages/faiss/__init__.py\u001b[0m in \u001b[0;36m?\u001b[0;34m(self, x, k, D, I)\u001b[0m\n\u001b[1;32m    318\u001b[0m             \u001b[0mI\u001b[0m \u001b[0;34m=\u001b[0m \u001b[0mnp\u001b[0m\u001b[0;34m.\u001b[0m\u001b[0mempty\u001b[0m\u001b[0;34m(\u001b[0m\u001b[0;34m(\u001b[0m\u001b[0mn\u001b[0m\u001b[0;34m,\u001b[0m \u001b[0mk\u001b[0m\u001b[0;34m)\u001b[0m\u001b[0;34m,\u001b[0m \u001b[0mdtype\u001b[0m\u001b[0;34m=\u001b[0m\u001b[0mnp\u001b[0m\u001b[0;34m.\u001b[0m\u001b[0mint64\u001b[0m\u001b[0;34m)\u001b[0m\u001b[0;34m\u001b[0m\u001b[0;34m\u001b[0m\u001b[0m\n\u001b[1;32m    319\u001b[0m         \u001b[0;32melse\u001b[0m\u001b[0;34m:\u001b[0m\u001b[0;34m\u001b[0m\u001b[0;34m\u001b[0m\u001b[0m\n\u001b[1;32m    320\u001b[0m             \u001b[0;32massert\u001b[0m \u001b[0mI\u001b[0m\u001b[0;34m.\u001b[0m\u001b[0mshape\u001b[0m \u001b[0;34m==\u001b[0m \u001b[0;34m(\u001b[0m\u001b[0mn\u001b[0m\u001b[0;34m,\u001b[0m \u001b[0mk\u001b[0m\u001b[0;34m)\u001b[0m\u001b[0;34m\u001b[0m\u001b[0;34m\u001b[0m\u001b[0m\n\u001b[1;32m    321\u001b[0m \u001b[0;34m\u001b[0m\u001b[0m\n\u001b[0;32m--> 322\u001b[0;31m         \u001b[0mself\u001b[0m\u001b[0;34m.\u001b[0m\u001b[0msearch_c\u001b[0m\u001b[0;34m(\u001b[0m\u001b[0mn\u001b[0m\u001b[0;34m,\u001b[0m \u001b[0mswig_ptr\u001b[0m\u001b[0;34m(\u001b[0m\u001b[0mx\u001b[0m\u001b[0;34m)\u001b[0m\u001b[0;34m,\u001b[0m \u001b[0mk\u001b[0m\u001b[0;34m,\u001b[0m \u001b[0mswig_ptr\u001b[0m\u001b[0;34m(\u001b[0m\u001b[0mD\u001b[0m\u001b[0;34m)\u001b[0m\u001b[0;34m,\u001b[0m \u001b[0mswig_ptr\u001b[0m\u001b[0;34m(\u001b[0m\u001b[0mI\u001b[0m\u001b[0;34m)\u001b[0m\u001b[0;34m)\u001b[0m\u001b[0;34m\u001b[0m\u001b[0;34m\u001b[0m\u001b[0m\n\u001b[0m\u001b[1;32m    323\u001b[0m         \u001b[0;32mreturn\u001b[0m \u001b[0mD\u001b[0m\u001b[0;34m,\u001b[0m \u001b[0mI\u001b[0m\u001b[0;34m\u001b[0m\u001b[0;34m\u001b[0m\u001b[0m\n",
      "\u001b[0;32m~/miniconda3/envs/HT/lib/python3.10/site-packages/faiss/swigfaiss.py\u001b[0m in \u001b[0;36m?\u001b[0;34m(self, n, x, k, distances, labels)\u001b[0m\n\u001b[1;32m   2145\u001b[0m     \u001b[0;32mdef\u001b[0m \u001b[0msearch\u001b[0m\u001b[0;34m(\u001b[0m\u001b[0mself\u001b[0m\u001b[0;34m,\u001b[0m \u001b[0mn\u001b[0m\u001b[0;34m,\u001b[0m \u001b[0mx\u001b[0m\u001b[0;34m,\u001b[0m \u001b[0mk\u001b[0m\u001b[0;34m,\u001b[0m \u001b[0mdistances\u001b[0m\u001b[0;34m,\u001b[0m \u001b[0mlabels\u001b[0m\u001b[0;34m)\u001b[0m\u001b[0;34m:\u001b[0m\u001b[0;34m\u001b[0m\u001b[0;34m\u001b[0m\u001b[0m\n\u001b[0;32m-> 2146\u001b[0;31m         \u001b[0;32mreturn\u001b[0m \u001b[0m_swigfaiss\u001b[0m\u001b[0;34m.\u001b[0m\u001b[0mIndexFlat_search\u001b[0m\u001b[0;34m(\u001b[0m\u001b[0mself\u001b[0m\u001b[0;34m,\u001b[0m \u001b[0mn\u001b[0m\u001b[0;34m,\u001b[0m \u001b[0mx\u001b[0m\u001b[0;34m,\u001b[0m \u001b[0mk\u001b[0m\u001b[0;34m,\u001b[0m \u001b[0mdistances\u001b[0m\u001b[0;34m,\u001b[0m \u001b[0mlabels\u001b[0m\u001b[0;34m)\u001b[0m\u001b[0;34m\u001b[0m\u001b[0;34m\u001b[0m\u001b[0m\n\u001b[0m",
      "\u001b[0;31mKeyboardInterrupt\u001b[0m: "
     ]
    }
   ],
   "source": [
    "mean, std = 0, 0\n",
    "\n",
    "for city in [\"south\", \"midwest\", \"west\", \"northeast\"]:\n",
    "    print(\"-\" * 50 + city + \"-\" * 50)\n",
    "\n",
    "    text_train_embeddings, text_train_labels, text_test_embeddings, text_test_labels = load_embeddings_for_finetunedclipstylemodels(\"BLIP2\", city, mode=\"text\")\n",
    "    text_train_embeddings, text_train_labels, text_test_embeddings, text_test_labels = remove_duplicate_embeddings(text_train_embeddings, text_train_labels, text_test_embeddings, text_test_labels)\n",
    "    \n",
    "    text_train_embeddings, text_train_labels, text_test_embeddings, text_test_labels = find_members(text_train_embeddings, text_train_labels, text_test_embeddings, text_test_labels)\n",
    "    # test_embeddings = torch.cat((text_train_embeddings, text_test_embeddings), 0)\n",
    "    # test_labels = torch.cat((text_train_labels, text_test_labels), 0)\n",
    "\n",
    "    # train_embeddings = torch.cat((image_train_embeddings, image_test_embeddings), 0)\n",
    "    # train_labels = torch.cat((image_train_labels, image_test_labels), 0)\n",
    "    \n",
    "    # Performing mean pooling\n",
    "    # train_embeddings = torch.mean(train_embeddings, dim=1)\n",
    "    \n",
    "    # Normalize training embeddings\n",
    "    faiss.normalize_L2(text_train_embeddings.detach().cpu().numpy())\n",
    "    # Normalize test embeddings\n",
    "    faiss.normalize_L2(text_test_embeddings.detach().cpu().numpy())\n",
    "\n",
    "    initialize_globals(text_train_embeddings, text_train_labels)\n",
    "\n",
    "    try:\n",
    "        mean_temp, std_temp = generate_mrr_at_1_results(text_test_embeddings, text_test_labels, 10)\n",
    "        mean_temp, std_temp = generate_rprecision_results(text_test_embeddings, text_test_labels)\n",
    "        # _ = generate_macro_rprecision_results(test_embeddings, test_labels)\n",
    "        mean_temp, std_temp  = generate_macro_f1_at_x_results(text_test_embeddings, text_test_labels)\n",
    "        # print(f\"{city}-mean:{round(mean_temp, 4)} ± {round(std_temp, 2)}\\n\")\n",
    "        mean += mean_temp\n",
    "        std += std_temp\n",
    "    except Exception as e:\n",
    "        file.write(f\"Error processing {city}: {e}\\n\")\n",
    "\n",
    "    # Clear cache and free memory\n",
    "    del text_train_embeddings, text_train_labels, text_test_embeddings, text_test_labels\n",
    "    gc.collect()"
   ]
  },
  {
   "cell_type": "code",
   "execution_count": 17,
   "id": "a4579f15-0779-474b-b8ed-0293a6dcd97b",
   "metadata": {
    "tags": []
   },
   "outputs": [
    {
     "name": "stdout",
     "output_type": "stream",
     "text": [
      "--------------------------------------------------south--------------------------------------------------\n",
      "Global variables initialized in 0.01 seconds.\n"
     ]
    },
    {
     "name": "stderr",
     "output_type": "stream",
     "text": [
      "Calculating MRR@10: 100%|██████████| 1411/1411 [00:20<00:00, 67.37it/s]\n"
     ]
    },
    {
     "name": "stdout",
     "output_type": "stream",
     "text": [
      "MRR@10 mean: 0.988 ± 0.09\n"
     ]
    },
    {
     "name": "stderr",
     "output_type": "stream",
     "text": [
      "Calculating R-precision: 100%|██████████| 1411/1411 [00:21<00:00, 66.76it/s]\n"
     ]
    },
    {
     "name": "stdout",
     "output_type": "stream",
     "text": [
      "R precision mean: 0.9206 ± 0.16\n"
     ]
    },
    {
     "name": "stderr",
     "output_type": "stream",
     "text": [
      "Calculating Macro-F1@X: 100%|██████████| 1411/1411 [00:21<00:00, 67.11it/s]\n"
     ]
    },
    {
     "name": "stdout",
     "output_type": "stream",
     "text": [
      "Macro F1@X: 0.9445 ± 0.15\n",
      "--------------------------------------------------midwest--------------------------------------------------\n",
      "Global variables initialized in 0.00 seconds.\n"
     ]
    },
    {
     "name": "stderr",
     "output_type": "stream",
     "text": [
      "Calculating MRR@10: 100%|██████████| 975/975 [00:08<00:00, 108.49it/s]\n"
     ]
    },
    {
     "name": "stdout",
     "output_type": "stream",
     "text": [
      "MRR@10 mean: 0.9694 ± 0.14\n"
     ]
    },
    {
     "name": "stderr",
     "output_type": "stream",
     "text": [
      "Calculating R-precision: 100%|██████████| 975/975 [00:09<00:00, 106.48it/s]\n"
     ]
    },
    {
     "name": "stdout",
     "output_type": "stream",
     "text": [
      "R precision mean: 0.6492 ± 0.3\n"
     ]
    },
    {
     "name": "stderr",
     "output_type": "stream",
     "text": [
      "Calculating Macro-F1@X: 100%|██████████| 975/975 [00:09<00:00, 104.09it/s]\n"
     ]
    },
    {
     "name": "stdout",
     "output_type": "stream",
     "text": [
      "Macro F1@X: 0.5656 ± 0.33\n",
      "--------------------------------------------------west--------------------------------------------------\n",
      "Global variables initialized in 0.00 seconds.\n"
     ]
    },
    {
     "name": "stderr",
     "output_type": "stream",
     "text": [
      "Calculating MRR@10: 100%|██████████| 490/490 [00:02<00:00, 230.54it/s]\n"
     ]
    },
    {
     "name": "stdout",
     "output_type": "stream",
     "text": [
      "MRR@10 mean: 0.9921 ± 0.06\n"
     ]
    },
    {
     "name": "stderr",
     "output_type": "stream",
     "text": [
      "Calculating R-precision: 100%|██████████| 490/490 [00:02<00:00, 217.30it/s]\n"
     ]
    },
    {
     "name": "stdout",
     "output_type": "stream",
     "text": [
      "R precision mean: 0.7955 ± 0.24\n"
     ]
    },
    {
     "name": "stderr",
     "output_type": "stream",
     "text": [
      "Calculating Macro-F1@X: 100%|██████████| 490/490 [00:02<00:00, 224.96it/s]\n"
     ]
    },
    {
     "name": "stdout",
     "output_type": "stream",
     "text": [
      "Macro F1@X: 0.7363 ± 0.26\n",
      "--------------------------------------------------northeast--------------------------------------------------\n",
      "Global variables initialized in 0.00 seconds.\n"
     ]
    },
    {
     "name": "stderr",
     "output_type": "stream",
     "text": [
      "Calculating MRR@10: 100%|██████████| 566/566 [00:02<00:00, 235.64it/s]\n"
     ]
    },
    {
     "name": "stdout",
     "output_type": "stream",
     "text": [
      "MRR@10 mean: 0.9746 ± 0.13\n"
     ]
    },
    {
     "name": "stderr",
     "output_type": "stream",
     "text": [
      "Calculating R-precision: 100%|██████████| 566/566 [00:02<00:00, 242.78it/s]\n"
     ]
    },
    {
     "name": "stdout",
     "output_type": "stream",
     "text": [
      "R precision mean: 0.7233 ± 0.29\n"
     ]
    },
    {
     "name": "stderr",
     "output_type": "stream",
     "text": [
      "Calculating Macro-F1@X: 100%|██████████| 566/566 [00:02<00:00, 242.11it/s]\n"
     ]
    },
    {
     "name": "stdout",
     "output_type": "stream",
     "text": [
      "Macro F1@X: 0.7235 ± 0.31\n"
     ]
    }
   ],
   "source": [
    "mean, std = 0, 0\n",
    "\n",
    "\n",
    "for city in [\"south\", \"midwest\", \"west\", \"northeast\"]:\n",
    "    print(\"-\" * 50 + city + \"-\" * 50)\n",
    "\n",
    "    text_train_embeddings, text_train_labels, text_test_embeddings, text_test_labels = load_embedddings_for_e2e(\"CE+SupCon\", city, mode=\"text\")\n",
    "    text_train_embeddings, text_train_labels, text_test_embeddings, text_test_labels = remove_duplicate_embeddings(text_train_embeddings, text_train_labels, text_test_embeddings, text_test_labels)\n",
    "    \n",
    "    text_train_embeddings, text_train_labels, text_test_embeddings, text_test_labels = find_members(text_train_embeddings, text_train_labels, text_test_embeddings, text_test_labels)\n",
    "    # test_embeddings = torch.cat((text_train_embeddings, text_test_embeddings), 0)\n",
    "    # test_labels = torch.cat((text_train_labels, text_test_labels), 0)\n",
    "\n",
    "    # train_embeddings = torch.cat((image_train_embeddings, image_test_embeddings), 0)\n",
    "    # train_labels = torch.cat((image_train_labels, image_test_labels), 0)\n",
    "    \n",
    "    # Performing mean pooling\n",
    "    # train_embeddings = torch.mean(train_embeddings, dim=1)\n",
    "    \n",
    "    # Normalize training embeddings\n",
    "    faiss.normalize_L2(text_train_embeddings.detach().cpu().numpy())\n",
    "    # Normalize test embeddings\n",
    "    faiss.normalize_L2(text_test_embeddings.detach().cpu().numpy())\n",
    "\n",
    "    initialize_globals(text_train_embeddings, text_train_labels)\n",
    "\n",
    "    try:\n",
    "        mean_temp, std_temp = generate_mrr_at_1_results(text_test_embeddings, text_test_labels, 10)\n",
    "        mean_temp, std_temp = generate_rprecision_results(text_test_embeddings, text_test_labels)\n",
    "        # _ = generate_macro_rprecision_results(test_embeddings, test_labels)\n",
    "        mean_temp, std_temp  = generate_macro_f1_at_x_results(text_test_embeddings, text_test_labels)\n",
    "        # print(f\"{city}-mean:{round(mean_temp, 4)} ± {round(std_temp, 2)}\\n\")\n",
    "        mean += mean_temp\n",
    "        std += std_temp\n",
    "    except Exception as e:\n",
    "        file.write(f\"Error processing {city}: {e}\\n\")\n",
    "\n",
    "    # Clear cache and free memory\n",
    "    del text_train_embeddings, text_train_labels, text_test_embeddings, text_test_labels\n",
    "    gc.collect()"
   ]
  },
  {
   "cell_type": "code",
   "execution_count": 15,
   "id": "ffba9c35-17c8-4bb8-b63f-e3af490dfd24",
   "metadata": {
    "tags": []
   },
   "outputs": [
    {
     "name": "stdout",
     "output_type": "stream",
     "text": [
      "tensor([[0.4824, 0.6623, 0.8904, 0.1944],\n",
      "        [0.1663, 0.1387, 0.6894, 0.5556]])\n"
     ]
    }
   ],
   "source": [
    "a = torch.rand(4)\n",
    "b = torch.rand(4)\n",
    "\n",
    "c = torch.stack((a, b), 0)\n",
    "\n",
    "print(c)"
   ]
  },
  {
   "cell_type": "markdown",
   "id": "13959f7f-4c21-4ec8-ba31-eb0f0f93892f",
   "metadata": {},
   "source": [
    "# Text Alignment task"
   ]
  },
  {
   "cell_type": "code",
   "execution_count": 22,
   "id": "6e38f2a0-772d-4241-8ec3-34c5fc85d230",
   "metadata": {
    "tags": []
   },
   "outputs": [
    {
     "name": "stdout",
     "output_type": "stream",
     "text": [
      "--------------------------------------------------south--------------------------------------------------\n",
      "Global variables initialized in 0.09 seconds.\n"
     ]
    },
    {
     "name": "stderr",
     "output_type": "stream",
     "text": [
      "Calculating MRR@10: 100%|██████████| 13677/13677 [04:15<00:00, 53.63it/s]\n"
     ]
    },
    {
     "name": "stdout",
     "output_type": "stream",
     "text": [
      "MRR@10 mean: 0.001 ± 0.03\n"
     ]
    },
    {
     "name": "stderr",
     "output_type": "stream",
     "text": [
      "Calculating R-precision: 100%|██████████| 13677/13677 [02:25<00:00, 94.13it/s] \n"
     ]
    },
    {
     "name": "stdout",
     "output_type": "stream",
     "text": [
      "R precision mean: 0.0017 ± 0.02\n"
     ]
    },
    {
     "name": "stderr",
     "output_type": "stream",
     "text": [
      "Calculating Macro-F1@X: 100%|██████████| 13677/13677 [02:25<00:00, 94.18it/s] \n"
     ]
    },
    {
     "name": "stdout",
     "output_type": "stream",
     "text": [
      "Macro F1@X: 0.0017 ± 0.02\n",
      "--------------------------------------------------midwest--------------------------------------------------\n",
      "Global variables initialized in 0.06 seconds.\n"
     ]
    },
    {
     "name": "stderr",
     "output_type": "stream",
     "text": [
      "Calculating MRR@10: 100%|██████████| 8285/8285 [01:23<00:00, 99.76it/s] \n"
     ]
    },
    {
     "name": "stdout",
     "output_type": "stream",
     "text": [
      "MRR@10 mean: 0.0027 ± 0.05\n"
     ]
    },
    {
     "name": "stderr",
     "output_type": "stream",
     "text": [
      "Calculating R-precision: 100%|██████████| 8285/8285 [00:43<00:00, 192.15it/s]\n"
     ]
    },
    {
     "name": "stdout",
     "output_type": "stream",
     "text": [
      "R precision mean: 0.0049 ± 0.04\n"
     ]
    },
    {
     "name": "stderr",
     "output_type": "stream",
     "text": [
      "Calculating Macro-F1@X: 100%|██████████| 8285/8285 [00:43<00:00, 192.47it/s]\n"
     ]
    },
    {
     "name": "stdout",
     "output_type": "stream",
     "text": [
      "Macro F1@X: 0.0049 ± 0.04\n",
      "--------------------------------------------------west--------------------------------------------------\n",
      "Global variables initialized in 0.01 seconds.\n"
     ]
    },
    {
     "name": "stderr",
     "output_type": "stream",
     "text": [
      "Calculating MRR@10: 100%|██████████| 3158/3158 [00:10<00:00, 287.67it/s]\n"
     ]
    },
    {
     "name": "stdout",
     "output_type": "stream",
     "text": [
      "MRR@10 mean: 0.0063 ± 0.08\n"
     ]
    },
    {
     "name": "stderr",
     "output_type": "stream",
     "text": [
      "Calculating R-precision: 100%|██████████| 3158/3158 [00:05<00:00, 598.42it/s] \n"
     ]
    },
    {
     "name": "stdout",
     "output_type": "stream",
     "text": [
      "R precision mean: 0.0103 ± 0.06\n"
     ]
    },
    {
     "name": "stderr",
     "output_type": "stream",
     "text": [
      "Calculating Macro-F1@X: 100%|██████████| 3158/3158 [00:05<00:00, 601.66it/s] \n"
     ]
    },
    {
     "name": "stdout",
     "output_type": "stream",
     "text": [
      "Macro F1@X: 0.0103 ± 0.06\n",
      "--------------------------------------------------northeast--------------------------------------------------\n",
      "Global variables initialized in 0.00 seconds.\n"
     ]
    },
    {
     "name": "stderr",
     "output_type": "stream",
     "text": [
      "Calculating MRR@10: 100%|██████████| 2558/2558 [00:13<00:00, 195.37it/s]\n"
     ]
    },
    {
     "name": "stdout",
     "output_type": "stream",
     "text": [
      "MRR@10 mean: 0.0098 ± 0.1\n"
     ]
    },
    {
     "name": "stderr",
     "output_type": "stream",
     "text": [
      "Calculating R-precision: 100%|██████████| 2558/2558 [00:08<00:00, 284.52it/s]\n"
     ]
    },
    {
     "name": "stdout",
     "output_type": "stream",
     "text": [
      "R precision mean: 0.0104 ± 0.06\n"
     ]
    },
    {
     "name": "stderr",
     "output_type": "stream",
     "text": [
      "Calculating Macro-F1@X: 100%|██████████| 2558/2558 [00:08<00:00, 285.66it/s]\n"
     ]
    },
    {
     "name": "stdout",
     "output_type": "stream",
     "text": [
      "Macro F1@X: 0.0104 ± 0.06\n"
     ]
    }
   ],
   "source": [
    "mean, std = 0, 0\n",
    "\n",
    "for city in [\"south\", \"midwest\", \"west\", \"northeast\"]:\n",
    "    print(\"-\" * 50 + city + \"-\" * 50)\n",
    "\n",
    "    text_train_embeddings, text_train_labels, text_test_embeddings, text_test_labels = load_embeddings_for_clipstylemodels_ids(\"CLIP\", city, mode=\"text\")\n",
    "    vision_train_embeddings, vision_train_labels, vision_test_embeddings, vision_test_labels = load_embeddings_for_clipstylemodels_ids(\"CLIP\", city, mode=\"image\")\n",
    "    \n",
    "    # text_train_embeddings, text_train_labels, text_test_embeddings, text_test_labels = remove_duplicate_embeddings(text_train_embeddings, text_train_labels, text_test_embeddings, text_test_labels)\n",
    "    # text_train_embeddings, text_train_labels, text_test_embeddings, text_test_labels = find_members(text_train_embeddings, text_train_labels, text_test_embeddings, text_test_labels)\n",
    "\n",
    "    \n",
    "    # Performing mean pooling\n",
    "    # train_embeddings = torch.mean(train_embeddings, dim=1)\n",
    "    test_embeddings = torch.cat((text_train_embeddings, text_test_embeddings), 0)\n",
    "    test_labels = torch.cat((text_train_labels, text_test_labels), 0)\n",
    "\n",
    "    train_embeddings = torch.cat((vision_train_embeddings, vision_test_embeddings), 0)\n",
    "    train_labels = torch.cat((vision_train_labels, vision_test_labels), 0)\n",
    "    \n",
    "    # vision_train_embeddings, vision_train_labels, vision_test_embeddings, vision_test_labels = remove_duplicate_embeddings(vision_train_embeddings, vision_train_labels, vision_test_embeddings, vision_test_labels)\n",
    "    # vision_train_embeddings, vision_train_labels, vision_test_embeddings, vision_test_labels = find_members(vision_train_embeddings, vision_train_labels, vision_test_embeddings, vision_test_labels)\n",
    "    \n",
    "    # Normalize training embeddings\n",
    "    # faiss.normalize_L2(train_embeddings.detach().cpu().numpy())\n",
    "    # Normalize test embeddings\n",
    "    # faiss.normalize_L2(test_embeddings.detach().cpu().numpy())\n",
    "\n",
    "    initialize_globals(train_embeddings, train_labels)\n",
    "\n",
    "    try:\n",
    "        mean_temp, std_temp = generate_mrr_at_1_results(test_embeddings, test_labels, 10)\n",
    "        mean_temp, std_temp = generate_rprecision_results(test_embeddings, test_labels)\n",
    "        # _ = generate_macro_rprecision_results(test_embeddings, test_labels)\n",
    "        mean_temp, std_temp  = generate_macro_f1_at_x_results(test_embeddings, test_labels)\n",
    "        # print(f\"{city}-mean:{round(mean_temp, 4)} ± {round(std_temp, 2)}\\n\")\n",
    "        mean += mean_temp\n",
    "        std += std_temp\n",
    "    except Exception as e:\n",
    "        file.write(f\"Error processing {city}: {e}\\n\")\n",
    "\n",
    "    # Clear cache and free memory\n",
    "    del text_train_embeddings, text_train_labels, text_test_embeddings, text_test_labels\n",
    "    gc.collect()"
   ]
  },
  {
   "cell_type": "code",
   "execution_count": 28,
   "id": "b6528815-fd2f-4301-a843-4a5e53162484",
   "metadata": {
    "tags": []
   },
   "outputs": [
    {
     "name": "stdout",
     "output_type": "stream",
     "text": [
      "--------------------------------------------------south--------------------------------------------------\n",
      "Global variables initialized in 0.10 seconds.\n"
     ]
    },
    {
     "name": "stderr",
     "output_type": "stream",
     "text": [
      "Calculating MRR@10: 100%|██████████| 13677/13677 [04:14<00:00, 53.67it/s]\n"
     ]
    },
    {
     "name": "stdout",
     "output_type": "stream",
     "text": [
      "MRR@10 mean: 0.0001 ± 0.01\n"
     ]
    },
    {
     "name": "stderr",
     "output_type": "stream",
     "text": [
      "Calculating R-precision: 100%|██████████| 13677/13677 [02:24<00:00, 94.34it/s] \n"
     ]
    },
    {
     "name": "stdout",
     "output_type": "stream",
     "text": [
      "R precision mean: 0.0002 ± 0.01\n"
     ]
    },
    {
     "name": "stderr",
     "output_type": "stream",
     "text": [
      "Calculating Macro-F1@X: 100%|██████████| 13677/13677 [02:24<00:00, 94.64it/s] \n"
     ]
    },
    {
     "name": "stdout",
     "output_type": "stream",
     "text": [
      "Macro F1@X: 0.0002 ± 0.01\n",
      "--------------------------------------------------midwest--------------------------------------------------\n",
      "Global variables initialized in 0.05 seconds.\n"
     ]
    },
    {
     "name": "stderr",
     "output_type": "stream",
     "text": [
      "Calculating MRR@10: 100%|██████████| 8285/8285 [01:23<00:00, 99.82it/s] \n"
     ]
    },
    {
     "name": "stdout",
     "output_type": "stream",
     "text": [
      "MRR@10 mean: 0.0001 ± 0.01\n"
     ]
    },
    {
     "name": "stderr",
     "output_type": "stream",
     "text": [
      "Calculating R-precision: 100%|██████████| 8285/8285 [00:42<00:00, 192.73it/s]\n"
     ]
    },
    {
     "name": "stdout",
     "output_type": "stream",
     "text": [
      "R precision mean: 0.0002 ± 0.01\n"
     ]
    },
    {
     "name": "stderr",
     "output_type": "stream",
     "text": [
      "Calculating Macro-F1@X: 100%|██████████| 8285/8285 [00:42<00:00, 193.22it/s]\n"
     ]
    },
    {
     "name": "stdout",
     "output_type": "stream",
     "text": [
      "Macro F1@X: 0.0002 ± 0.01\n",
      "--------------------------------------------------west--------------------------------------------------\n",
      "Global variables initialized in 0.01 seconds.\n"
     ]
    },
    {
     "name": "stderr",
     "output_type": "stream",
     "text": [
      "Calculating MRR@10: 100%|██████████| 3158/3158 [00:10<00:00, 288.87it/s]\n"
     ]
    },
    {
     "name": "stdout",
     "output_type": "stream",
     "text": [
      "MRR@10 mean: 0.0003 ± 0.02\n"
     ]
    },
    {
     "name": "stderr",
     "output_type": "stream",
     "text": [
      "Calculating R-precision: 100%|██████████| 3158/3158 [00:05<00:00, 599.93it/s] \n"
     ]
    },
    {
     "name": "stdout",
     "output_type": "stream",
     "text": [
      "R precision mean: 0.0006 ± 0.01\n"
     ]
    },
    {
     "name": "stderr",
     "output_type": "stream",
     "text": [
      "Calculating Macro-F1@X: 100%|██████████| 3158/3158 [00:05<00:00, 603.97it/s] \n"
     ]
    },
    {
     "name": "stdout",
     "output_type": "stream",
     "text": [
      "Macro F1@X: 0.0006 ± 0.01\n",
      "--------------------------------------------------northeast--------------------------------------------------\n",
      "Global variables initialized in 0.00 seconds.\n"
     ]
    },
    {
     "name": "stderr",
     "output_type": "stream",
     "text": [
      "Calculating MRR@10: 100%|██████████| 2558/2558 [00:13<00:00, 196.63it/s]\n"
     ]
    },
    {
     "name": "stdout",
     "output_type": "stream",
     "text": [
      "MRR@10 mean: 0.0008 ± 0.03\n"
     ]
    },
    {
     "name": "stderr",
     "output_type": "stream",
     "text": [
      "Calculating R-precision: 100%|██████████| 2558/2558 [00:08<00:00, 286.59it/s]\n"
     ]
    },
    {
     "name": "stdout",
     "output_type": "stream",
     "text": [
      "R precision mean: 0.0007 ± 0.01\n"
     ]
    },
    {
     "name": "stderr",
     "output_type": "stream",
     "text": [
      "Calculating Macro-F1@X: 100%|██████████| 2558/2558 [00:08<00:00, 288.27it/s]\n"
     ]
    },
    {
     "name": "stdout",
     "output_type": "stream",
     "text": [
      "Macro F1@X: 0.0007 ± 0.01\n"
     ]
    }
   ],
   "source": [
    "mean, std = 0, 0\n",
    "\n",
    "for city in [\"south\", \"midwest\", \"west\", \"northeast\"]:\n",
    "    print(\"-\" * 50 + city + \"-\" * 50)\n",
    "\n",
    "    text_train_embeddings, text_train_labels, text_test_embeddings, text_test_labels = load_embeddings_for_clipstylemodels_ids(\"CLIPITM\", city, mode=\"text\")\n",
    "    vision_train_embeddings, vision_train_labels, vision_test_embeddings, vision_test_labels = load_embeddings_for_clipstylemodels_ids(\"CLIPITM\", city, mode=\"image\")\n",
    "    \n",
    "    # text_train_embeddings, text_train_labels, text_test_embeddings, text_test_labels = remove_duplicate_embeddings(text_train_embeddings, text_train_labels, text_test_embeddings, text_test_labels)\n",
    "    # text_train_embeddings, text_train_labels, text_test_embeddings, text_test_labels = find_members(text_train_embeddings, text_train_labels, text_test_embeddings, text_test_labels)\n",
    "\n",
    "    \n",
    "    # Performing mean pooling\n",
    "    # train_embeddings = torch.mean(train_embeddings, dim=1)\n",
    "    test_embeddings = torch.cat((text_train_embeddings, text_test_embeddings), 0)\n",
    "    test_labels = torch.cat((text_train_labels, text_test_labels), 0)\n",
    "\n",
    "    train_embeddings = torch.cat((vision_train_embeddings, vision_test_embeddings), 0)\n",
    "    train_labels = torch.cat((vision_train_labels, vision_test_labels), 0)\n",
    "    \n",
    "    train_embeddings = torch.mean(train_embeddings, dim=1)\n",
    "    # test_embeddings = torch.mean(test_embeddings, dim=1)\n",
    "    \n",
    "    # vision_train_embeddings, vision_train_labels, vision_test_embeddings, vision_test_labels = remove_duplicate_embeddings(vision_train_embeddings, vision_train_labels, vision_test_embeddings, vision_test_labels)\n",
    "    # vision_train_embeddings, vision_train_labels, vision_test_embeddings, vision_test_labels = find_members(vision_train_embeddings, vision_train_labels, vision_test_embeddings, vision_test_labels)\n",
    "    \n",
    "    # Normalize training embeddings\n",
    "    # faiss.normalize_L2(train_embeddings.detach().cpu().numpy())\n",
    "    # Normalize test embeddings\n",
    "    # faiss.normalize_L2(test_embeddings.detach().cpu().numpy())\n",
    "\n",
    "    initialize_globals(train_embeddings, train_labels)\n",
    "\n",
    "    mean_temp, std_temp = generate_mrr_at_1_results(test_embeddings, test_labels, 10)\n",
    "    mean_temp, std_temp = generate_rprecision_results(test_embeddings, test_labels)\n",
    "    # _ = generate_macro_rprecision_results(test_embeddings, test_labels)\n",
    "    mean_temp, std_temp  = generate_macro_f1_at_x_results(test_embeddings, test_labels)\n",
    "    # print(f\"{city}-mean:{round(mean_temp, 4)} ± {round(std_temp, 2)}\\n\")\n",
    "    mean += mean_temp\n",
    "    std += std_temp\n",
    "\n",
    "    # Clear cache and free memory\n",
    "    del text_train_embeddings, text_train_labels, text_test_embeddings, text_test_labels\n",
    "    gc.collect()"
   ]
  },
  {
   "cell_type": "code",
   "execution_count": 29,
   "id": "d70548f7-5ef4-4648-bae7-e5e4cc409bb4",
   "metadata": {
    "tags": []
   },
   "outputs": [
    {
     "name": "stdout",
     "output_type": "stream",
     "text": [
      "--------------------------------------------------south--------------------------------------------------\n",
      "Global variables initialized in 0.08 seconds.\n"
     ]
    },
    {
     "name": "stderr",
     "output_type": "stream",
     "text": [
      "Calculating MRR@10: 100%|██████████| 13677/13677 [04:14<00:00, 53.84it/s]\n"
     ]
    },
    {
     "name": "stdout",
     "output_type": "stream",
     "text": [
      "MRR@10 mean: 0.0001 ± 0.01\n"
     ]
    },
    {
     "name": "stderr",
     "output_type": "stream",
     "text": [
      "Calculating R-precision: 100%|██████████| 13677/13677 [02:24<00:00, 94.39it/s] \n"
     ]
    },
    {
     "name": "stdout",
     "output_type": "stream",
     "text": [
      "R precision mean: 0.0 ± 0.0\n"
     ]
    },
    {
     "name": "stderr",
     "output_type": "stream",
     "text": [
      "Calculating Macro-F1@X: 100%|██████████| 13677/13677 [02:24<00:00, 94.62it/s] \n"
     ]
    },
    {
     "name": "stdout",
     "output_type": "stream",
     "text": [
      "Macro F1@X: 0.0 ± 0.0\n",
      "--------------------------------------------------midwest--------------------------------------------------\n",
      "Global variables initialized in 0.04 seconds.\n"
     ]
    },
    {
     "name": "stderr",
     "output_type": "stream",
     "text": [
      "Calculating MRR@10: 100%|██████████| 8285/8285 [01:23<00:00, 99.77it/s] \n"
     ]
    },
    {
     "name": "stdout",
     "output_type": "stream",
     "text": [
      "MRR@10 mean: 0.0001 ± 0.01\n"
     ]
    },
    {
     "name": "stderr",
     "output_type": "stream",
     "text": [
      "Calculating R-precision: 100%|██████████| 8285/8285 [00:42<00:00, 192.70it/s]\n"
     ]
    },
    {
     "name": "stdout",
     "output_type": "stream",
     "text": [
      "R precision mean: 0.0002 ± 0.01\n"
     ]
    },
    {
     "name": "stderr",
     "output_type": "stream",
     "text": [
      "Calculating Macro-F1@X: 100%|██████████| 8285/8285 [00:42<00:00, 193.38it/s]\n"
     ]
    },
    {
     "name": "stdout",
     "output_type": "stream",
     "text": [
      "Macro F1@X: 0.0002 ± 0.01\n",
      "--------------------------------------------------west--------------------------------------------------\n",
      "Global variables initialized in 0.01 seconds.\n"
     ]
    },
    {
     "name": "stderr",
     "output_type": "stream",
     "text": [
      "Calculating MRR@10: 100%|██████████| 3158/3158 [00:10<00:00, 289.10it/s]\n"
     ]
    },
    {
     "name": "stdout",
     "output_type": "stream",
     "text": [
      "MRR@10 mean: 0.0003 ± 0.02\n"
     ]
    },
    {
     "name": "stderr",
     "output_type": "stream",
     "text": [
      "Calculating R-precision: 100%|██████████| 3158/3158 [00:05<00:00, 597.63it/s] \n"
     ]
    },
    {
     "name": "stdout",
     "output_type": "stream",
     "text": [
      "R precision mean: 0.0013 ± 0.03\n"
     ]
    },
    {
     "name": "stderr",
     "output_type": "stream",
     "text": [
      "Calculating Macro-F1@X: 100%|██████████| 3158/3158 [00:05<00:00, 601.95it/s] \n"
     ]
    },
    {
     "name": "stdout",
     "output_type": "stream",
     "text": [
      "Macro F1@X: 0.0013 ± 0.03\n",
      "--------------------------------------------------northeast--------------------------------------------------\n",
      "Global variables initialized in 0.01 seconds.\n"
     ]
    },
    {
     "name": "stderr",
     "output_type": "stream",
     "text": [
      "Calculating MRR@10: 100%|██████████| 2558/2558 [00:13<00:00, 195.93it/s]\n"
     ]
    },
    {
     "name": "stdout",
     "output_type": "stream",
     "text": [
      "MRR@10 mean: 0.0004 ± 0.02\n"
     ]
    },
    {
     "name": "stderr",
     "output_type": "stream",
     "text": [
      "Calculating R-precision: 100%|██████████| 2558/2558 [00:08<00:00, 285.88it/s]\n"
     ]
    },
    {
     "name": "stdout",
     "output_type": "stream",
     "text": [
      "R precision mean: 0.0005 ± 0.01\n"
     ]
    },
    {
     "name": "stderr",
     "output_type": "stream",
     "text": [
      "Calculating Macro-F1@X: 100%|██████████| 2558/2558 [00:08<00:00, 287.51it/s]"
     ]
    },
    {
     "name": "stdout",
     "output_type": "stream",
     "text": [
      "Macro F1@X: 0.0005 ± 0.01\n"
     ]
    },
    {
     "name": "stderr",
     "output_type": "stream",
     "text": [
      "\n"
     ]
    }
   ],
   "source": [
    "mean, std = 0, 0\n",
    "\n",
    "for city in [\"south\", \"midwest\", \"west\", \"northeast\"]:\n",
    "    print(\"-\" * 50 + city + \"-\" * 50)\n",
    "\n",
    "    text_train_embeddings, text_train_labels, text_test_embeddings, text_test_labels = load_embeddings_for_clipstylemodels_ids(\"BLIP2\", city, mode=\"text\")\n",
    "    vision_train_embeddings, vision_train_labels, vision_test_embeddings, vision_test_labels = load_embeddings_for_clipstylemodels_ids(\"BLIP2\", city, mode=\"image\")\n",
    "    \n",
    "    # text_train_embeddings, text_train_labels, text_test_embeddings, text_test_labels = remove_duplicate_embeddings(text_train_embeddings, text_train_labels, text_test_embeddings, text_test_labels)\n",
    "    # text_train_embeddings, text_train_labels, text_test_embeddings, text_test_labels = find_members(text_train_embeddings, text_train_labels, text_test_embeddings, text_test_labels)\n",
    "\n",
    "    \n",
    "    # Performing mean pooling\n",
    "    # train_embeddings = torch.mean(train_embeddings, dim=1)\n",
    "    test_embeddings = torch.cat((text_train_embeddings, text_test_embeddings), 0)\n",
    "    test_labels = torch.cat((text_train_labels, text_test_labels), 0)\n",
    "\n",
    "    train_embeddings = torch.cat((vision_train_embeddings, vision_test_embeddings), 0)\n",
    "    train_labels = torch.cat((vision_train_labels, vision_test_labels), 0)\n",
    "    \n",
    "    # vision_train_embeddings, vision_train_labels, vision_test_embeddings, vision_test_labels = remove_duplicate_embeddings(vision_train_embeddings, vision_train_labels, vision_test_embeddings, vision_test_labels)\n",
    "    # vision_train_embeddings, vision_train_labels, vision_test_embeddings, vision_test_labels = find_members(vision_train_embeddings, vision_train_labels, vision_test_embeddings, vision_test_labels)\n",
    "    \n",
    "    # Normalize training embeddings\n",
    "    # faiss.normalize_L2(train_embeddings.detach().cpu().numpy())\n",
    "    # Normalize test embeddings\n",
    "    # faiss.normalize_L2(test_embeddings.detach().cpu().numpy())\n",
    "    train_embeddings = torch.mean(train_embeddings, dim=1)\n",
    "    # test_embeddings = torch.mean(test_embeddings, dim=1)\n",
    "\n",
    "    initialize_globals(train_embeddings, train_labels)\n",
    "\n",
    "    try:\n",
    "        mean_temp, std_temp = generate_mrr_at_1_results(test_embeddings, test_labels, 10)\n",
    "        mean_temp, std_temp = generate_rprecision_results(test_embeddings, test_labels)\n",
    "        # _ = generate_macro_rprecision_results(test_embeddings, test_labels)\n",
    "        mean_temp, std_temp  = generate_macro_f1_at_x_results(test_embeddings, test_labels)\n",
    "        # print(f\"{city}-mean:{round(mean_temp, 4)} ± {round(std_temp, 2)}\\n\")\n",
    "        mean += mean_temp\n",
    "        std += std_temp\n",
    "    except Exception as e:\n",
    "        file.write(f\"Error processing {city}: {e}\\n\")\n",
    "\n",
    "    # Clear cache and free memory\n",
    "    del text_train_embeddings, text_train_labels, text_test_embeddings, text_test_labels\n",
    "    gc.collect()"
   ]
  },
  {
   "cell_type": "markdown",
   "id": "7ce51cfa-0d7d-4248-b815-91d378e91390",
   "metadata": {},
   "source": [
    "# Text Retrieval"
   ]
  },
  {
   "cell_type": "code",
   "execution_count": null,
   "id": "4e20a8b9-6b7a-412d-9939-5a077f87e43a",
   "metadata": {
    "tags": []
   },
   "outputs": [],
   "source": []
  },
  {
   "cell_type": "code",
   "execution_count": 138,
   "id": "bcd08b62-8c7c-45ea-8dff-275b3857e2c3",
   "metadata": {
    "tags": []
   },
   "outputs": [
    {
     "name": "stdout",
     "output_type": "stream",
     "text": [
      "--------------------------------------------------south--------------------------------------------------\n",
      "Global variables initialized in 0.01 seconds.\n"
     ]
    },
    {
     "name": "stderr",
     "output_type": "stream",
     "text": [
      "Calculating MRR@10: 100%|██████████| 1404/1404 [00:19<00:00, 70.84it/s]\n"
     ]
    },
    {
     "name": "stdout",
     "output_type": "stream",
     "text": [
      "MRR@10 mean: 0.9836 ± 0.1\n"
     ]
    },
    {
     "name": "stderr",
     "output_type": "stream",
     "text": [
      "Calculating R-precision: 100%|██████████| 1404/1404 [00:20<00:00, 69.27it/s]\n"
     ]
    },
    {
     "name": "stdout",
     "output_type": "stream",
     "text": [
      "R precision mean: 0.8687 ± 0.19\n"
     ]
    },
    {
     "name": "stderr",
     "output_type": "stream",
     "text": [
      "Calculating Macro-F1@X: 100%|██████████| 1404/1404 [00:20<00:00, 69.38it/s]\n"
     ]
    },
    {
     "name": "stdout",
     "output_type": "stream",
     "text": [
      "Macro F1@X: 0.8726 ± 0.2\n",
      "--------------------------------------------------midwest--------------------------------------------------\n",
      "Global variables initialized in 0.00 seconds.\n"
     ]
    },
    {
     "name": "stderr",
     "output_type": "stream",
     "text": [
      "Calculating MRR@10: 100%|██████████| 976/976 [00:09<00:00, 108.29it/s]\n"
     ]
    },
    {
     "name": "stdout",
     "output_type": "stream",
     "text": [
      "MRR@10 mean: 0.9694 ± 0.15\n"
     ]
    },
    {
     "name": "stderr",
     "output_type": "stream",
     "text": [
      "Calculating R-precision: 100%|██████████| 976/976 [00:09<00:00, 107.83it/s]\n"
     ]
    },
    {
     "name": "stdout",
     "output_type": "stream",
     "text": [
      "R precision mean: 0.6612 ± 0.31\n"
     ]
    },
    {
     "name": "stderr",
     "output_type": "stream",
     "text": [
      "Calculating Macro-F1@X: 100%|██████████| 976/976 [00:09<00:00, 105.15it/s]\n"
     ]
    },
    {
     "name": "stdout",
     "output_type": "stream",
     "text": [
      "Macro F1@X: 0.5819 ± 0.34\n",
      "--------------------------------------------------west--------------------------------------------------\n",
      "Global variables initialized in 0.00 seconds.\n"
     ]
    },
    {
     "name": "stderr",
     "output_type": "stream",
     "text": [
      "Calculating MRR@10: 100%|██████████| 490/490 [00:02<00:00, 229.72it/s]\n"
     ]
    },
    {
     "name": "stdout",
     "output_type": "stream",
     "text": [
      "MRR@10 mean: 0.9932 ± 0.07\n"
     ]
    },
    {
     "name": "stderr",
     "output_type": "stream",
     "text": [
      "Calculating R-precision: 100%|██████████| 490/490 [00:02<00:00, 228.05it/s]\n"
     ]
    },
    {
     "name": "stdout",
     "output_type": "stream",
     "text": [
      "R precision mean: 0.8008 ± 0.25\n"
     ]
    },
    {
     "name": "stderr",
     "output_type": "stream",
     "text": [
      "Calculating Macro-F1@X: 100%|██████████| 490/490 [00:02<00:00, 228.45it/s]\n"
     ]
    },
    {
     "name": "stdout",
     "output_type": "stream",
     "text": [
      "Macro F1@X: 0.7466 ± 0.26\n",
      "--------------------------------------------------northeast--------------------------------------------------\n",
      "Global variables initialized in 0.00 seconds.\n"
     ]
    },
    {
     "name": "stderr",
     "output_type": "stream",
     "text": [
      "Calculating MRR@10: 100%|██████████| 561/561 [00:02<00:00, 243.59it/s]\n"
     ]
    },
    {
     "name": "stdout",
     "output_type": "stream",
     "text": [
      "MRR@10 mean: 0.9821 ± 0.12\n"
     ]
    },
    {
     "name": "stderr",
     "output_type": "stream",
     "text": [
      "Calculating R-precision: 100%|██████████| 561/561 [00:02<00:00, 235.66it/s]\n"
     ]
    },
    {
     "name": "stdout",
     "output_type": "stream",
     "text": [
      "R precision mean: 0.7365 ± 0.28\n"
     ]
    },
    {
     "name": "stderr",
     "output_type": "stream",
     "text": [
      "Calculating Macro-F1@X: 100%|██████████| 561/561 [00:02<00:00, 245.63it/s]\n"
     ]
    },
    {
     "name": "stdout",
     "output_type": "stream",
     "text": [
      "Macro F1@X: 0.7242 ± 0.31\n"
     ]
    }
   ],
   "source": [
    "mean, std = 0, 0\n",
    "\n",
    "\n",
    "for city in [\"south\", \"midwest\", \"west\", \"northeast\"]:\n",
    "    print(\"-\" * 50 + city + \"-\" * 50)\n",
    "\n",
    "    text_train_embeddings, text_train_labels, text_test_embeddings, text_test_labels = load_embeddings(\"CE\", city, mode=\"text\")\n",
    "    text_train_embeddings, text_train_labels, text_test_embeddings, text_test_labels = remove_duplicate_embeddings(text_train_embeddings, text_train_labels, text_test_embeddings, text_test_labels)\n",
    "\n",
    "    # image_train_embeddings, image_train_labels, image_test_embeddings, image_test_labels = load_embedddings_for_e2e(\"CE+SupCon\", city, mode=\"image\")\n",
    "\n",
    "    # test_embeddings = torch.cat((text_train_embeddings, text_test_embeddings), 0)\n",
    "    # test_labels = torch.cat((text_train_labels, text_test_labels), 0)\n",
    "\n",
    "    # train_embeddings = torch.cat((image_train_embeddings, image_test_embeddings), 0)\n",
    "    # train_labels = torch.cat((image_train_labels, image_test_labels), 0)\n",
    "    \n",
    "    # Performing mean pooling\n",
    "    # train_embeddings = torch.mean(train_embeddings, dim=1)\n",
    "\n",
    "    initialize_globals(text_train_embeddings, text_train_labels)\n",
    "\n",
    "    try:\n",
    "        mean_temp, std_temp = generate_mrr_at_1_results(text_test_embeddings, text_test_labels, 10)\n",
    "        mean_temp, std_temp = generate_rprecision_results(text_test_embeddings, text_test_labels)\n",
    "        # _ = generate_macro_rprecision_results(test_embeddings, test_labels)\n",
    "        mean_temp, std_temp  = generate_macro_f1_at_x_results(text_test_embeddings, text_test_labels)\n",
    "        # print(f\"{city}-mean:{round(mean_temp, 4)} ± {round(std_temp, 2)}\\n\")\n",
    "        mean += mean_temp\n",
    "        std += std_temp\n",
    "    except Exception as e:\n",
    "        file.write(f\"Error processing {city}: {e}\\n\")\n",
    "\n",
    "    # Clear cache and free memory\n",
    "    del text_train_embeddings, text_train_labels, text_test_embeddings, text_test_labels\n",
    "    gc.collect()"
   ]
  },
  {
   "cell_type": "code",
   "execution_count": 84,
   "id": "93dfe24c-04f8-46fa-aa8b-7df86f9cf570",
   "metadata": {
    "tags": []
   },
   "outputs": [
    {
     "name": "stdout",
     "output_type": "stream",
     "text": [
      "--------------------------------------------------south--------------------------------------------------\n",
      "Global variables initialized in 0.10 seconds.\n"
     ]
    },
    {
     "name": "stderr",
     "output_type": "stream",
     "text": [
      "Calculating MRR@10: 100%|██████████| 1017/1017 [00:21<00:00, 47.96it/s]\n"
     ]
    },
    {
     "name": "stdout",
     "output_type": "stream",
     "text": [
      "MRR@10 mean: 0.3281 ± 0.37\n"
     ]
    },
    {
     "name": "stderr",
     "output_type": "stream",
     "text": [
      "Calculating R-precision: 100%|██████████| 1017/1017 [00:21<00:00, 47.36it/s]\n"
     ]
    },
    {
     "name": "stdout",
     "output_type": "stream",
     "text": [
      "R precision mean: 0.065 ± 0.1\n"
     ]
    },
    {
     "name": "stderr",
     "output_type": "stream",
     "text": [
      "Calculating Macro-F1@X: 100%|██████████| 1017/1017 [00:21<00:00, 47.41it/s]\n"
     ]
    },
    {
     "name": "stdout",
     "output_type": "stream",
     "text": [
      "Macro F1@X: 0.0614 ± 0.1\n",
      "Error processing south: name 'file' is not defined\n",
      "\n",
      "--------------------------------------------------midwest--------------------------------------------------\n",
      "Global variables initialized in 0.04 seconds.\n"
     ]
    },
    {
     "name": "stderr",
     "output_type": "stream",
     "text": [
      "Calculating MRR@10: 100%|██████████| 605/605 [00:07<00:00, 80.96it/s]\n"
     ]
    },
    {
     "name": "stdout",
     "output_type": "stream",
     "text": [
      "MRR@10 mean: 0.3434 ± 0.39\n"
     ]
    },
    {
     "name": "stderr",
     "output_type": "stream",
     "text": [
      "Calculating R-precision: 100%|██████████| 605/605 [00:07<00:00, 80.65it/s]\n"
     ]
    },
    {
     "name": "stdout",
     "output_type": "stream",
     "text": [
      "R precision mean: 0.0826 ± 0.14\n"
     ]
    },
    {
     "name": "stderr",
     "output_type": "stream",
     "text": [
      "Calculating Macro-F1@X: 100%|██████████| 605/605 [00:07<00:00, 80.87it/s]\n"
     ]
    },
    {
     "name": "stdout",
     "output_type": "stream",
     "text": [
      "Macro F1@X: 0.0675 ± 0.11\n",
      "Error processing midwest: name 'file' is not defined\n",
      "\n",
      "--------------------------------------------------west--------------------------------------------------\n",
      "Global variables initialized in 0.01 seconds.\n"
     ]
    },
    {
     "name": "stderr",
     "output_type": "stream",
     "text": [
      "Calculating MRR@10: 100%|██████████| 312/312 [00:01<00:00, 209.48it/s]\n"
     ]
    },
    {
     "name": "stdout",
     "output_type": "stream",
     "text": [
      "MRR@10 mean: 0.3683 ± 0.43\n"
     ]
    },
    {
     "name": "stderr",
     "output_type": "stream",
     "text": [
      "Calculating R-precision: 100%|██████████| 312/312 [00:01<00:00, 203.87it/s]\n"
     ]
    },
    {
     "name": "stdout",
     "output_type": "stream",
     "text": [
      "R precision mean: 0.1218 ± 0.17\n"
     ]
    },
    {
     "name": "stderr",
     "output_type": "stream",
     "text": [
      "Calculating Macro-F1@X: 100%|██████████| 312/312 [00:01<00:00, 201.14it/s]\n"
     ]
    },
    {
     "name": "stdout",
     "output_type": "stream",
     "text": [
      "Macro F1@X: 0.107 ± 0.15\n",
      "Error processing west: name 'file' is not defined\n",
      "\n",
      "--------------------------------------------------northeast--------------------------------------------------\n",
      "Global variables initialized in 0.01 seconds.\n"
     ]
    },
    {
     "name": "stderr",
     "output_type": "stream",
     "text": [
      "Calculating MRR@10: 100%|██████████| 357/357 [00:02<00:00, 134.10it/s]\n"
     ]
    },
    {
     "name": "stdout",
     "output_type": "stream",
     "text": [
      "MRR@10 mean: 0.3442 ± 0.4\n"
     ]
    },
    {
     "name": "stderr",
     "output_type": "stream",
     "text": [
      "Calculating R-precision: 100%|██████████| 357/357 [00:02<00:00, 137.33it/s]\n"
     ]
    },
    {
     "name": "stdout",
     "output_type": "stream",
     "text": [
      "R precision mean: 0.1003 ± 0.14\n"
     ]
    },
    {
     "name": "stderr",
     "output_type": "stream",
     "text": [
      "Calculating Macro-F1@X: 100%|██████████| 357/357 [00:02<00:00, 129.09it/s]"
     ]
    },
    {
     "name": "stdout",
     "output_type": "stream",
     "text": [
      "Macro F1@X: 0.0933 ± 0.13\n",
      "Error processing northeast: name 'file' is not defined\n",
      "\n",
      "Average score: 0.0 ± 0.0\n",
      "\n"
     ]
    },
    {
     "name": "stderr",
     "output_type": "stream",
     "text": [
      "\n"
     ]
    }
   ],
   "source": [
    "mean, std = 0, 0\n",
    "\n",
    "for city in [\"south\", \"midwest\", \"west\", \"northeast\"]:\n",
    "    print(\"-\" * 50 + city + \"-\" * 50)\n",
    "    text_train_embeddings, text_train_labels, text_test_embeddings, text_test_labels = load_embeddings_for_updatedclipstylemodels(\"CLIPITM\", city, mode=\"image\")\n",
    "    \n",
    "    # image_train_embeddings, image_train_labels, image_test_embeddings, image_test_labels = load_embeddings(\"CE+SupCon+ITM\", city, mode=\"image\")\n",
    "    text_train_embeddings, text_train_labels, text_test_embeddings, text_test_labels = remove_duplicate_embeddings(text_train_embeddings, text_train_labels, text_test_embeddings, text_test_labels)\n",
    "    # print(text_train_embeddings.shape)\n",
    "    # print(text_test_embeddings.shape)\n",
    "    text_train_embeddings, text_train_labels, text_test_embeddings, text_test_labels = find_members(text_train_embeddings, text_train_labels, text_test_embeddings, text_test_labels)\n",
    "    \n",
    "    initialize_globals(text_train_embeddings, text_train_labels)\n",
    "\n",
    "    try:\n",
    "        mean_temp, std_temp = generate_mrr_at_1_results(text_test_embeddings, text_test_labels, 10)\n",
    "        mean_temp, std_temp = generate_rprecision_results(text_test_embeddings, text_test_labels)\n",
    "        # _ = generate_macro_rprecision_results(test_embeddings, test_labels)\n",
    "        mean_temp, std_temp  = generate_macro_f1_at_x_results(text_test_embeddings, text_test_labels)\n",
    "        file.write(f\"{city}-mean:{round(mean_temp, 4)} ± {round(std_temp, 2)}\\n\")\n",
    "        mean += mean_temp\n",
    "        std += std_temp\n",
    "    except Exception as e:\n",
    "        print(f\"Error processing {city}: {e}\\n\")\n",
    "\n",
    "    # Clear cache and free memory\n",
    "    del text_train_embeddings, text_train_labels, text_test_embeddings, text_test_labels\n",
    "    gc.collect()\n",
    "            \n",
    "print(f\"Average score: {round(mean/7, 4)} ± {round(std/7, 2)}\\n\")"
   ]
  },
  {
   "cell_type": "code",
   "execution_count": 27,
   "id": "62cd3ee1-faf4-404f-ac53-4ca232b346ff",
   "metadata": {
    "tags": []
   },
   "outputs": [
    {
     "name": "stdout",
     "output_type": "stream",
     "text": [
      "--------------------------------------------------south--------------------------------------------------\n",
      "Global variables initialized in 0.18 seconds.\n"
     ]
    },
    {
     "name": "stderr",
     "output_type": "stream",
     "text": [
      "Calculating MRR@10: 100%|██████████| 1338/1338 [01:23<00:00, 16.04it/s]\n"
     ]
    },
    {
     "name": "stdout",
     "output_type": "stream",
     "text": [
      "MRR@10 mean: 0.9814 ± 0.1\n"
     ]
    },
    {
     "name": "stderr",
     "output_type": "stream",
     "text": [
      "Calculating R-precision: 100%|██████████| 1338/1338 [01:23<00:00, 16.02it/s]\n"
     ]
    },
    {
     "name": "stdout",
     "output_type": "stream",
     "text": [
      "R precision mean: 0.795 ± 0.19\n"
     ]
    },
    {
     "name": "stderr",
     "output_type": "stream",
     "text": [
      "Calculating Macro-F1@X: 100%|██████████| 1338/1338 [01:20<00:00, 16.60it/s]\n"
     ]
    },
    {
     "name": "stdout",
     "output_type": "stream",
     "text": [
      "Macro F1@X: 0.8487 ± 0.2\n",
      "Error processing south: name 'file' is not defined\n",
      "\n",
      "--------------------------------------------------midwest--------------------------------------------------\n",
      "Global variables initialized in 0.12 seconds.\n"
     ]
    },
    {
     "name": "stderr",
     "output_type": "stream",
     "text": [
      "Calculating MRR@10: 100%|██████████| 914/914 [00:32<00:00, 28.46it/s]\n"
     ]
    },
    {
     "name": "stdout",
     "output_type": "stream",
     "text": [
      "MRR@10 mean: 0.9378 ± 0.2\n"
     ]
    },
    {
     "name": "stderr",
     "output_type": "stream",
     "text": [
      "Calculating R-precision: 100%|██████████| 914/914 [00:29<00:00, 30.94it/s]\n"
     ]
    },
    {
     "name": "stdout",
     "output_type": "stream",
     "text": [
      "R precision mean: 0.5524 ± 0.25\n"
     ]
    },
    {
     "name": "stderr",
     "output_type": "stream",
     "text": [
      "Calculating Macro-F1@X: 100%|██████████| 914/914 [00:29<00:00, 30.70it/s]\n"
     ]
    },
    {
     "name": "stdout",
     "output_type": "stream",
     "text": [
      "Macro F1@X: 0.5325 ± 0.28\n",
      "Error processing midwest: name 'file' is not defined\n",
      "\n",
      "--------------------------------------------------west--------------------------------------------------\n",
      "Global variables initialized in 0.04 seconds.\n"
     ]
    },
    {
     "name": "stderr",
     "output_type": "stream",
     "text": [
      "Calculating MRR@10: 100%|██████████| 452/452 [00:05<00:00, 76.04it/s]\n"
     ]
    },
    {
     "name": "stdout",
     "output_type": "stream",
     "text": [
      "MRR@10 mean: 0.9559 ± 0.18\n"
     ]
    },
    {
     "name": "stderr",
     "output_type": "stream",
     "text": [
      "Calculating R-precision: 100%|██████████| 452/452 [00:06<00:00, 73.23it/s]\n"
     ]
    },
    {
     "name": "stdout",
     "output_type": "stream",
     "text": [
      "R precision mean: 0.6759 ± 0.23\n"
     ]
    },
    {
     "name": "stderr",
     "output_type": "stream",
     "text": [
      "Calculating Macro-F1@X: 100%|██████████| 452/452 [00:06<00:00, 71.97it/s]\n"
     ]
    },
    {
     "name": "stdout",
     "output_type": "stream",
     "text": [
      "Macro F1@X: 0.705 ± 0.24\n",
      "Error processing west: name 'file' is not defined\n",
      "\n",
      "--------------------------------------------------northeast--------------------------------------------------\n",
      "Global variables initialized in 0.03 seconds.\n"
     ]
    },
    {
     "name": "stderr",
     "output_type": "stream",
     "text": [
      "Calculating MRR@10: 100%|██████████| 515/515 [00:06<00:00, 76.59it/s]\n"
     ]
    },
    {
     "name": "stdout",
     "output_type": "stream",
     "text": [
      "MRR@10 mean: 0.969 ± 0.14\n"
     ]
    },
    {
     "name": "stderr",
     "output_type": "stream",
     "text": [
      "Calculating R-precision: 100%|██████████| 515/515 [00:06<00:00, 76.07it/s]\n"
     ]
    },
    {
     "name": "stdout",
     "output_type": "stream",
     "text": [
      "R precision mean: 0.6691 ± 0.27\n"
     ]
    },
    {
     "name": "stderr",
     "output_type": "stream",
     "text": [
      "Calculating Macro-F1@X: 100%|██████████| 515/515 [00:06<00:00, 74.86it/s]"
     ]
    },
    {
     "name": "stdout",
     "output_type": "stream",
     "text": [
      "Macro F1@X: 0.6944 ± 0.29\n",
      "Error processing northeast: name 'file' is not defined\n",
      "\n",
      "Average score: 0.0 ± 0.0\n",
      "\n"
     ]
    },
    {
     "name": "stderr",
     "output_type": "stream",
     "text": [
      "\n"
     ]
    }
   ],
   "source": [
    "mean, std = 0, 0\n",
    "\n",
    "for city in [\"south\", \"midwest\", \"west\", \"northeast\"]:\n",
    "    print(\"-\" * 50 + city + \"-\" * 50)\n",
    "    # BLIP2-CESupCon\n",
    "    text_train_embeddings, text_train_labels, text_test_embeddings, text_test_labels = load_embeddings_for_finetunedclipstylemodels(\"BLIP2-CESupCon\", city, mode=\"multimodal\")\n",
    "    \n",
    "    # image_train_embeddings, image_train_labels, image_test_embeddings, image_test_labels = load_embeddings(\"CE+SupCon+ITM\", city, mode=\"image\")\n",
    "    text_train_embeddings, text_train_labels, text_test_embeddings, text_test_labels = remove_duplicate_embeddings(text_train_embeddings, text_train_labels, text_test_embeddings, text_test_labels)\n",
    "    # print(text_train_embeddings.shape)\n",
    "    # print(text_test_embeddings.shape)\n",
    "    text_train_embeddings, text_train_labels, text_test_embeddings, text_test_labels = find_members(text_train_embeddings, text_train_labels, text_test_embeddings, text_test_labels)\n",
    "    \n",
    "    initialize_globals(text_train_embeddings, text_train_labels)\n",
    "\n",
    "    try:\n",
    "        mean_temp, std_temp = generate_mrr_at_1_results(text_test_embeddings, text_test_labels, 10)\n",
    "        mean_temp, std_temp = generate_rprecision_results(text_test_embeddings, text_test_labels)\n",
    "        # _ = generate_macro_rprecision_results(test_embeddings, test_labels)\n",
    "        mean_temp, std_temp  = generate_macro_f1_at_x_results(text_test_embeddings, text_test_labels)\n",
    "        file.write(f\"{city}-mean:{round(mean_temp, 4)} ± {round(std_temp, 2)}\\n\")\n",
    "        mean += mean_temp\n",
    "        std += std_temp\n",
    "    except Exception as e:\n",
    "        print(f\"Error processing {city}: {e}\\n\")\n",
    "\n",
    "    # Clear cache and free memory\n",
    "    del text_train_embeddings, text_train_labels, text_test_embeddings, text_test_labels\n",
    "    gc.collect()\n",
    "            \n",
    "print(f\"Average score: {round(mean/7, 4)} ± {round(std/7, 2)}\\n\")"
   ]
  },
  {
   "cell_type": "code",
   "execution_count": 16,
   "id": "89c28d4d-d492-46a2-be0f-064d18ad7801",
   "metadata": {
    "tags": []
   },
   "outputs": [
    {
     "name": "stdout",
     "output_type": "stream",
     "text": [
      "--------------------------------------------------south--------------------------------------------------\n",
      "Global variables initialized in 0.06 seconds.\n"
     ]
    },
    {
     "name": "stderr",
     "output_type": "stream",
     "text": [
      "Calculating MRR@10: 100%|██████████| 213/213 [00:02<00:00, 94.53it/s] \n"
     ]
    },
    {
     "name": "stdout",
     "output_type": "stream",
     "text": [
      "MRR@10 mean: 0.8886 ± 0.31\n"
     ]
    },
    {
     "name": "stderr",
     "output_type": "stream",
     "text": [
      "Calculating R-precision: 100%|██████████| 213/213 [00:02<00:00, 93.98it/s] \n"
     ]
    },
    {
     "name": "stdout",
     "output_type": "stream",
     "text": [
      "R precision mean: 0.7632 ± 0.32\n"
     ]
    },
    {
     "name": "stderr",
     "output_type": "stream",
     "text": [
      "Calculating Macro-F1@X: 100%|██████████| 213/213 [00:02<00:00, 94.05it/s] \n"
     ]
    },
    {
     "name": "stdout",
     "output_type": "stream",
     "text": [
      "Macro F1@X: 0.7879 ± 0.29\n",
      "Error processing south: name 'file' is not defined\n",
      "\n",
      "--------------------------------------------------midwest--------------------------------------------------\n",
      "Global variables initialized in 0.02 seconds.\n"
     ]
    },
    {
     "name": "stderr",
     "output_type": "stream",
     "text": [
      "Calculating MRR@10: 100%|██████████| 146/146 [00:00<00:00, 159.09it/s]\n"
     ]
    },
    {
     "name": "stdout",
     "output_type": "stream",
     "text": [
      "MRR@10 mean: 0.7397 ± 0.43\n"
     ]
    },
    {
     "name": "stderr",
     "output_type": "stream",
     "text": [
      "Calculating R-precision: 100%|██████████| 146/146 [00:00<00:00, 160.13it/s]\n"
     ]
    },
    {
     "name": "stdout",
     "output_type": "stream",
     "text": [
      "R precision mean: 0.5666 ± 0.4\n"
     ]
    },
    {
     "name": "stderr",
     "output_type": "stream",
     "text": [
      "Calculating Macro-F1@X: 100%|██████████| 146/146 [00:00<00:00, 159.53it/s]\n"
     ]
    },
    {
     "name": "stdout",
     "output_type": "stream",
     "text": [
      "Macro F1@X: 0.5762 ± 0.39\n",
      "Error processing midwest: name 'file' is not defined\n",
      "\n",
      "--------------------------------------------------west--------------------------------------------------\n",
      "Global variables initialized in 0.00 seconds.\n"
     ]
    },
    {
     "name": "stderr",
     "output_type": "stream",
     "text": [
      "Calculating MRR@10: 100%|██████████| 50/50 [00:00<00:00, 337.96it/s]\n"
     ]
    },
    {
     "name": "stdout",
     "output_type": "stream",
     "text": [
      "MRR@10 mean: 0.86 ± 0.35\n"
     ]
    },
    {
     "name": "stderr",
     "output_type": "stream",
     "text": [
      "Calculating R-precision: 100%|██████████| 50/50 [00:00<00:00, 314.32it/s]\n"
     ]
    },
    {
     "name": "stdout",
     "output_type": "stream",
     "text": [
      "R precision mean: 0.7652 ± 0.31\n"
     ]
    },
    {
     "name": "stderr",
     "output_type": "stream",
     "text": [
      "Calculating Macro-F1@X: 100%|██████████| 50/50 [00:00<00:00, 325.26it/s]\n"
     ]
    },
    {
     "name": "stdout",
     "output_type": "stream",
     "text": [
      "Macro F1@X: 0.7482 ± 0.29\n",
      "Error processing west: name 'file' is not defined\n",
      "\n",
      "--------------------------------------------------northeast--------------------------------------------------\n",
      "Global variables initialized in 0.00 seconds.\n"
     ]
    },
    {
     "name": "stderr",
     "output_type": "stream",
     "text": [
      "Calculating MRR@10: 100%|██████████| 32/32 [00:00<00:00, 491.16it/s]\n"
     ]
    },
    {
     "name": "stdout",
     "output_type": "stream",
     "text": [
      "MRR@10 mean: 0.7604 ± 0.42\n"
     ]
    },
    {
     "name": "stderr",
     "output_type": "stream",
     "text": [
      "Calculating R-precision: 100%|██████████| 32/32 [00:00<00:00, 522.41it/s]\n"
     ]
    },
    {
     "name": "stdout",
     "output_type": "stream",
     "text": [
      "R precision mean: 0.5869 ± 0.4\n"
     ]
    },
    {
     "name": "stderr",
     "output_type": "stream",
     "text": [
      "Calculating Macro-F1@X: 100%|██████████| 32/32 [00:00<00:00, 552.40it/s]"
     ]
    },
    {
     "name": "stdout",
     "output_type": "stream",
     "text": [
      "Macro F1@X: 0.5912 ± 0.38\n",
      "Error processing northeast: name 'file' is not defined\n",
      "\n",
      "Average score: 0.0 ± 0.0\n",
      "\n"
     ]
    },
    {
     "name": "stderr",
     "output_type": "stream",
     "text": [
      "\n"
     ]
    }
   ],
   "source": [
    "mean, std = 0, 0\n",
    "\n",
    "for city in [\"south\", \"midwest\", \"west\", \"northeast\"]:\n",
    "    print(\"-\" * 50 + city + \"-\" * 50)\n",
    "    # BLIP2-CESupCon\n",
    "    text_train_embeddings, text_train_labels, text_test_embeddings, text_test_labels = load_embeddings_for_finetunedclipstylemodels(\"BLIP2-CESupCon\", city, mode=\"text\")\n",
    "    \n",
    "    # image_train_embeddings, image_train_labels, image_test_embeddings, image_test_labels = load_embeddings(\"CE+SupCon+ITM\", city, mode=\"image\")\n",
    "    text_train_embeddings, text_train_labels, text_test_embeddings, text_test_labels = remove_duplicate_embeddings(text_train_embeddings, text_train_labels, text_test_embeddings, text_test_labels)\n",
    "    # print(text_train_embeddings.shape)\n",
    "    # print(text_test_embeddings.shape)\n",
    "    text_train_embeddings, text_train_labels, text_test_embeddings, text_test_labels = find_members(text_train_embeddings, text_train_labels, text_test_embeddings, text_test_labels)\n",
    "    \n",
    "    # Normalize training embeddings\n",
    "    faiss.normalize_L2(text_train_embeddings.detach().cpu().numpy())\n",
    "    # Normalize test embeddings\n",
    "    faiss.normalize_L2(text_test_embeddings.detach().cpu().numpy())\n",
    "    \n",
    "    initialize_globals(text_train_embeddings, text_train_labels)\n",
    "\n",
    "    try:\n",
    "        mean_temp, std_temp = generate_mrr_at_1_results(text_test_embeddings, text_test_labels, 10)\n",
    "        mean_temp, std_temp = generate_rprecision_results(text_test_embeddings, text_test_labels)\n",
    "        # _ = generate_macro_rprecision_results(test_embeddings, test_labels)\n",
    "        mean_temp, std_temp  = generate_macro_f1_at_x_results(text_test_embeddings, text_test_labels)\n",
    "        file.write(f\"{city}-mean:{round(mean_temp, 4)} ± {round(std_temp, 2)}\\n\")\n",
    "        mean += mean_temp\n",
    "        std += std_temp\n",
    "    except Exception as e:\n",
    "        print(f\"Error processing {city}: {e}\\n\")\n",
    "\n",
    "    # Clear cache and free memory\n",
    "    del text_train_embeddings, text_train_labels, text_test_embeddings, text_test_labels\n",
    "    gc.collect()\n",
    "            \n",
    "print(f\"Average score: {round(mean/7, 4)} ± {round(std/7, 2)}\\n\")"
   ]
  },
  {
   "cell_type": "code",
   "execution_count": 32,
   "id": "aac6d64f-c0b4-4440-b150-29ea607384c3",
   "metadata": {
    "tags": []
   },
   "outputs": [
    {
     "name": "stdout",
     "output_type": "stream",
     "text": [
      "--------------------------------------------------south--------------------------------------------------\n",
      "Global variables initialized in 0.16 seconds.\n"
     ]
    },
    {
     "name": "stderr",
     "output_type": "stream",
     "text": [
      "Calculating MRR@10: 100%|██████████| 1338/1338 [01:22<00:00, 16.27it/s]\n"
     ]
    },
    {
     "name": "stdout",
     "output_type": "stream",
     "text": [
      "MRR@10 mean: 0.9739 ± 0.12\n"
     ]
    },
    {
     "name": "stderr",
     "output_type": "stream",
     "text": [
      "Calculating R-precision: 100%|██████████| 1338/1338 [01:23<00:00, 16.09it/s]\n"
     ]
    },
    {
     "name": "stdout",
     "output_type": "stream",
     "text": [
      "R precision mean: 0.7282 ± 0.22\n"
     ]
    },
    {
     "name": "stderr",
     "output_type": "stream",
     "text": [
      "Calculating Macro-F1@X: 100%|██████████| 1338/1338 [01:23<00:00, 16.11it/s]\n"
     ]
    },
    {
     "name": "stdout",
     "output_type": "stream",
     "text": [
      "Macro F1@X: 0.7313 ± 0.25\n",
      "Error processing south: name 'file' is not defined\n",
      "\n",
      "--------------------------------------------------midwest--------------------------------------------------\n",
      "Global variables initialized in 0.08 seconds.\n"
     ]
    },
    {
     "name": "stderr",
     "output_type": "stream",
     "text": [
      "Calculating MRR@10: 100%|██████████| 914/914 [00:30<00:00, 30.22it/s]\n"
     ]
    },
    {
     "name": "stdout",
     "output_type": "stream",
     "text": [
      "MRR@10 mean: 0.9285 ± 0.2\n"
     ]
    },
    {
     "name": "stderr",
     "output_type": "stream",
     "text": [
      "Calculating R-precision: 100%|██████████| 914/914 [00:30<00:00, 29.97it/s]\n"
     ]
    },
    {
     "name": "stdout",
     "output_type": "stream",
     "text": [
      "R precision mean: 0.4968 ± 0.23\n"
     ]
    },
    {
     "name": "stderr",
     "output_type": "stream",
     "text": [
      "Calculating Macro-F1@X: 100%|██████████| 914/914 [00:30<00:00, 29.81it/s]\n"
     ]
    },
    {
     "name": "stdout",
     "output_type": "stream",
     "text": [
      "Macro F1@X: 0.4538 ± 0.26\n",
      "Error processing midwest: name 'file' is not defined\n",
      "\n",
      "--------------------------------------------------west--------------------------------------------------\n",
      "Global variables initialized in 0.02 seconds.\n"
     ]
    },
    {
     "name": "stderr",
     "output_type": "stream",
     "text": [
      "Calculating MRR@10: 100%|██████████| 452/452 [00:06<00:00, 72.47it/s]\n"
     ]
    },
    {
     "name": "stdout",
     "output_type": "stream",
     "text": [
      "MRR@10 mean: 0.9498 ± 0.19\n"
     ]
    },
    {
     "name": "stderr",
     "output_type": "stream",
     "text": [
      "Calculating R-precision: 100%|██████████| 452/452 [00:06<00:00, 70.74it/s]\n"
     ]
    },
    {
     "name": "stdout",
     "output_type": "stream",
     "text": [
      "R precision mean: 0.6109 ± 0.23\n"
     ]
    },
    {
     "name": "stderr",
     "output_type": "stream",
     "text": [
      "Calculating Macro-F1@X: 100%|██████████| 452/452 [00:06<00:00, 69.17it/s]\n"
     ]
    },
    {
     "name": "stdout",
     "output_type": "stream",
     "text": [
      "Macro F1@X: 0.6275 ± 0.24\n",
      "Error processing west: name 'file' is not defined\n",
      "\n",
      "--------------------------------------------------northeast--------------------------------------------------\n",
      "Global variables initialized in 0.03 seconds.\n"
     ]
    },
    {
     "name": "stderr",
     "output_type": "stream",
     "text": [
      "Calculating MRR@10: 100%|██████████| 515/515 [00:07<00:00, 70.76it/s]\n"
     ]
    },
    {
     "name": "stdout",
     "output_type": "stream",
     "text": [
      "MRR@10 mean: 0.9655 ± 0.15\n"
     ]
    },
    {
     "name": "stderr",
     "output_type": "stream",
     "text": [
      "Calculating R-precision: 100%|██████████| 515/515 [00:07<00:00, 68.31it/s]\n"
     ]
    },
    {
     "name": "stdout",
     "output_type": "stream",
     "text": [
      "R precision mean: 0.6419 ± 0.27\n"
     ]
    },
    {
     "name": "stderr",
     "output_type": "stream",
     "text": [
      "Calculating Macro-F1@X: 100%|██████████| 515/515 [00:07<00:00, 68.15it/s]\n"
     ]
    },
    {
     "name": "stdout",
     "output_type": "stream",
     "text": [
      "Macro F1@X: 0.6591 ± 0.28\n",
      "Error processing northeast: name 'file' is not defined\n",
      "\n",
      "Average score: 0.0 ± 0.0\n",
      "\n"
     ]
    }
   ],
   "source": [
    "mean, std = 0, 0\n",
    "\n",
    "for city in [\"south\", \"midwest\", \"west\", \"northeast\"]:\n",
    "    print(\"-\" * 50 + city + \"-\" * 50)\n",
    "    text_train_embeddings, text_train_labels, text_test_embeddings, text_test_labels = load_embeddings_for_finetunedclipstylemodels(\"CLIPITM\", city, mode=\"multimodal\")\n",
    "    \n",
    "    # image_train_embeddings, image_train_labels, image_test_embeddings, image_test_labels = load_embeddings(\"CE+SupCon+ITM\", city, mode=\"image\")\n",
    "    text_train_embeddings, text_train_labels, text_test_embeddings, text_test_labels = remove_duplicate_embeddings(text_train_embeddings, text_train_labels, text_test_embeddings, text_test_labels)\n",
    "    # print(text_train_embeddings.shape)\n",
    "    # print(text_test_embeddings.shape)\n",
    "    text_train_embeddings, text_train_labels, text_test_embeddings, text_test_labels = find_members(text_train_embeddings, text_train_labels, text_test_embeddings, text_test_labels)\n",
    "    \n",
    "    initialize_globals(text_train_embeddings, text_train_labels)\n",
    "\n",
    "    try:\n",
    "        mean_temp, std_temp = generate_mrr_at_1_results(text_test_embeddings, text_test_labels, 10)\n",
    "        mean_temp, std_temp = generate_rprecision_results(text_test_embeddings, text_test_labels)\n",
    "        # _ = generate_macro_rprecision_results(test_embeddings, test_labels)\n",
    "        mean_temp, std_temp  = generate_macro_f1_at_x_results(text_test_embeddings, text_test_labels)\n",
    "        file.write(f\"{city}-mean:{round(mean_temp, 4)} ± {round(std_temp, 2)}\\n\")\n",
    "        mean += mean_temp\n",
    "        std += std_temp\n",
    "    except Exception as e:\n",
    "        print(f\"Error processing {city}: {e}\\n\")\n",
    "\n",
    "    # Clear cache and free memory\n",
    "    del text_train_embeddings, text_train_labels, text_test_embeddings, text_test_labels\n",
    "    gc.collect()\n",
    "            \n",
    "print(f\"Average score: {round(mean/7, 4)} ± {round(std/7, 2)}\\n\")"
   ]
  },
  {
   "cell_type": "code",
   "execution_count": 33,
   "id": "7f4d1da6-f476-443d-8588-252fc5276870",
   "metadata": {
    "tags": []
   },
   "outputs": [
    {
     "name": "stdout",
     "output_type": "stream",
     "text": [
      "--------------------------------------------------south--------------------------------------------------\n",
      "Global variables initialized in 0.12 seconds.\n"
     ]
    },
    {
     "name": "stderr",
     "output_type": "stream",
     "text": [
      "Calculating MRR@10: 100%|██████████| 1338/1338 [01:22<00:00, 16.21it/s]\n"
     ]
    },
    {
     "name": "stdout",
     "output_type": "stream",
     "text": [
      "MRR@10 mean: 0.9774 ± 0.11\n"
     ]
    },
    {
     "name": "stderr",
     "output_type": "stream",
     "text": [
      "Calculating R-precision: 100%|██████████| 1338/1338 [01:23<00:00, 15.97it/s]\n"
     ]
    },
    {
     "name": "stdout",
     "output_type": "stream",
     "text": [
      "R precision mean: 0.7723 ± 0.2\n"
     ]
    },
    {
     "name": "stderr",
     "output_type": "stream",
     "text": [
      "Calculating Macro-F1@X: 100%|██████████| 1338/1338 [01:23<00:00, 15.96it/s]\n"
     ]
    },
    {
     "name": "stdout",
     "output_type": "stream",
     "text": [
      "Macro F1@X: 0.7973 ± 0.22\n",
      "Error processing south: name 'file' is not defined\n",
      "\n",
      "--------------------------------------------------midwest--------------------------------------------------\n",
      "Global variables initialized in 0.08 seconds.\n"
     ]
    },
    {
     "name": "stderr",
     "output_type": "stream",
     "text": [
      "Calculating MRR@10: 100%|██████████| 914/914 [00:29<00:00, 30.75it/s]\n"
     ]
    },
    {
     "name": "stdout",
     "output_type": "stream",
     "text": [
      "MRR@10 mean: 0.9426 ± 0.19\n"
     ]
    },
    {
     "name": "stderr",
     "output_type": "stream",
     "text": [
      "Calculating R-precision: 100%|██████████| 914/914 [00:30<00:00, 30.43it/s]\n"
     ]
    },
    {
     "name": "stdout",
     "output_type": "stream",
     "text": [
      "R precision mean: 0.5564 ± 0.25\n"
     ]
    },
    {
     "name": "stderr",
     "output_type": "stream",
     "text": [
      "Calculating Macro-F1@X: 100%|██████████| 914/914 [00:30<00:00, 30.19it/s]\n"
     ]
    },
    {
     "name": "stdout",
     "output_type": "stream",
     "text": [
      "Macro F1@X: 0.5446 ± 0.29\n",
      "Error processing midwest: name 'file' is not defined\n",
      "\n",
      "--------------------------------------------------west--------------------------------------------------\n",
      "Global variables initialized in 0.01 seconds.\n"
     ]
    },
    {
     "name": "stderr",
     "output_type": "stream",
     "text": [
      "Calculating MRR@10: 100%|██████████| 452/452 [00:06<00:00, 72.66it/s]\n"
     ]
    },
    {
     "name": "stdout",
     "output_type": "stream",
     "text": [
      "MRR@10 mean: 0.9648 ± 0.15\n"
     ]
    },
    {
     "name": "stderr",
     "output_type": "stream",
     "text": [
      "Calculating R-precision: 100%|██████████| 452/452 [00:06<00:00, 70.82it/s]\n"
     ]
    },
    {
     "name": "stdout",
     "output_type": "stream",
     "text": [
      "R precision mean: 0.6943 ± 0.23\n"
     ]
    },
    {
     "name": "stderr",
     "output_type": "stream",
     "text": [
      "Calculating Macro-F1@X: 100%|██████████| 452/452 [00:06<00:00, 68.79it/s]\n"
     ]
    },
    {
     "name": "stdout",
     "output_type": "stream",
     "text": [
      "Macro F1@X: 0.725 ± 0.24\n",
      "Error processing west: name 'file' is not defined\n",
      "\n",
      "--------------------------------------------------northeast--------------------------------------------------\n",
      "Global variables initialized in 0.01 seconds.\n"
     ]
    },
    {
     "name": "stderr",
     "output_type": "stream",
     "text": [
      "Calculating MRR@10: 100%|██████████| 515/515 [00:07<00:00, 70.03it/s]\n"
     ]
    },
    {
     "name": "stdout",
     "output_type": "stream",
     "text": [
      "MRR@10 mean: 0.9759 ± 0.12\n"
     ]
    },
    {
     "name": "stderr",
     "output_type": "stream",
     "text": [
      "Calculating R-precision: 100%|██████████| 515/515 [00:07<00:00, 71.32it/s]\n"
     ]
    },
    {
     "name": "stdout",
     "output_type": "stream",
     "text": [
      "R precision mean: 0.6809 ± 0.26\n"
     ]
    },
    {
     "name": "stderr",
     "output_type": "stream",
     "text": [
      "Calculating Macro-F1@X: 100%|██████████| 515/515 [00:07<00:00, 69.45it/s]\n"
     ]
    },
    {
     "name": "stdout",
     "output_type": "stream",
     "text": [
      "Macro F1@X: 0.7077 ± 0.29\n",
      "Error processing northeast: name 'file' is not defined\n",
      "\n",
      "Average score: 0.0 ± 0.0\n",
      "\n"
     ]
    }
   ],
   "source": [
    "mean, std = 0, 0\n",
    "\n",
    "for city in [\"south\", \"midwest\", \"west\", \"northeast\"]:\n",
    "    print(\"-\" * 50 + city + \"-\" * 50)\n",
    "    text_train_embeddings, text_train_labels, text_test_embeddings, text_test_labels = load_embeddings_for_finetunedclipstylemodels(\"BLIP2\", city, mode=\"multimodal\")\n",
    "    \n",
    "    # image_train_embeddings, image_train_labels, image_test_embeddings, image_test_labels = load_embeddings(\"CE+SupCon+ITM\", city, mode=\"image\")\n",
    "    text_train_embeddings, text_train_labels, text_test_embeddings, text_test_labels = remove_duplicate_embeddings(text_train_embeddings, text_train_labels, text_test_embeddings, text_test_labels)\n",
    "    # print(text_train_embeddings.shape)\n",
    "    # print(text_test_embeddings.shape)\n",
    "    text_train_embeddings, text_train_labels, text_test_embeddings, text_test_labels = find_members(text_train_embeddings, text_train_labels, text_test_embeddings, text_test_labels)\n",
    "    \n",
    "    initialize_globals(text_train_embeddings, text_train_labels)\n",
    "\n",
    "    try:\n",
    "        mean_temp, std_temp = generate_mrr_at_1_results(text_test_embeddings, text_test_labels, 10)\n",
    "        mean_temp, std_temp = generate_rprecision_results(text_test_embeddings, text_test_labels)\n",
    "        # _ = generate_macro_rprecision_results(test_embeddings, test_labels)\n",
    "        mean_temp, std_temp  = generate_macro_f1_at_x_results(text_test_embeddings, text_test_labels)\n",
    "        file.write(f\"{city}-mean:{round(mean_temp, 4)} ± {round(std_temp, 2)}\\n\")\n",
    "        mean += mean_temp\n",
    "        std += std_temp\n",
    "    except Exception as e:\n",
    "        print(f\"Error processing {city}: {e}\\n\")\n",
    "\n",
    "    # Clear cache and free memory\n",
    "    del text_train_embeddings, text_train_labels, text_test_embeddings, text_test_labels\n",
    "    gc.collect()\n",
    "            \n",
    "print(f\"Average score: {round(mean/7, 4)} ± {round(std/7, 2)}\\n\")"
   ]
  },
  {
   "cell_type": "code",
   "execution_count": 87,
   "id": "a94c9e80-06a3-4484-82fd-d3fb1c482acf",
   "metadata": {
    "tags": []
   },
   "outputs": [
    {
     "name": "stdout",
     "output_type": "stream",
     "text": [
      "--------------------------------------------------south--------------------------------------------------\n",
      "Global variables initialized in 0.08 seconds.\n"
     ]
    },
    {
     "name": "stderr",
     "output_type": "stream",
     "text": [
      "Calculating MRR@10: 100%|██████████| 1017/1017 [00:21<00:00, 47.19it/s]\n"
     ]
    },
    {
     "name": "stdout",
     "output_type": "stream",
     "text": [
      "MRR@10 mean: 0.2049 ± 0.32\n"
     ]
    },
    {
     "name": "stderr",
     "output_type": "stream",
     "text": [
      "Calculating R-precision: 100%|██████████| 1017/1017 [00:21<00:00, 47.88it/s]\n"
     ]
    },
    {
     "name": "stdout",
     "output_type": "stream",
     "text": [
      "R precision mean: 0.0563 ± 0.13\n"
     ]
    },
    {
     "name": "stderr",
     "output_type": "stream",
     "text": [
      "Calculating Macro-F1@X: 100%|██████████| 1017/1017 [00:21<00:00, 46.94it/s]\n"
     ]
    },
    {
     "name": "stdout",
     "output_type": "stream",
     "text": [
      "Macro F1@X: 0.0805 ± 0.18\n",
      "Error processing south: name 'file' is not defined\n",
      "\n",
      "--------------------------------------------------midwest--------------------------------------------------\n",
      "Global variables initialized in 0.04 seconds.\n"
     ]
    },
    {
     "name": "stderr",
     "output_type": "stream",
     "text": [
      "Calculating MRR@10: 100%|██████████| 605/605 [00:07<00:00, 80.57it/s]\n"
     ]
    },
    {
     "name": "stdout",
     "output_type": "stream",
     "text": [
      "MRR@10 mean: 0.1855 ± 0.31\n"
     ]
    },
    {
     "name": "stderr",
     "output_type": "stream",
     "text": [
      "Calculating R-precision: 100%|██████████| 605/605 [00:07<00:00, 80.12it/s]\n"
     ]
    },
    {
     "name": "stdout",
     "output_type": "stream",
     "text": [
      "R precision mean: 0.0569 ± 0.13\n"
     ]
    },
    {
     "name": "stderr",
     "output_type": "stream",
     "text": [
      "Calculating Macro-F1@X: 100%|██████████| 605/605 [00:07<00:00, 80.14it/s] \n"
     ]
    },
    {
     "name": "stdout",
     "output_type": "stream",
     "text": [
      "Macro F1@X: 0.0776 ± 0.16\n",
      "Error processing midwest: name 'file' is not defined\n",
      "\n",
      "--------------------------------------------------west--------------------------------------------------\n",
      "Global variables initialized in 0.01 seconds.\n"
     ]
    },
    {
     "name": "stderr",
     "output_type": "stream",
     "text": [
      "Calculating MRR@10: 100%|██████████| 312/312 [00:01<00:00, 205.63it/s]\n"
     ]
    },
    {
     "name": "stdout",
     "output_type": "stream",
     "text": [
      "MRR@10 mean: 0.2488 ± 0.39\n"
     ]
    },
    {
     "name": "stderr",
     "output_type": "stream",
     "text": [
      "Calculating R-precision: 100%|██████████| 312/312 [00:01<00:00, 206.48it/s]\n"
     ]
    },
    {
     "name": "stdout",
     "output_type": "stream",
     "text": [
      "R precision mean: 0.1001 ± 0.18\n"
     ]
    },
    {
     "name": "stderr",
     "output_type": "stream",
     "text": [
      "Calculating Macro-F1@X: 100%|██████████| 312/312 [00:01<00:00, 205.85it/s]\n"
     ]
    },
    {
     "name": "stdout",
     "output_type": "stream",
     "text": [
      "Macro F1@X: 0.1074 ± 0.2\n",
      "Error processing west: name 'file' is not defined\n",
      "\n",
      "--------------------------------------------------northeast--------------------------------------------------\n",
      "Global variables initialized in 0.00 seconds.\n"
     ]
    },
    {
     "name": "stderr",
     "output_type": "stream",
     "text": [
      "Calculating MRR@10: 100%|██████████| 357/357 [00:02<00:00, 136.68it/s]\n"
     ]
    },
    {
     "name": "stdout",
     "output_type": "stream",
     "text": [
      "MRR@10 mean: 0.245 ± 0.36\n"
     ]
    },
    {
     "name": "stderr",
     "output_type": "stream",
     "text": [
      "Calculating R-precision: 100%|██████████| 357/357 [00:02<00:00, 132.61it/s]\n"
     ]
    },
    {
     "name": "stdout",
     "output_type": "stream",
     "text": [
      "R precision mean: 0.1115 ± 0.2\n"
     ]
    },
    {
     "name": "stderr",
     "output_type": "stream",
     "text": [
      "Calculating Macro-F1@X: 100%|██████████| 357/357 [00:02<00:00, 129.72it/s]\n"
     ]
    },
    {
     "name": "stdout",
     "output_type": "stream",
     "text": [
      "Macro F1@X: 0.1088 ± 0.19\n",
      "Error processing northeast: name 'file' is not defined\n",
      "\n",
      "Average score: 0.0 ± 0.0\n",
      "\n"
     ]
    }
   ],
   "source": [
    "mean, std = 0, 0\n",
    "\n",
    "for city in [\"south\", \"midwest\", \"west\", \"northeast\"]:\n",
    "    print(\"-\" * 50 + city + \"-\" * 50)\n",
    "    text_train_embeddings, text_train_labels, text_test_embeddings, text_test_labels = load_embeddings_for_updatedclipstylemodels(\"BLIPConditional\", city, mode=\"image\")\n",
    "    \n",
    "    # image_train_embeddings, image_train_labels, image_test_embeddings, image_test_labels = load_embeddings(\"CE+SupCon+ITM\", city, mode=\"image\")\n",
    "    text_train_embeddings, text_train_labels, text_test_embeddings, text_test_labels = remove_duplicate_embeddings(text_train_embeddings, text_train_labels, text_test_embeddings, text_test_labels)\n",
    "    # print(text_train_embeddings.shape)\n",
    "    # print(text_test_embeddings.shape)\n",
    "    text_train_embeddings, text_train_labels, text_test_embeddings, text_test_labels = find_members(text_train_embeddings, text_train_labels, text_test_embeddings, text_test_labels)\n",
    "    \n",
    "    initialize_globals(text_train_embeddings, text_train_labels)\n",
    "\n",
    "    try:\n",
    "        mean_temp, std_temp = generate_mrr_at_1_results(text_test_embeddings, text_test_labels, 10)\n",
    "        mean_temp, std_temp = generate_rprecision_results(text_test_embeddings, text_test_labels)\n",
    "        # _ = generate_macro_rprecision_results(test_embeddings, test_labels)\n",
    "        mean_temp, std_temp  = generate_macro_f1_at_x_results(text_test_embeddings, text_test_labels)\n",
    "        file.write(f\"{city}-mean:{round(mean_temp, 4)} ± {round(std_temp, 2)}\\n\")\n",
    "        mean += mean_temp\n",
    "        std += std_temp\n",
    "    except Exception as e:\n",
    "        print(f\"Error processing {city}: {e}\\n\")\n",
    "\n",
    "    # Clear cache and free memory\n",
    "    del text_train_embeddings, text_train_labels, text_test_embeddings, text_test_labels\n",
    "    gc.collect()\n",
    "            \n",
    "print(f\"Average score: {round(mean/7, 4)} ± {round(std/7, 2)}\\n\")"
   ]
  },
  {
   "cell_type": "code",
   "execution_count": null,
   "id": "e723f0e6-5a59-476f-b6a1-607b86370616",
   "metadata": {},
   "outputs": [],
   "source": [
    "mean, std = 0, 0\n",
    "\n",
    "for city in [\"south\", \"midwest\", \"west\", \"northeast\"]:\n",
    "    print(\"-\" * 50 + city + \"-\" * 50)\n",
    "    text_train_embeddings, text_train_labels, text_test_embeddings, text_test_labels = load_embeddings_for_updatedclipstylemodels(\"BLIPConditional\", city, mode=\"image\")\n",
    "    \n",
    "    # image_train_embeddings, image_train_labels, image_test_embeddings, image_test_labels = load_embeddings(\"CE+SupCon+ITM\", city, mode=\"image\")\n",
    "    text_train_embeddings, text_train_labels, text_test_embeddings, text_test_labels = remove_duplicate_embeddings(text_train_embeddings, text_train_labels, text_test_embeddings, text_test_labels)\n",
    "    # print(text_train_embeddings.shape)\n",
    "    # print(text_test_embeddings.shape)\n",
    "    text_train_embeddings, text_train_labels, text_test_embeddings, text_test_labels = find_members(text_train_embeddings, text_train_labels, text_test_embeddings, text_test_labels)\n",
    "    \n",
    "    initialize_globals(text_train_embeddings, text_train_labels)\n",
    "\n",
    "    try:\n",
    "        mean_temp, std_temp = generate_mrr_at_1_results(text_test_embeddings, text_test_labels, 10)\n",
    "        mean_temp, std_temp = generate_rprecision_results(text_test_embeddings, text_test_labels)\n",
    "        # _ = generate_macro_rprecision_results(test_embeddings, test_labels)\n",
    "        mean_temp, std_temp  = generate_macro_f1_at_x_results(text_test_embeddings, text_test_labels)\n",
    "        file.write(f\"{city}-mean:{round(mean_temp, 4)} ± {round(std_temp, 2)}\\n\")\n",
    "        mean += mean_temp\n",
    "        std += std_temp\n",
    "    except Exception as e:\n",
    "        print(f\"Error processing {city}: {e}\\n\")\n",
    "\n",
    "    # Clear cache and free memory\n",
    "    del text_train_embeddings, text_train_labels, text_test_embeddings, text_test_labels\n",
    "    gc.collect()\n",
    "            \n",
    "print(f\"Average score: {round(mean/7, 4)} ± {round(std/7, 2)}\\n\")"
   ]
  },
  {
   "cell_type": "code",
   "execution_count": 59,
   "id": "448c3ab1-91ee-42a7-b9ae-6b586e723bae",
   "metadata": {
    "tags": []
   },
   "outputs": [
    {
     "name": "stdout",
     "output_type": "stream",
     "text": [
      "--------------------------------------------------south--------------------------------------------------\n",
      "Global variables initialized in 0.06 seconds.\n"
     ]
    },
    {
     "name": "stderr",
     "output_type": "stream",
     "text": [
      "Calculating MRR@10: 100%|██████████| 1226/1226 [00:26<00:00, 47.01it/s]\n"
     ]
    },
    {
     "name": "stdout",
     "output_type": "stream",
     "text": [
      "MRR@10 mean: 0.3425 ± 0.36\n"
     ]
    },
    {
     "name": "stderr",
     "output_type": "stream",
     "text": [
      "Calculating R-precision: 100%|██████████| 1226/1226 [00:26<00:00, 46.61it/s]\n"
     ]
    },
    {
     "name": "stdout",
     "output_type": "stream",
     "text": [
      "R precision mean: 0.108 ± 0.18\n"
     ]
    },
    {
     "name": "stderr",
     "output_type": "stream",
     "text": [
      "Calculating Macro-F1@X: 100%|██████████| 1226/1226 [00:26<00:00, 46.40it/s]\n"
     ]
    },
    {
     "name": "stdout",
     "output_type": "stream",
     "text": [
      "Macro F1@X: 0.135 ± 0.22\n",
      "Error processing south: name 'file' is not defined\n",
      "\n",
      "--------------------------------------------------midwest--------------------------------------------------\n",
      "Global variables initialized in 0.02 seconds.\n"
     ]
    },
    {
     "name": "stderr",
     "output_type": "stream",
     "text": [
      "Calculating MRR@10: 100%|██████████| 783/783 [00:09<00:00, 81.85it/s]\n"
     ]
    },
    {
     "name": "stdout",
     "output_type": "stream",
     "text": [
      "MRR@10 mean: 0.3353 ± 0.37\n"
     ]
    },
    {
     "name": "stderr",
     "output_type": "stream",
     "text": [
      "Calculating R-precision: 100%|██████████| 783/783 [00:09<00:00, 80.50it/s]\n"
     ]
    },
    {
     "name": "stdout",
     "output_type": "stream",
     "text": [
      "R precision mean: 0.1194 ± 0.18\n"
     ]
    },
    {
     "name": "stderr",
     "output_type": "stream",
     "text": [
      "Calculating Macro-F1@X: 100%|██████████| 783/783 [00:09<00:00, 79.48it/s]\n"
     ]
    },
    {
     "name": "stdout",
     "output_type": "stream",
     "text": [
      "Macro F1@X: 0.1346 ± 0.2\n",
      "Error processing midwest: name 'file' is not defined\n",
      "\n",
      "--------------------------------------------------west--------------------------------------------------\n",
      "Global variables initialized in 0.00 seconds.\n"
     ]
    },
    {
     "name": "stderr",
     "output_type": "stream",
     "text": [
      "Calculating MRR@10: 100%|██████████| 397/397 [00:01<00:00, 205.96it/s]\n"
     ]
    },
    {
     "name": "stdout",
     "output_type": "stream",
     "text": [
      "MRR@10 mean: 0.3967 ± 0.41\n"
     ]
    },
    {
     "name": "stderr",
     "output_type": "stream",
     "text": [
      "Calculating R-precision: 100%|██████████| 397/397 [00:01<00:00, 201.95it/s]\n"
     ]
    },
    {
     "name": "stdout",
     "output_type": "stream",
     "text": [
      "R precision mean: 0.1699 ± 0.22\n"
     ]
    },
    {
     "name": "stderr",
     "output_type": "stream",
     "text": [
      "Calculating Macro-F1@X: 100%|██████████| 397/397 [00:01<00:00, 200.53it/s]\n"
     ]
    },
    {
     "name": "stdout",
     "output_type": "stream",
     "text": [
      "Macro F1@X: 0.1973 ± 0.26\n",
      "Error processing west: name 'file' is not defined\n",
      "\n",
      "--------------------------------------------------northeast--------------------------------------------------\n",
      "Global variables initialized in 0.00 seconds.\n"
     ]
    },
    {
     "name": "stderr",
     "output_type": "stream",
     "text": [
      "Calculating MRR@10: 100%|██████████| 472/472 [00:03<00:00, 137.66it/s]\n"
     ]
    },
    {
     "name": "stdout",
     "output_type": "stream",
     "text": [
      "MRR@10 mean: 0.4182 ± 0.42\n"
     ]
    },
    {
     "name": "stderr",
     "output_type": "stream",
     "text": [
      "Calculating R-precision: 100%|██████████| 472/472 [00:03<00:00, 131.89it/s]\n"
     ]
    },
    {
     "name": "stdout",
     "output_type": "stream",
     "text": [
      "R precision mean: 0.2232 ± 0.29\n"
     ]
    },
    {
     "name": "stderr",
     "output_type": "stream",
     "text": [
      "Calculating Macro-F1@X: 100%|██████████| 472/472 [00:03<00:00, 131.84it/s]\n"
     ]
    },
    {
     "name": "stdout",
     "output_type": "stream",
     "text": [
      "Macro F1@X: 0.2086 ± 0.27\n",
      "Error processing northeast: name 'file' is not defined\n",
      "\n",
      "Average score: 0.0 ± 0.0\n",
      "\n"
     ]
    }
   ],
   "source": [
    "from sklearn.preprocessing import normalize\n",
    "\n",
    "mean, std = 0, 0\n",
    "model_type = \"BLIP2\"\n",
    "    \n",
    "for city in [\"south\", \"midwest\", \"west\", \"northeast\"]:\n",
    "    print(\"-\" * 50 + city + \"-\" * 50)\n",
    "\n",
    "    text_train_embeddings, text_train_labels, text_test_embeddings, text_test_labels = load_embeddings_for_clipstylemodels(model_type, city, mode=\"image\")\n",
    "    if model_type == \"CLIPITM\" or model_type == \"BLIP2\":\n",
    "        text_train_embeddings = text_train_embeddings.mean(axis=1)\n",
    "        text_train_embeddings = normalize(text_train_embeddings, norm='l2', axis=1)\n",
    "        text_train_embeddings = torch.tensor(text_train_embeddings.astype('float32'))\n",
    "        \n",
    "        text_test_embeddings = text_test_embeddings.mean(axis=1)\n",
    "        text_test_embeddings = normalize(text_test_embeddings, norm='l2', axis=1)\n",
    "        text_test_embeddings = torch.tensor(text_test_embeddings.astype('float32'))\n",
    "\n",
    "        \n",
    "    # image_train_embeddings, image_train_labels, image_test_embeddings, image_test_labels = load_embeddings(\"CE+SupCon+ITM\", city, mode=\"image\")\n",
    "    text_train_embeddings, text_train_labels, text_test_embeddings, text_test_labels = remove_duplicate_embeddings(text_train_embeddings, text_train_labels, text_test_embeddings, text_test_labels)\n",
    "    text_train_embeddings, text_train_labels, text_test_embeddings, text_test_labels = find_members(text_train_embeddings, text_train_labels, text_test_embeddings, text_test_labels)\n",
    "    \n",
    "    initialize_globals(text_train_embeddings, text_train_labels)\n",
    "\n",
    "    try:\n",
    "        mean_temp, std_temp = generate_mrr_at_1_results(text_test_embeddings, text_test_labels, 10)\n",
    "        mean_temp, std_temp = generate_rprecision_results(text_test_embeddings, text_test_labels)\n",
    "        # _ = generate_macro_rprecision_results(test_embeddings, test_labels)\n",
    "        mean_temp, std_temp  = generate_macro_f1_at_x_results(text_test_embeddings, text_test_labels)\n",
    "        file.write(f\"{city}-mean:{round(mean_temp, 4)} ± {round(std_temp, 2)}\\n\")\n",
    "        mean += mean_temp\n",
    "        std += std_temp\n",
    "    except Exception as e:\n",
    "        print(f\"Error processing {city}: {e}\\n\")\n",
    "\n",
    "    # Clear cache and free memory\n",
    "    del text_train_embeddings, text_train_labels, text_test_embeddings, text_test_labels\n",
    "    gc.collect()\n",
    "            \n",
    "print(f\"Average score: {round(mean/7, 4)} ± {round(std/7, 2)}\\n\")"
   ]
  },
  {
   "cell_type": "code",
   "execution_count": 123,
   "id": "312bd60e-c404-4013-83c4-7d8b9bfbf94f",
   "metadata": {
    "tags": []
   },
   "outputs": [
    {
     "name": "stdout",
     "output_type": "stream",
     "text": [
      "--------------------------------------------------south--------------------------------------------------\n",
      "Global variables initialized in 0.04 seconds.\n"
     ]
    },
    {
     "name": "stderr",
     "output_type": "stream",
     "text": [
      "Calculating MRR@10: 100%|██████████| 947/947 [00:09<00:00, 99.21it/s] \n"
     ]
    },
    {
     "name": "stdout",
     "output_type": "stream",
     "text": [
      "MRR@10 mean: 0.7615 ± 0.38\n"
     ]
    },
    {
     "name": "stderr",
     "output_type": "stream",
     "text": [
      "Calculating R-precision: 100%|██████████| 947/947 [00:09<00:00, 98.25it/s] \n"
     ]
    },
    {
     "name": "stdout",
     "output_type": "stream",
     "text": [
      "R precision mean: 0.4956 ± 0.34\n"
     ]
    },
    {
     "name": "stderr",
     "output_type": "stream",
     "text": [
      "Calculating Macro-F1@X: 100%|██████████| 947/947 [00:09<00:00, 100.16it/s]\n"
     ]
    },
    {
     "name": "stdout",
     "output_type": "stream",
     "text": [
      "Macro F1@X: 0.5154 ± 0.34\n",
      "Error processing south: I/O operation on closed file.\n",
      "\n",
      "--------------------------------------------------midwest--------------------------------------------------\n",
      "Global variables initialized in 0.01 seconds.\n"
     ]
    },
    {
     "name": "stderr",
     "output_type": "stream",
     "text": [
      "Calculating MRR@10: 100%|██████████| 618/618 [00:03<00:00, 161.44it/s]\n"
     ]
    },
    {
     "name": "stdout",
     "output_type": "stream",
     "text": [
      "MRR@10 mean: 0.6809 ± 0.43\n"
     ]
    },
    {
     "name": "stderr",
     "output_type": "stream",
     "text": [
      "Calculating R-precision: 100%|██████████| 618/618 [00:03<00:00, 163.04it/s]\n"
     ]
    },
    {
     "name": "stdout",
     "output_type": "stream",
     "text": [
      "R precision mean: 0.5681 ± 0.38\n"
     ]
    },
    {
     "name": "stderr",
     "output_type": "stream",
     "text": [
      "Calculating Macro-F1@X: 100%|██████████| 618/618 [00:03<00:00, 169.75it/s]\n"
     ]
    },
    {
     "name": "stdout",
     "output_type": "stream",
     "text": [
      "Macro F1@X: 0.5671 ± 0.37\n",
      "Error processing midwest: I/O operation on closed file.\n",
      "\n",
      "--------------------------------------------------west--------------------------------------------------\n",
      "Global variables initialized in 0.00 seconds.\n"
     ]
    },
    {
     "name": "stderr",
     "output_type": "stream",
     "text": [
      "Calculating MRR@10: 100%|██████████| 271/271 [00:00<00:00, 385.81it/s]\n"
     ]
    },
    {
     "name": "stdout",
     "output_type": "stream",
     "text": [
      "MRR@10 mean: 0.8077 ± 0.38\n"
     ]
    },
    {
     "name": "stderr",
     "output_type": "stream",
     "text": [
      "Calculating R-precision: 100%|██████████| 271/271 [00:00<00:00, 395.25it/s]\n"
     ]
    },
    {
     "name": "stdout",
     "output_type": "stream",
     "text": [
      "R precision mean: 0.7315 ± 0.36\n"
     ]
    },
    {
     "name": "stderr",
     "output_type": "stream",
     "text": [
      "Calculating Macro-F1@X: 100%|██████████| 271/271 [00:00<00:00, 386.51it/s]\n"
     ]
    },
    {
     "name": "stdout",
     "output_type": "stream",
     "text": [
      "Macro F1@X: 0.7267 ± 0.3\n",
      "Error processing west: I/O operation on closed file.\n",
      "\n",
      "--------------------------------------------------northeast--------------------------------------------------\n",
      "Global variables initialized in 0.00 seconds.\n"
     ]
    },
    {
     "name": "stderr",
     "output_type": "stream",
     "text": [
      "Calculating MRR@10: 100%|██████████| 310/310 [00:00<00:00, 482.58it/s]\n"
     ]
    },
    {
     "name": "stdout",
     "output_type": "stream",
     "text": [
      "MRR@10 mean: 0.7557 ± 0.41\n"
     ]
    },
    {
     "name": "stderr",
     "output_type": "stream",
     "text": [
      "Calculating R-precision: 100%|██████████| 310/310 [00:00<00:00, 483.13it/s]\n"
     ]
    },
    {
     "name": "stdout",
     "output_type": "stream",
     "text": [
      "R precision mean: 0.679 ± 0.38\n"
     ]
    },
    {
     "name": "stderr",
     "output_type": "stream",
     "text": [
      "Calculating Macro-F1@X: 100%|██████████| 310/310 [00:00<00:00, 497.60it/s]"
     ]
    },
    {
     "name": "stdout",
     "output_type": "stream",
     "text": [
      "Macro F1@X: 0.7029 ± 0.37\n",
      "Error processing northeast: I/O operation on closed file.\n",
      "\n",
      "Average score: 0.0 ± 0.0\n",
      "\n"
     ]
    },
    {
     "name": "stderr",
     "output_type": "stream",
     "text": [
      "\n"
     ]
    }
   ],
   "source": [
    "mean, std = 0, 0\n",
    "\n",
    "for city in [\"south\", \"midwest\", \"west\", \"northeast\"]:\n",
    "    print(\"-\" * 50 + city + \"-\" * 50)\n",
    "    text_train_embeddings, text_train_labels, text_test_embeddings, text_test_labels = load_embeddings_for_clipstylemodels(\"CLIPITM\", city, mode=\"text\")\n",
    "    # image_train_embeddings, image_train_labels, image_test_embeddings, image_test_labels = load_embeddings(\"CE+SupCon+ITM\", city, mode=\"image\")\n",
    "\n",
    "    initialize_globals(text_train_embeddings, text_train_labels)\n",
    "\n",
    "    try:\n",
    "        mean_temp, std_temp = generate_mrr_at_1_results(text_test_embeddings, text_test_labels, 10)\n",
    "        mean_temp, std_temp = generate_rprecision_results(text_test_embeddings, text_test_labels)\n",
    "        # _ = generate_macro_rprecision_results(test_embeddings, test_labels)\n",
    "        mean_temp, std_temp  = generate_macro_f1_at_x_results(text_test_embeddings, text_test_labels)\n",
    "        file.write(f\"{city}-mean:{round(mean_temp, 4)} ± {round(std_temp, 2)}\\n\")\n",
    "        mean += mean_temp\n",
    "        std += std_temp\n",
    "    except Exception as e:\n",
    "        print(f\"Error processing {city}: {e}\\n\")\n",
    "\n",
    "    # Clear cache and free memory\n",
    "    del text_train_embeddings, text_train_labels, text_test_embeddings, text_test_labels\n",
    "    gc.collect()\n",
    "            \n",
    "print(f\"Average score: {round(mean/7, 4)} ± {round(std/7, 2)}\\n\")"
   ]
  },
  {
   "cell_type": "code",
   "execution_count": 17,
   "id": "50018989-4eea-41c6-a77b-9dab461ec432",
   "metadata": {
    "tags": []
   },
   "outputs": [
    {
     "name": "stdout",
     "output_type": "stream",
     "text": [
      "--------------------------------------------------south--------------------------------------------------\n",
      "Global variables initialized in 0.03 seconds.\n"
     ]
    },
    {
     "name": "stderr",
     "output_type": "stream",
     "text": [
      "Calculating MRR@10: 100%|██████████| 947/947 [00:09<00:00, 99.69it/s] \n"
     ]
    },
    {
     "name": "stdout",
     "output_type": "stream",
     "text": [
      "MRR@10 mean: 0.6795 ± 0.42\n"
     ]
    },
    {
     "name": "stderr",
     "output_type": "stream",
     "text": [
      "Calculating R-precision: 100%|██████████| 947/947 [00:09<00:00, 99.87it/s] \n"
     ]
    },
    {
     "name": "stdout",
     "output_type": "stream",
     "text": [
      "R precision mean: 0.4264 ± 0.34\n"
     ]
    },
    {
     "name": "stderr",
     "output_type": "stream",
     "text": [
      "Calculating Macro-F1@X: 100%|██████████| 947/947 [00:09<00:00, 101.63it/s]\n"
     ]
    },
    {
     "name": "stdout",
     "output_type": "stream",
     "text": [
      "Macro F1@X: 0.444 ± 0.34\n",
      "Error processing south: name 'file' is not defined\n",
      "\n",
      "--------------------------------------------------midwest--------------------------------------------------\n",
      "Global variables initialized in 0.01 seconds.\n"
     ]
    },
    {
     "name": "stderr",
     "output_type": "stream",
     "text": [
      "Calculating MRR@10: 100%|██████████| 618/618 [00:03<00:00, 160.45it/s]\n"
     ]
    },
    {
     "name": "stdout",
     "output_type": "stream",
     "text": [
      "MRR@10 mean: 0.6189 ± 0.46\n"
     ]
    },
    {
     "name": "stderr",
     "output_type": "stream",
     "text": [
      "Calculating R-precision: 100%|██████████| 618/618 [00:03<00:00, 163.63it/s]\n"
     ]
    },
    {
     "name": "stdout",
     "output_type": "stream",
     "text": [
      "R precision mean: 0.4999 ± 0.39\n"
     ]
    },
    {
     "name": "stderr",
     "output_type": "stream",
     "text": [
      "Calculating Macro-F1@X: 100%|██████████| 618/618 [00:03<00:00, 163.73it/s]\n"
     ]
    },
    {
     "name": "stdout",
     "output_type": "stream",
     "text": [
      "Macro F1@X: 0.5059 ± 0.38\n",
      "Error processing midwest: name 'file' is not defined\n",
      "\n",
      "--------------------------------------------------west--------------------------------------------------\n",
      "Global variables initialized in 0.00 seconds.\n"
     ]
    },
    {
     "name": "stderr",
     "output_type": "stream",
     "text": [
      "Calculating MRR@10: 100%|██████████| 271/271 [00:00<00:00, 359.64it/s]\n"
     ]
    },
    {
     "name": "stdout",
     "output_type": "stream",
     "text": [
      "MRR@10 mean: 0.7534 ± 0.42\n"
     ]
    },
    {
     "name": "stderr",
     "output_type": "stream",
     "text": [
      "Calculating R-precision: 100%|██████████| 271/271 [00:00<00:00, 379.81it/s]\n"
     ]
    },
    {
     "name": "stdout",
     "output_type": "stream",
     "text": [
      "R precision mean: 0.6516 ± 0.38\n"
     ]
    },
    {
     "name": "stderr",
     "output_type": "stream",
     "text": [
      "Calculating Macro-F1@X: 100%|██████████| 271/271 [00:00<00:00, 376.49it/s]\n"
     ]
    },
    {
     "name": "stdout",
     "output_type": "stream",
     "text": [
      "Macro F1@X: 0.6498 ± 0.33\n",
      "Error processing west: name 'file' is not defined\n",
      "\n",
      "--------------------------------------------------northeast--------------------------------------------------\n",
      "Global variables initialized in 0.00 seconds.\n"
     ]
    },
    {
     "name": "stderr",
     "output_type": "stream",
     "text": [
      "Calculating MRR@10: 100%|██████████| 310/310 [00:00<00:00, 472.19it/s]\n"
     ]
    },
    {
     "name": "stdout",
     "output_type": "stream",
     "text": [
      "MRR@10 mean: 0.7113 ± 0.44\n"
     ]
    },
    {
     "name": "stderr",
     "output_type": "stream",
     "text": [
      "Calculating R-precision: 100%|██████████| 310/310 [00:00<00:00, 487.49it/s]\n"
     ]
    },
    {
     "name": "stdout",
     "output_type": "stream",
     "text": [
      "R precision mean: 0.5998 ± 0.4\n"
     ]
    },
    {
     "name": "stderr",
     "output_type": "stream",
     "text": [
      "Calculating Macro-F1@X: 100%|██████████| 310/310 [00:00<00:00, 486.74it/s]"
     ]
    },
    {
     "name": "stdout",
     "output_type": "stream",
     "text": [
      "Macro F1@X: 0.6306 ± 0.39\n",
      "Error processing northeast: name 'file' is not defined\n",
      "\n",
      "Average score: 0.0 ± 0.0\n",
      "\n"
     ]
    },
    {
     "name": "stderr",
     "output_type": "stream",
     "text": [
      "\n"
     ]
    }
   ],
   "source": [
    "mean, std = 0, 0\n",
    "\n",
    "for city in [\"south\", \"midwest\", \"west\", \"northeast\"]:\n",
    "    print(\"-\" * 50 + city + \"-\" * 50)\n",
    "    text_train_embeddings, text_train_labels, text_test_embeddings, text_test_labels = load_embeddings_for_clipstylemodels(\"BLIP2\", city, mode=\"text\")\n",
    "    text_train_embeddings, text_train_labels, text_test_embeddings, text_test_labels = remove_duplicate_embeddings(text_train_embeddings, text_train_labels, text_test_embeddings, text_test_labels)\n",
    "\n",
    "    initialize_globals(text_train_embeddings, text_train_labels)\n",
    "\n",
    "    try:\n",
    "        mean_temp, std_temp = generate_mrr_at_1_results(text_test_embeddings, text_test_labels, 10)\n",
    "        mean_temp, std_temp = generate_rprecision_results(text_test_embeddings, text_test_labels)\n",
    "        # _ = generate_macro_rprecision_results(test_embeddings, test_labels)\n",
    "        mean_temp, std_temp  = generate_macro_f1_at_x_results(text_test_embeddings, text_test_labels)\n",
    "        file.write(f\"{city}-mean:{round(mean_temp, 4)} ± {round(std_temp, 2)}\\n\")\n",
    "        mean += mean_temp\n",
    "        std += std_temp\n",
    "    except Exception as e:\n",
    "        print(f\"Error processing {city}: {e}\\n\")\n",
    "\n",
    "    # Clear cache and free memory\n",
    "    del text_train_embeddings, text_train_labels, text_test_embeddings, text_test_labels\n",
    "    gc.collect()\n",
    "            \n",
    "print(f\"Average score: {round(mean/7, 4)} ± {round(std/7, 2)}\\n\")"
   ]
  },
  {
   "cell_type": "code",
   "execution_count": 23,
   "id": "f2843113-80f3-4b01-a51b-b801a7459c0e",
   "metadata": {
    "tags": []
   },
   "outputs": [
    {
     "name": "stdout",
     "output_type": "stream",
     "text": [
      "--------------------------------------------------south--------------------------------------------------\n",
      "Global variables initialized in 0.04 seconds.\n"
     ]
    },
    {
     "name": "stderr",
     "output_type": "stream",
     "text": [
      "Calculating MRR@10: 100%|██████████| 215/215 [00:02<00:00, 98.58it/s] \n"
     ]
    },
    {
     "name": "stdout",
     "output_type": "stream",
     "text": [
      "MRR@10 mean: 0.0047 ± 0.07\n"
     ]
    },
    {
     "name": "stderr",
     "output_type": "stream",
     "text": [
      "Calculating R-precision: 100%|██████████| 215/215 [00:02<00:00, 97.66it/s] \n"
     ]
    },
    {
     "name": "stdout",
     "output_type": "stream",
     "text": [
      "R precision mean: 0.0022 ± 0.01\n"
     ]
    },
    {
     "name": "stderr",
     "output_type": "stream",
     "text": [
      "Calculating Macro-F1@X: 100%|██████████| 215/215 [00:02<00:00, 97.83it/s] \n"
     ]
    },
    {
     "name": "stdout",
     "output_type": "stream",
     "text": [
      "Macro F1@X: 0.003 ± 0.01\n",
      "Error processing south: name 'file' is not defined\n",
      "\n",
      "--------------------------------------------------midwest--------------------------------------------------\n",
      "Global variables initialized in 0.01 seconds.\n"
     ]
    },
    {
     "name": "stderr",
     "output_type": "stream",
     "text": [
      "Calculating MRR@10: 100%|██████████| 147/147 [00:00<00:00, 163.68it/s]\n"
     ]
    },
    {
     "name": "stdout",
     "output_type": "stream",
     "text": [
      "MRR@10 mean: 0.0 ± 0.0\n"
     ]
    },
    {
     "name": "stderr",
     "output_type": "stream",
     "text": [
      "Calculating R-precision: 100%|██████████| 147/147 [00:00<00:00, 164.65it/s]\n"
     ]
    },
    {
     "name": "stdout",
     "output_type": "stream",
     "text": [
      "R precision mean: 0.003 ± 0.01\n"
     ]
    },
    {
     "name": "stderr",
     "output_type": "stream",
     "text": [
      "Calculating Macro-F1@X: 100%|██████████| 147/147 [00:00<00:00, 164.33it/s]\n"
     ]
    },
    {
     "name": "stdout",
     "output_type": "stream",
     "text": [
      "Macro F1@X: 0.0044 ± 0.01\n",
      "Error processing midwest: name 'file' is not defined\n",
      "\n",
      "--------------------------------------------------west--------------------------------------------------\n",
      "Global variables initialized in 0.00 seconds.\n"
     ]
    },
    {
     "name": "stderr",
     "output_type": "stream",
     "text": [
      "Calculating MRR@10: 100%|██████████| 51/51 [00:00<00:00, 343.43it/s]\n"
     ]
    },
    {
     "name": "stdout",
     "output_type": "stream",
     "text": [
      "MRR@10 mean: 0.0051 ± 0.03\n"
     ]
    },
    {
     "name": "stderr",
     "output_type": "stream",
     "text": [
      "Calculating R-precision: 100%|██████████| 51/51 [00:00<00:00, 333.04it/s]\n"
     ]
    },
    {
     "name": "stdout",
     "output_type": "stream",
     "text": [
      "R precision mean: 0.0112 ± 0.03\n"
     ]
    },
    {
     "name": "stderr",
     "output_type": "stream",
     "text": [
      "Calculating Macro-F1@X: 100%|██████████| 51/51 [00:00<00:00, 345.11it/s]\n"
     ]
    },
    {
     "name": "stdout",
     "output_type": "stream",
     "text": [
      "Macro F1@X: 0.0261 ± 0.04\n",
      "Error processing west: name 'file' is not defined\n",
      "\n",
      "--------------------------------------------------northeast--------------------------------------------------\n",
      "Global variables initialized in 0.00 seconds.\n"
     ]
    },
    {
     "name": "stderr",
     "output_type": "stream",
     "text": [
      "Calculating MRR@10: 100%|██████████| 32/32 [00:00<00:00, 562.35it/s]\n"
     ]
    },
    {
     "name": "stdout",
     "output_type": "stream",
     "text": [
      "MRR@10 mean: 0.0 ± 0.0\n"
     ]
    },
    {
     "name": "stderr",
     "output_type": "stream",
     "text": [
      "Calculating R-precision: 100%|██████████| 32/32 [00:00<00:00, 567.78it/s]\n"
     ]
    },
    {
     "name": "stdout",
     "output_type": "stream",
     "text": [
      "R precision mean: 0.002 ± 0.01\n"
     ]
    },
    {
     "name": "stderr",
     "output_type": "stream",
     "text": [
      "Calculating Macro-F1@X: 100%|██████████| 32/32 [00:00<00:00, 571.31it/s]"
     ]
    },
    {
     "name": "stdout",
     "output_type": "stream",
     "text": [
      "Macro F1@X: 0.0016 ± 0.01\n",
      "Error processing northeast: name 'file' is not defined\n",
      "\n",
      "Average score: 0.0 ± 0.0\n",
      "\n"
     ]
    },
    {
     "name": "stderr",
     "output_type": "stream",
     "text": [
      "\n"
     ]
    }
   ],
   "source": [
    "mean, std = 0, 0\n",
    "\n",
    "for city in [\"south\", \"midwest\", \"west\", \"northeast\"]:\n",
    "    print(\"-\" * 50 + city + \"-\" * 50)\n",
    "    text_train_embeddings, text_train_labels, text_test_embeddings, text_test_labels = load_embeddings_for_newclipstylemodels(\"BigCLIP\", city, mode=\"text\")\n",
    "    text_train_embeddings, text_train_labels, text_test_embeddings, text_test_labels = remove_duplicate_embeddings(text_train_embeddings, text_train_labels, text_test_embeddings, text_test_labels)\n",
    "\n",
    "    initialize_globals(text_train_embeddings, text_train_labels)\n",
    "\n",
    "    try:\n",
    "        mean_temp, std_temp = generate_mrr_at_1_results(text_test_embeddings, text_test_labels, 10)\n",
    "        mean_temp, std_temp = generate_rprecision_results(text_test_embeddings, text_test_labels)\n",
    "        # _ = generate_macro_rprecision_results(test_embeddings, test_labels)\n",
    "        mean_temp, std_temp  = generate_macro_f1_at_x_results(text_test_embeddings, text_test_labels)\n",
    "        file.write(f\"{city}-mean:{round(mean_temp, 4)} ± {round(std_temp, 2)}\\n\")\n",
    "        mean += mean_temp\n",
    "        std += std_temp\n",
    "    except Exception as e:\n",
    "        print(f\"Error processing {city}: {e}\\n\")\n",
    "\n",
    "    # Clear cache and free memory\n",
    "    del text_train_embeddings, text_train_labels, text_test_embeddings, text_test_labels\n",
    "    gc.collect()\n",
    "            \n",
    "print(f\"Average score: {round(mean/7, 4)} ± {round(std/7, 2)}\\n\")"
   ]
  },
  {
   "cell_type": "code",
   "execution_count": null,
   "id": "71e8ce6a-fe86-4af5-8c07-1a5d0ce2a004",
   "metadata": {},
   "outputs": [],
   "source": []
  },
  {
   "cell_type": "code",
   "execution_count": null,
   "id": "b2c2cbad-ea3b-49a8-bfe3-042f0960b6b9",
   "metadata": {},
   "outputs": [],
   "source": []
  },
  {
   "cell_type": "code",
   "execution_count": null,
   "id": "620552f8-b5e7-45d7-9fb9-74e13bf8fc4f",
   "metadata": {},
   "outputs": [],
   "source": []
  },
  {
   "cell_type": "code",
   "execution_count": null,
   "id": "26e1e258-e6d7-47bf-a1d4-325494202378",
   "metadata": {},
   "outputs": [],
   "source": []
  },
  {
   "cell_type": "code",
   "execution_count": null,
   "id": "73bfa622-bd85-416f-b975-900afde98bbe",
   "metadata": {},
   "outputs": [],
   "source": []
  },
  {
   "cell_type": "markdown",
   "id": "63ca1aff-baa8-45c9-bf38-c4e5dd01b6de",
   "metadata": {},
   "source": [
    "# Image Retrieval "
   ]
  },
  {
   "cell_type": "code",
   "execution_count": 137,
   "id": "6e08b0c5-2e6c-485c-a4a2-1ece7f1201c7",
   "metadata": {
    "tags": []
   },
   "outputs": [
    {
     "name": "stdout",
     "output_type": "stream",
     "text": [
      "--------------------------------------------------south--------------------------------------------------\n",
      "Global variables initialized in 0.05 seconds.\n"
     ]
    },
    {
     "name": "stderr",
     "output_type": "stream",
     "text": [
      "Calculating MRR@10: 100%|██████████| 1078/1078 [00:22<00:00, 47.71it/s]\n"
     ]
    },
    {
     "name": "stdout",
     "output_type": "stream",
     "text": [
      "MRR@10 mean: 0.4038 ± 0.38\n"
     ]
    },
    {
     "name": "stderr",
     "output_type": "stream",
     "text": [
      "Calculating R-precision: 100%|██████████| 1078/1078 [00:22<00:00, 48.74it/s]\n"
     ]
    },
    {
     "name": "stdout",
     "output_type": "stream",
     "text": [
      "R precision mean: 0.1115 ± 0.15\n"
     ]
    },
    {
     "name": "stderr",
     "output_type": "stream",
     "text": [
      "Calculating Macro-F1@X: 100%|██████████| 1078/1078 [00:22<00:00, 48.05it/s]\n"
     ]
    },
    {
     "name": "stdout",
     "output_type": "stream",
     "text": [
      "Macro F1@X: 0.1152 ± 0.17\n",
      "--------------------------------------------------midwest--------------------------------------------------\n",
      "Global variables initialized in 0.05 seconds.\n"
     ]
    },
    {
     "name": "stderr",
     "output_type": "stream",
     "text": [
      "Calculating MRR@10: 100%|██████████| 636/636 [00:07<00:00, 84.75it/s] \n"
     ]
    },
    {
     "name": "stdout",
     "output_type": "stream",
     "text": [
      "MRR@10 mean: 0.3905 ± 0.4\n"
     ]
    },
    {
     "name": "stderr",
     "output_type": "stream",
     "text": [
      "Calculating R-precision: 100%|██████████| 636/636 [00:07<00:00, 82.90it/s] \n"
     ]
    },
    {
     "name": "stdout",
     "output_type": "stream",
     "text": [
      "R precision mean: 0.1141 ± 0.16\n"
     ]
    },
    {
     "name": "stderr",
     "output_type": "stream",
     "text": [
      "Calculating Macro-F1@X: 100%|██████████| 636/636 [00:07<00:00, 83.58it/s] \n"
     ]
    },
    {
     "name": "stdout",
     "output_type": "stream",
     "text": [
      "Macro F1@X: 0.1049 ± 0.14\n",
      "--------------------------------------------------west--------------------------------------------------\n",
      "Global variables initialized in 0.01 seconds.\n"
     ]
    },
    {
     "name": "stderr",
     "output_type": "stream",
     "text": [
      "Calculating MRR@10: 100%|██████████| 332/332 [00:01<00:00, 235.08it/s]\n"
     ]
    },
    {
     "name": "stdout",
     "output_type": "stream",
     "text": [
      "MRR@10 mean: 0.4603 ± 0.45\n"
     ]
    },
    {
     "name": "stderr",
     "output_type": "stream",
     "text": [
      "Calculating R-precision: 100%|██████████| 332/332 [00:01<00:00, 240.15it/s]\n"
     ]
    },
    {
     "name": "stdout",
     "output_type": "stream",
     "text": [
      "R precision mean: 0.1768 ± 0.21\n"
     ]
    },
    {
     "name": "stderr",
     "output_type": "stream",
     "text": [
      "Calculating Macro-F1@X: 100%|██████████| 332/332 [00:01<00:00, 238.22it/s]\n"
     ]
    },
    {
     "name": "stdout",
     "output_type": "stream",
     "text": [
      "Macro F1@X: 0.1739 ± 0.21\n",
      "--------------------------------------------------northeast--------------------------------------------------\n",
      "Global variables initialized in 0.01 seconds.\n"
     ]
    },
    {
     "name": "stderr",
     "output_type": "stream",
     "text": [
      "Calculating MRR@10: 100%|██████████| 383/383 [00:02<00:00, 146.57it/s]\n"
     ]
    },
    {
     "name": "stdout",
     "output_type": "stream",
     "text": [
      "MRR@10 mean: 0.4509 ± 0.42\n"
     ]
    },
    {
     "name": "stderr",
     "output_type": "stream",
     "text": [
      "Calculating R-precision: 100%|██████████| 383/383 [00:02<00:00, 146.33it/s]\n"
     ]
    },
    {
     "name": "stdout",
     "output_type": "stream",
     "text": [
      "R precision mean: 0.1646 ± 0.19\n"
     ]
    },
    {
     "name": "stderr",
     "output_type": "stream",
     "text": [
      "Calculating Macro-F1@X: 100%|██████████| 383/383 [00:02<00:00, 140.35it/s]\n"
     ]
    },
    {
     "name": "stdout",
     "output_type": "stream",
     "text": [
      "Macro F1@X: 0.1493 ± 0.18\n"
     ]
    }
   ],
   "source": [
    "mean, std = 0, 0\n",
    "\n",
    "\n",
    "for city in [\"south\", \"midwest\", \"west\", \"northeast\"]:\n",
    "    print(\"-\" * 50 + city + \"-\" * 50)\n",
    "\n",
    "    text_train_embeddings, text_train_labels, text_test_embeddings, text_test_labels = load_embeddings(\"CE\", city, mode=\"image\")\n",
    "    text_train_embeddings, text_train_labels, text_test_embeddings, text_test_labels = remove_duplicate_embeddings(text_train_embeddings, text_train_labels, text_test_embeddings, text_test_labels)\n",
    "\n",
    "    # image_train_embeddings, image_train_labels, image_test_embeddings, image_test_labels = load_embedddings_for_e2e(\"CE+SupCon\", city, mode=\"image\")\n",
    "\n",
    "    # test_embeddings = torch.cat((text_train_embeddings, text_test_embeddings), 0)\n",
    "    # test_labels = torch.cat((text_train_labels, text_test_labels), 0)\n",
    "\n",
    "    # train_embeddings = torch.cat((image_train_embeddings, image_test_embeddings), 0)\n",
    "    # train_labels = torch.cat((image_train_labels, image_test_labels), 0)\n",
    "    \n",
    "    # Performing mean pooling\n",
    "    # train_embeddings = torch.mean(train_embeddings, dim=1)\n",
    "\n",
    "    initialize_globals(text_train_embeddings, text_train_labels)\n",
    "\n",
    "    try:\n",
    "        mean_temp, std_temp = generate_mrr_at_1_results(text_test_embeddings, text_test_labels, 10)\n",
    "        mean_temp, std_temp = generate_rprecision_results(text_test_embeddings, text_test_labels)\n",
    "        # _ = generate_macro_rprecision_results(test_embeddings, test_labels)\n",
    "        mean_temp, std_temp  = generate_macro_f1_at_x_results(text_test_embeddings, text_test_labels)\n",
    "        # print(f\"{city}-mean:{round(mean_temp, 4)} ± {round(std_temp, 2)}\\n\")\n",
    "        mean += mean_temp\n",
    "        std += std_temp\n",
    "    except Exception as e:\n",
    "        file.write(f\"Error processing {city}: {e}\\n\")\n",
    "\n",
    "    # Clear cache and free memory\n",
    "    del text_train_embeddings, text_train_labels, text_test_embeddings, text_test_labels\n",
    "    gc.collect()"
   ]
  },
  {
   "cell_type": "code",
   "execution_count": 72,
   "id": "33c1022a-17a0-44c9-a9bd-406e66bd1c71",
   "metadata": {
    "tags": []
   },
   "outputs": [
    {
     "name": "stdout",
     "output_type": "stream",
     "text": [
      "--------------------------------------------------south--------------------------------------------------\n",
      "Global variables initialized in 0.27 seconds.\n"
     ]
    },
    {
     "name": "stderr",
     "output_type": "stream",
     "text": [
      "Calculating MRR@10: 100%|██████████| 1413/1413 [01:20<00:00, 17.65it/s]\n"
     ]
    },
    {
     "name": "stdout",
     "output_type": "stream",
     "text": [
      "MRR@10 mean: 0.9859 ± 0.1\n"
     ]
    },
    {
     "name": "stderr",
     "output_type": "stream",
     "text": [
      "Calculating R-precision: 100%|██████████| 1413/1413 [01:20<00:00, 17.56it/s]\n"
     ]
    },
    {
     "name": "stdout",
     "output_type": "stream",
     "text": [
      "R precision mean: 0.9248 ± 0.14\n"
     ]
    },
    {
     "name": "stderr",
     "output_type": "stream",
     "text": [
      "Calculating Macro-F1@X: 100%|██████████| 1413/1413 [01:20<00:00, 17.50it/s]\n"
     ]
    },
    {
     "name": "stdout",
     "output_type": "stream",
     "text": [
      "Macro F1@X: 0.9595 ± 0.12\n",
      "--------------------------------------------------midwest--------------------------------------------------\n",
      "Global variables initialized in 0.12 seconds.\n"
     ]
    },
    {
     "name": "stderr",
     "output_type": "stream",
     "text": [
      "Calculating MRR@10: 100%|██████████| 976/976 [00:29<00:00, 33.12it/s]\n"
     ]
    },
    {
     "name": "stdout",
     "output_type": "stream",
     "text": [
      "MRR@10 mean: 0.9658 ± 0.15\n"
     ]
    },
    {
     "name": "stderr",
     "output_type": "stream",
     "text": [
      "Calculating R-precision: 100%|██████████| 976/976 [00:29<00:00, 33.01it/s]\n"
     ]
    },
    {
     "name": "stdout",
     "output_type": "stream",
     "text": [
      "R precision mean: 0.6567 ± 0.3\n"
     ]
    },
    {
     "name": "stderr",
     "output_type": "stream",
     "text": [
      "Calculating Macro-F1@X: 100%|██████████| 976/976 [00:29<00:00, 33.04it/s]\n"
     ]
    },
    {
     "name": "stdout",
     "output_type": "stream",
     "text": [
      "Macro F1@X: 0.5671 ± 0.33\n",
      "--------------------------------------------------west--------------------------------------------------\n",
      "Global variables initialized in 0.03 seconds.\n"
     ]
    },
    {
     "name": "stderr",
     "output_type": "stream",
     "text": [
      "Calculating MRR@10: 100%|██████████| 490/490 [00:06<00:00, 80.56it/s] \n"
     ]
    },
    {
     "name": "stdout",
     "output_type": "stream",
     "text": [
      "MRR@10 mean: 0.9834 ± 0.11\n"
     ]
    },
    {
     "name": "stderr",
     "output_type": "stream",
     "text": [
      "Calculating R-precision: 100%|██████████| 490/490 [00:06<00:00, 78.32it/s] \n"
     ]
    },
    {
     "name": "stdout",
     "output_type": "stream",
     "text": [
      "R precision mean: 0.7861 ± 0.25\n"
     ]
    },
    {
     "name": "stderr",
     "output_type": "stream",
     "text": [
      "Calculating Macro-F1@X: 100%|██████████| 490/490 [00:06<00:00, 77.47it/s] \n"
     ]
    },
    {
     "name": "stdout",
     "output_type": "stream",
     "text": [
      "Macro F1@X: 0.756 ± 0.26\n",
      "--------------------------------------------------northeast--------------------------------------------------\n",
      "Global variables initialized in 0.01 seconds.\n"
     ]
    },
    {
     "name": "stderr",
     "output_type": "stream",
     "text": [
      "Calculating MRR@10: 100%|██████████| 567/567 [00:07<00:00, 80.02it/s] \n"
     ]
    },
    {
     "name": "stdout",
     "output_type": "stream",
     "text": [
      "MRR@10 mean: 0.9735 ± 0.13\n"
     ]
    },
    {
     "name": "stderr",
     "output_type": "stream",
     "text": [
      "Calculating R-precision: 100%|██████████| 567/567 [00:07<00:00, 77.09it/s] \n"
     ]
    },
    {
     "name": "stdout",
     "output_type": "stream",
     "text": [
      "R precision mean: 0.7178 ± 0.3\n"
     ]
    },
    {
     "name": "stderr",
     "output_type": "stream",
     "text": [
      "Calculating Macro-F1@X: 100%|██████████| 567/567 [00:07<00:00, 77.13it/s] \n"
     ]
    },
    {
     "name": "stdout",
     "output_type": "stream",
     "text": [
      "Macro F1@X: 0.7333 ± 0.3\n"
     ]
    }
   ],
   "source": [
    "mean, std = 0, 0\n",
    "\n",
    "\n",
    "for city in [\"south\" ,\"midwest\", \"west\", \"northeast\"]:\n",
    "    print(\"-\" * 50 + city + \"-\" * 50)\n",
    "\n",
    "    text_train_embeddings, text_train_labels, text_test_embeddings, text_test_labels = load_embedddings_for_e2e(\"CE+SupCon\", city, mode=\"multimodal\")\n",
    "    text_train_embeddings, text_train_labels, text_test_embeddings, text_test_labels = remove_duplicate_embeddings(text_train_embeddings, text_train_labels, text_test_embeddings, text_test_labels)\n",
    "    image_train_embeddings, image_train_labels, image_test_embeddings, image_test_labels = find_members(image_train_embeddings, image_train_labels, image_test_embeddings, image_test_labels)\n",
    "    # image_train_embeddings, image_train_labels, image_test_embeddings, image_test_labels = load_embedddings_for_e2e(\"CE+SupCon\", city, mode=\"image\")\n",
    "\n",
    "    # test_embeddings = torch.cat((text_train_embeddings, text_test_embeddings), 0)\n",
    "    # test_labels = torch.cat((text_train_labels, text_test_labels), 0)\n",
    "\n",
    "    # train_embeddings = torch.cat((image_train_embeddings, image_test_embeddings), 0)\n",
    "    # train_labels = torch.cat((image_train_labels, image_test_labels), 0)\n",
    "    \n",
    "    # Performing mean pooling\n",
    "    # train_embeddings = torch.mean(train_embeddings, dim=1)\n",
    "\n",
    "    initialize_globals(text_train_embeddings, text_train_labels)\n",
    "\n",
    "    try:\n",
    "        mean_temp, std_temp = generate_mrr_at_1_results(text_test_embeddings, text_test_labels, 10)\n",
    "        mean_temp, std_temp = generate_rprecision_results(text_test_embeddings, text_test_labels)\n",
    "        # _ = generate_macro_rprecision_results(test_embeddings, test_labels)\n",
    "        mean_temp, std_temp  = generate_macro_f1_at_x_results(text_test_embeddings, text_test_labels)\n",
    "        # print(f\"{city}-mean:{round(mean_temp, 4)} ± {round(std_temp, 2)}\\n\")\n",
    "        mean += mean_temp\n",
    "        std += std_temp\n",
    "    except Exception as e:\n",
    "        file.write(f\"Error processing {city}: {e}\\n\")\n",
    "\n",
    "    # Clear cache and free memory\n",
    "    del text_train_embeddings, text_train_labels, text_test_embeddings, text_test_labels\n",
    "    gc.collect()"
   ]
  },
  {
   "cell_type": "code",
   "execution_count": 129,
   "id": "c617804b-692f-4555-9ff4-f98a1e9f32a3",
   "metadata": {
    "tags": []
   },
   "outputs": [
    {
     "name": "stdout",
     "output_type": "stream",
     "text": [
      "--------------------------------------------------south--------------------------------------------------\n",
      "Global variables initialized in 0.15 seconds.\n"
     ]
    },
    {
     "name": "stderr",
     "output_type": "stream",
     "text": [
      "Calculating MRR@10: 100%|██████████| 1231/1231 [00:26<00:00, 46.19it/s]\n"
     ]
    },
    {
     "name": "stdout",
     "output_type": "stream",
     "text": [
      "MRR@10 mean: 0.232 ± 0.3\n"
     ]
    },
    {
     "name": "stderr",
     "output_type": "stream",
     "text": [
      "Calculating R-precision: 100%|██████████| 1231/1231 [00:26<00:00, 46.61it/s]\n"
     ]
    },
    {
     "name": "stdout",
     "output_type": "stream",
     "text": [
      "R precision mean: 0.0537 ± 0.09\n"
     ]
    },
    {
     "name": "stderr",
     "output_type": "stream",
     "text": [
      "Calculating Macro-F1@X: 100%|██████████| 1231/1231 [00:26<00:00, 45.83it/s]\n"
     ]
    },
    {
     "name": "stdout",
     "output_type": "stream",
     "text": [
      "Macro F1@X: 0.0689 ± 0.11\n",
      "Error processing south: I/O operation on closed file.\n",
      "\n",
      "--------------------------------------------------midwest--------------------------------------------------\n",
      "Global variables initialized in 0.05 seconds.\n"
     ]
    },
    {
     "name": "stderr",
     "output_type": "stream",
     "text": [
      "Calculating MRR@10: 100%|██████████| 791/791 [00:09<00:00, 82.19it/s] \n"
     ]
    },
    {
     "name": "stdout",
     "output_type": "stream",
     "text": [
      "MRR@10 mean: 0.2312 ± 0.32\n"
     ]
    },
    {
     "name": "stderr",
     "output_type": "stream",
     "text": [
      "Calculating R-precision: 100%|██████████| 791/791 [00:09<00:00, 82.89it/s] \n"
     ]
    },
    {
     "name": "stdout",
     "output_type": "stream",
     "text": [
      "R precision mean: 0.0752 ± 0.13\n"
     ]
    },
    {
     "name": "stderr",
     "output_type": "stream",
     "text": [
      "Calculating Macro-F1@X: 100%|██████████| 791/791 [00:09<00:00, 82.56it/s] \n"
     ]
    },
    {
     "name": "stdout",
     "output_type": "stream",
     "text": [
      "Macro F1@X: 0.0892 ± 0.14\n",
      "Error processing midwest: I/O operation on closed file.\n",
      "\n",
      "--------------------------------------------------west--------------------------------------------------\n",
      "Global variables initialized in 0.01 seconds.\n"
     ]
    },
    {
     "name": "stderr",
     "output_type": "stream",
     "text": [
      "Calculating MRR@10: 100%|██████████| 399/399 [00:01<00:00, 201.84it/s]\n"
     ]
    },
    {
     "name": "stdout",
     "output_type": "stream",
     "text": [
      "MRR@10 mean: 0.2969 ± 0.39\n"
     ]
    },
    {
     "name": "stderr",
     "output_type": "stream",
     "text": [
      "Calculating R-precision: 100%|██████████| 399/399 [00:02<00:00, 197.36it/s]\n"
     ]
    },
    {
     "name": "stdout",
     "output_type": "stream",
     "text": [
      "R precision mean: 0.1275 ± 0.17\n"
     ]
    },
    {
     "name": "stderr",
     "output_type": "stream",
     "text": [
      "Calculating Macro-F1@X: 100%|██████████| 399/399 [00:02<00:00, 195.50it/s]\n"
     ]
    },
    {
     "name": "stdout",
     "output_type": "stream",
     "text": [
      "Macro F1@X: 0.1415 ± 0.19\n",
      "Error processing west: I/O operation on closed file.\n",
      "\n",
      "--------------------------------------------------northeast--------------------------------------------------\n",
      "Global variables initialized in 0.01 seconds.\n"
     ]
    },
    {
     "name": "stderr",
     "output_type": "stream",
     "text": [
      "Calculating MRR@10: 100%|██████████| 475/475 [00:03<00:00, 130.83it/s]\n"
     ]
    },
    {
     "name": "stdout",
     "output_type": "stream",
     "text": [
      "MRR@10 mean: 0.2945 ± 0.37\n"
     ]
    },
    {
     "name": "stderr",
     "output_type": "stream",
     "text": [
      "Calculating R-precision: 100%|██████████| 475/475 [00:03<00:00, 124.41it/s]\n"
     ]
    },
    {
     "name": "stdout",
     "output_type": "stream",
     "text": [
      "R precision mean: 0.1143 ± 0.16\n"
     ]
    },
    {
     "name": "stderr",
     "output_type": "stream",
     "text": [
      "Calculating Macro-F1@X: 100%|██████████| 475/475 [00:03<00:00, 124.38it/s]"
     ]
    },
    {
     "name": "stdout",
     "output_type": "stream",
     "text": [
      "Macro F1@X: 0.1072 ± 0.15\n",
      "Error processing northeast: I/O operation on closed file.\n",
      "\n",
      "Average score: 0.0 ± 0.0\n",
      "\n"
     ]
    },
    {
     "name": "stderr",
     "output_type": "stream",
     "text": [
      "\n"
     ]
    }
   ],
   "source": [
    "mean, std = 0, 0\n",
    "\n",
    "for city in [\"south\", \"midwest\", \"west\", \"northeast\"]:\n",
    "    print(\"-\" * 50 + city + \"-\" * 50)\n",
    "    text_train_embeddings, text_train_labels, text_test_embeddings, text_test_labels = load_embeddings_for_clipstylemodels(\"CLIP\", city, mode=\"image\")\n",
    "    # image_train_embeddings, image_train_labels, image_test_embeddings, image_test_labels = load_embeddings(\"CE+SupCon+ITM\", city, mode=\"image\")\n",
    "\n",
    "    initialize_globals(text_train_embeddings, text_train_labels)\n",
    "\n",
    "    try:\n",
    "        mean_temp, std_temp = generate_mrr_at_1_results(text_test_embeddings, text_test_labels, 10)\n",
    "        mean_temp, std_temp = generate_rprecision_results(text_test_embeddings, text_test_labels)\n",
    "        # _ = generate_macro_rprecision_results(test_embeddings, test_labels)\n",
    "        mean_temp, std_temp  = generate_macro_f1_at_x_results(text_test_embeddings, text_test_labels)\n",
    "        file.write(f\"{city}-mean:{round(mean_temp, 4)} ± {round(std_temp, 2)}\\n\")\n",
    "        mean += mean_temp\n",
    "        std += std_temp\n",
    "    except Exception as e:\n",
    "        print(f\"Error processing {city}: {e}\\n\")\n",
    "\n",
    "    # Clear cache and free memory\n",
    "    del text_train_embeddings, text_train_labels, text_test_embeddings, text_test_labels\n",
    "    gc.collect()\n",
    "            \n",
    "print(f\"Average score: {round(mean/7, 4)} ± {round(std/7, 2)}\\n\")"
   ]
  },
  {
   "cell_type": "code",
   "execution_count": 130,
   "id": "df79f058-6a28-4bd1-8ea2-afd1f504408e",
   "metadata": {
    "tags": []
   },
   "outputs": [
    {
     "name": "stdout",
     "output_type": "stream",
     "text": [
      "--------------------------------------------------south--------------------------------------------------\n",
      "Global variables initialized in 0.08 seconds.\n"
     ]
    },
    {
     "name": "stderr",
     "output_type": "stream",
     "text": [
      "Calculating MRR@10: 100%|██████████| 1231/1231 [00:25<00:00, 47.80it/s]\n"
     ]
    },
    {
     "name": "stdout",
     "output_type": "stream",
     "text": [
      "MRR@10 mean: 0.0069 ± 0.06\n"
     ]
    },
    {
     "name": "stderr",
     "output_type": "stream",
     "text": [
      "Calculating R-precision: 100%|██████████| 1231/1231 [00:25<00:00, 47.51it/s]\n"
     ]
    },
    {
     "name": "stdout",
     "output_type": "stream",
     "text": [
      "R precision mean: 0.0038 ± 0.02\n"
     ]
    },
    {
     "name": "stderr",
     "output_type": "stream",
     "text": [
      "Calculating Macro-F1@X: 100%|██████████| 1231/1231 [00:26<00:00, 46.93it/s]\n"
     ]
    },
    {
     "name": "stdout",
     "output_type": "stream",
     "text": [
      "Macro F1@X: 0.0049 ± 0.02\n",
      "Error processing south: I/O operation on closed file.\n",
      "\n",
      "--------------------------------------------------midwest--------------------------------------------------\n",
      "Global variables initialized in 0.04 seconds.\n"
     ]
    },
    {
     "name": "stderr",
     "output_type": "stream",
     "text": [
      "Calculating MRR@10: 100%|██████████| 791/791 [00:09<00:00, 83.06it/s] \n"
     ]
    },
    {
     "name": "stdout",
     "output_type": "stream",
     "text": [
      "MRR@10 mean: 0.0076 ± 0.07\n"
     ]
    },
    {
     "name": "stderr",
     "output_type": "stream",
     "text": [
      "Calculating R-precision: 100%|██████████| 791/791 [00:09<00:00, 82.00it/s] \n"
     ]
    },
    {
     "name": "stdout",
     "output_type": "stream",
     "text": [
      "R precision mean: 0.004 ± 0.02\n"
     ]
    },
    {
     "name": "stderr",
     "output_type": "stream",
     "text": [
      "Calculating Macro-F1@X: 100%|██████████| 791/791 [00:09<00:00, 82.21it/s] \n"
     ]
    },
    {
     "name": "stdout",
     "output_type": "stream",
     "text": [
      "Macro F1@X: 0.0072 ± 0.02\n",
      "Error processing midwest: I/O operation on closed file.\n",
      "\n",
      "--------------------------------------------------west--------------------------------------------------\n",
      "Global variables initialized in 0.01 seconds.\n"
     ]
    },
    {
     "name": "stderr",
     "output_type": "stream",
     "text": [
      "Calculating MRR@10: 100%|██████████| 399/399 [00:01<00:00, 200.05it/s]\n"
     ]
    },
    {
     "name": "stdout",
     "output_type": "stream",
     "text": [
      "MRR@10 mean: 0.0168 ± 0.09\n"
     ]
    },
    {
     "name": "stderr",
     "output_type": "stream",
     "text": [
      "Calculating R-precision: 100%|██████████| 399/399 [00:02<00:00, 198.11it/s]\n"
     ]
    },
    {
     "name": "stdout",
     "output_type": "stream",
     "text": [
      "R precision mean: 0.0078 ± 0.03\n"
     ]
    },
    {
     "name": "stderr",
     "output_type": "stream",
     "text": [
      "Calculating Macro-F1@X: 100%|██████████| 399/399 [00:02<00:00, 192.32it/s]\n"
     ]
    },
    {
     "name": "stdout",
     "output_type": "stream",
     "text": [
      "Macro F1@X: 0.0125 ± 0.03\n",
      "Error processing west: I/O operation on closed file.\n",
      "\n",
      "--------------------------------------------------northeast--------------------------------------------------\n",
      "Global variables initialized in 0.00 seconds.\n"
     ]
    },
    {
     "name": "stderr",
     "output_type": "stream",
     "text": [
      "Calculating MRR@10: 100%|██████████| 475/475 [00:03<00:00, 128.05it/s]\n"
     ]
    },
    {
     "name": "stdout",
     "output_type": "stream",
     "text": [
      "MRR@10 mean: 0.015 ± 0.09\n"
     ]
    },
    {
     "name": "stderr",
     "output_type": "stream",
     "text": [
      "Calculating R-precision: 100%|██████████| 475/475 [00:03<00:00, 123.35it/s]\n"
     ]
    },
    {
     "name": "stdout",
     "output_type": "stream",
     "text": [
      "R precision mean: 0.0064 ± 0.03\n"
     ]
    },
    {
     "name": "stderr",
     "output_type": "stream",
     "text": [
      "Calculating Macro-F1@X: 100%|██████████| 475/475 [00:03<00:00, 126.65it/s]"
     ]
    },
    {
     "name": "stdout",
     "output_type": "stream",
     "text": [
      "Macro F1@X: 0.0094 ± 0.03\n",
      "Error processing northeast: I/O operation on closed file.\n",
      "\n",
      "Average score: 0.0 ± 0.0\n",
      "\n"
     ]
    },
    {
     "name": "stderr",
     "output_type": "stream",
     "text": [
      "\n"
     ]
    }
   ],
   "source": [
    "mean, std = 0, 0\n",
    "\n",
    "for city in [\"south\", \"midwest\", \"west\", \"northeast\"]:\n",
    "    print(\"-\" * 50 + city + \"-\" * 50)\n",
    "    text_train_embeddings, text_train_labels, text_test_embeddings, text_test_labels = load_embeddings_for_clipstylemodels(\"CLIPITM\", city, mode=\"image\")\n",
    "    # image_train_embeddings, image_train_labels, image_test_embeddings, image_test_labels = load_embeddings(\"CE+SupCon+ITM\", city, mode=\"image\")\n",
    "    text_train_embeddings = torch.mean(text_train_embeddings, dim=1)\n",
    "    text_test_embeddings = torch.mean(text_test_embeddings, dim=1)\n",
    "    \n",
    "    initialize_globals(text_train_embeddings, text_train_labels)\n",
    "\n",
    "    try:\n",
    "        mean_temp, std_temp = generate_mrr_at_1_results(text_test_embeddings, text_test_labels, 10)\n",
    "        mean_temp, std_temp = generate_rprecision_results(text_test_embeddings, text_test_labels)\n",
    "        # _ = generate_macro_rprecision_results(test_embeddings, test_labels)\n",
    "        mean_temp, std_temp  = generate_macro_f1_at_x_results(text_test_embeddings, text_test_labels)\n",
    "        file.write(f\"{city}-mean:{round(mean_temp, 4)} ± {round(std_temp, 2)}\\n\")\n",
    "        mean += mean_temp\n",
    "        std += std_temp\n",
    "    except Exception as e:\n",
    "        print(f\"Error processing {city}: {e}\\n\")\n",
    "\n",
    "    # Clear cache and free memory\n",
    "    del text_train_embeddings, text_train_labels, text_test_embeddings, text_test_labels\n",
    "    gc.collect()\n",
    "            \n",
    "print(f\"Average score: {round(mean/7, 4)} ± {round(std/7, 2)}\\n\")"
   ]
  },
  {
   "cell_type": "code",
   "execution_count": 131,
   "id": "1d1f5285-7038-4318-9b76-559fe0cf68da",
   "metadata": {
    "tags": []
   },
   "outputs": [
    {
     "name": "stdout",
     "output_type": "stream",
     "text": [
      "--------------------------------------------------south--------------------------------------------------\n",
      "Global variables initialized in 0.08 seconds.\n"
     ]
    },
    {
     "name": "stderr",
     "output_type": "stream",
     "text": [
      "Calculating MRR@10: 100%|██████████| 1231/1231 [00:26<00:00, 46.91it/s]\n"
     ]
    },
    {
     "name": "stdout",
     "output_type": "stream",
     "text": [
      "MRR@10 mean: 0.151 ± 0.27\n"
     ]
    },
    {
     "name": "stderr",
     "output_type": "stream",
     "text": [
      "Calculating R-precision: 100%|██████████| 1231/1231 [00:26<00:00, 47.31it/s]\n"
     ]
    },
    {
     "name": "stdout",
     "output_type": "stream",
     "text": [
      "R precision mean: 0.0557 ± 0.14\n"
     ]
    },
    {
     "name": "stderr",
     "output_type": "stream",
     "text": [
      "Calculating Macro-F1@X: 100%|██████████| 1231/1231 [00:25<00:00, 47.49it/s]\n"
     ]
    },
    {
     "name": "stdout",
     "output_type": "stream",
     "text": [
      "Macro F1@X: 0.0856 ± 0.2\n",
      "Error processing south: I/O operation on closed file.\n",
      "\n",
      "--------------------------------------------------midwest--------------------------------------------------\n",
      "Global variables initialized in 0.04 seconds.\n"
     ]
    },
    {
     "name": "stderr",
     "output_type": "stream",
     "text": [
      "Calculating MRR@10: 100%|██████████| 791/791 [00:09<00:00, 84.19it/s] \n"
     ]
    },
    {
     "name": "stdout",
     "output_type": "stream",
     "text": [
      "MRR@10 mean: 0.1494 ± 0.29\n"
     ]
    },
    {
     "name": "stderr",
     "output_type": "stream",
     "text": [
      "Calculating R-precision: 100%|██████████| 791/791 [00:09<00:00, 82.86it/s] \n"
     ]
    },
    {
     "name": "stdout",
     "output_type": "stream",
     "text": [
      "R precision mean: 0.0558 ± 0.14\n"
     ]
    },
    {
     "name": "stderr",
     "output_type": "stream",
     "text": [
      "Calculating Macro-F1@X: 100%|██████████| 791/791 [00:09<00:00, 82.97it/s] \n"
     ]
    },
    {
     "name": "stdout",
     "output_type": "stream",
     "text": [
      "Macro F1@X: 0.0762 ± 0.16\n",
      "Error processing midwest: I/O operation on closed file.\n",
      "\n",
      "--------------------------------------------------west--------------------------------------------------\n",
      "Global variables initialized in 0.01 seconds.\n"
     ]
    },
    {
     "name": "stderr",
     "output_type": "stream",
     "text": [
      "Calculating MRR@10: 100%|██████████| 399/399 [00:01<00:00, 201.64it/s]\n"
     ]
    },
    {
     "name": "stdout",
     "output_type": "stream",
     "text": [
      "MRR@10 mean: 0.1867 ± 0.34\n"
     ]
    },
    {
     "name": "stderr",
     "output_type": "stream",
     "text": [
      "Calculating R-precision: 100%|██████████| 399/399 [00:02<00:00, 192.62it/s]\n"
     ]
    },
    {
     "name": "stdout",
     "output_type": "stream",
     "text": [
      "R precision mean: 0.0802 ± 0.16\n"
     ]
    },
    {
     "name": "stderr",
     "output_type": "stream",
     "text": [
      "Calculating Macro-F1@X: 100%|██████████| 399/399 [00:02<00:00, 188.31it/s]\n"
     ]
    },
    {
     "name": "stdout",
     "output_type": "stream",
     "text": [
      "Macro F1@X: 0.1047 ± 0.21\n",
      "Error processing west: I/O operation on closed file.\n",
      "\n",
      "--------------------------------------------------northeast--------------------------------------------------\n",
      "Global variables initialized in 0.01 seconds.\n"
     ]
    },
    {
     "name": "stderr",
     "output_type": "stream",
     "text": [
      "Calculating MRR@10: 100%|██████████| 475/475 [00:03<00:00, 128.66it/s]\n"
     ]
    },
    {
     "name": "stdout",
     "output_type": "stream",
     "text": [
      "MRR@10 mean: 0.1894 ± 0.34\n"
     ]
    },
    {
     "name": "stderr",
     "output_type": "stream",
     "text": [
      "Calculating R-precision: 100%|██████████| 475/475 [00:03<00:00, 127.59it/s]\n"
     ]
    },
    {
     "name": "stdout",
     "output_type": "stream",
     "text": [
      "R precision mean: 0.1056 ± 0.2\n"
     ]
    },
    {
     "name": "stderr",
     "output_type": "stream",
     "text": [
      "Calculating Macro-F1@X: 100%|██████████| 475/475 [00:03<00:00, 124.99it/s]\n"
     ]
    },
    {
     "name": "stdout",
     "output_type": "stream",
     "text": [
      "Macro F1@X: 0.1063 ± 0.2\n",
      "Error processing northeast: I/O operation on closed file.\n",
      "\n",
      "Average score: 0.0 ± 0.0\n",
      "\n"
     ]
    }
   ],
   "source": [
    "mean, std = 0, 0\n",
    "\n",
    "for city in [\"south\", \"midwest\", \"west\", \"northeast\"]:\n",
    "    print(\"-\" * 50 + city + \"-\" * 50)\n",
    "    text_train_embeddings, text_train_labels, text_test_embeddings, text_test_labels = load_embeddings_for_clipstylemodels(\"BLIP2\", city, mode=\"image\")\n",
    "    # image_train_embeddings, image_train_labels, image_test_embeddings, image_test_labels = load_embeddings(\"CE+SupCon+ITM\", city, mode=\"image\")\n",
    "    text_train_embeddings = torch.mean(text_train_embeddings, dim=1)\n",
    "    text_test_embeddings = torch.mean(text_test_embeddings, dim=1)\n",
    "    \n",
    "    initialize_globals(text_train_embeddings, text_train_labels)\n",
    "\n",
    "    try:\n",
    "        mean_temp, std_temp = generate_mrr_at_1_results(text_test_embeddings, text_test_labels, 10)\n",
    "        mean_temp, std_temp = generate_rprecision_results(text_test_embeddings, text_test_labels)\n",
    "        # _ = generate_macro_rprecision_results(test_embeddings, test_labels)\n",
    "        mean_temp, std_temp  = generate_macro_f1_at_x_results(text_test_embeddings, text_test_labels)\n",
    "        file.write(f\"{city}-mean:{round(mean_temp, 4)} ± {round(std_temp, 2)}\\n\")\n",
    "        mean += mean_temp\n",
    "        std += std_temp\n",
    "    except Exception as e:\n",
    "        print(f\"Error processing {city}: {e}\\n\")\n",
    "\n",
    "    # Clear cache and free memory\n",
    "    del text_train_embeddings, text_train_labels, text_test_embeddings, text_test_labels\n",
    "    gc.collect()\n",
    "            \n",
    "print(f\"Average score: {round(mean/7, 4)} ± {round(std/7, 2)}\\n\")"
   ]
  },
  {
   "cell_type": "code",
   "execution_count": null,
   "id": "90bae1f1-6bd6-406c-817d-a61bdecb535b",
   "metadata": {},
   "outputs": [],
   "source": []
  },
  {
   "cell_type": "markdown",
   "id": "6b362a15-e3b6-433f-b85c-007753766ed6",
   "metadata": {},
   "source": [
    "# Image-Text Retrieval"
   ]
  },
  {
   "cell_type": "code",
   "execution_count": 101,
   "id": "3a3bff4e-5a41-49c6-ac97-c7d76d257588",
   "metadata": {
    "tags": []
   },
   "outputs": [
    {
     "name": "stdout",
     "output_type": "stream",
     "text": [
      "--------------------------------------------------south--------------------------------------------------\n",
      "Global variables initialized in 0.09 seconds.\n"
     ]
    },
    {
     "name": "stderr",
     "output_type": "stream",
     "text": [
      "Calculating MRR@10: 100%|██████████| 13677/13677 [04:11<00:00, 54.41it/s]\n"
     ]
    },
    {
     "name": "stdout",
     "output_type": "stream",
     "text": [
      "MRR@10 mean: 0.001 ± 0.03\n"
     ]
    },
    {
     "name": "stderr",
     "output_type": "stream",
     "text": [
      "Calculating R-precision: 100%|██████████| 13677/13677 [02:23<00:00, 95.54it/s] \n"
     ]
    },
    {
     "name": "stdout",
     "output_type": "stream",
     "text": [
      "R precision mean: 0.0017 ± 0.02\n"
     ]
    },
    {
     "name": "stderr",
     "output_type": "stream",
     "text": [
      "Calculating Macro-F1@X: 100%|██████████| 13677/13677 [02:22<00:00, 95.70it/s] \n"
     ]
    },
    {
     "name": "stdout",
     "output_type": "stream",
     "text": [
      "Macro F1@X: 0.0017 ± 0.02\n",
      "--------------------------------------------------midwest--------------------------------------------------\n",
      "Global variables initialized in 0.05 seconds.\n"
     ]
    },
    {
     "name": "stderr",
     "output_type": "stream",
     "text": [
      "Calculating MRR@10: 100%|██████████| 8285/8285 [01:22<00:00, 100.83it/s]\n"
     ]
    },
    {
     "name": "stdout",
     "output_type": "stream",
     "text": [
      "MRR@10 mean: 0.0027 ± 0.05\n"
     ]
    },
    {
     "name": "stderr",
     "output_type": "stream",
     "text": [
      "Calculating R-precision: 100%|██████████| 8285/8285 [00:42<00:00, 194.83it/s]\n"
     ]
    },
    {
     "name": "stdout",
     "output_type": "stream",
     "text": [
      "R precision mean: 0.0049 ± 0.04\n"
     ]
    },
    {
     "name": "stderr",
     "output_type": "stream",
     "text": [
      "Calculating Macro-F1@X: 100%|██████████| 8285/8285 [00:42<00:00, 195.25it/s]\n"
     ]
    },
    {
     "name": "stdout",
     "output_type": "stream",
     "text": [
      "Macro F1@X: 0.0049 ± 0.04\n",
      "--------------------------------------------------west--------------------------------------------------\n",
      "Global variables initialized in 0.02 seconds.\n"
     ]
    },
    {
     "name": "stderr",
     "output_type": "stream",
     "text": [
      "Calculating MRR@10: 100%|██████████| 3158/3158 [00:10<00:00, 291.36it/s]\n"
     ]
    },
    {
     "name": "stdout",
     "output_type": "stream",
     "text": [
      "MRR@10 mean: 0.0063 ± 0.08\n"
     ]
    },
    {
     "name": "stderr",
     "output_type": "stream",
     "text": [
      "Calculating R-precision: 100%|██████████| 3158/3158 [00:05<00:00, 607.20it/s] \n"
     ]
    },
    {
     "name": "stdout",
     "output_type": "stream",
     "text": [
      "R precision mean: 0.0103 ± 0.06\n"
     ]
    },
    {
     "name": "stderr",
     "output_type": "stream",
     "text": [
      "Calculating Macro-F1@X: 100%|██████████| 3158/3158 [00:05<00:00, 609.87it/s] \n"
     ]
    },
    {
     "name": "stdout",
     "output_type": "stream",
     "text": [
      "Macro F1@X: 0.0103 ± 0.06\n",
      "--------------------------------------------------northeast--------------------------------------------------\n",
      "Global variables initialized in 0.01 seconds.\n"
     ]
    },
    {
     "name": "stderr",
     "output_type": "stream",
     "text": [
      "Calculating MRR@10: 100%|██████████| 2558/2558 [00:13<00:00, 196.37it/s]\n"
     ]
    },
    {
     "name": "stdout",
     "output_type": "stream",
     "text": [
      "MRR@10 mean: 0.0098 ± 0.1\n"
     ]
    },
    {
     "name": "stderr",
     "output_type": "stream",
     "text": [
      "Calculating R-precision: 100%|██████████| 2558/2558 [00:08<00:00, 287.17it/s]\n"
     ]
    },
    {
     "name": "stdout",
     "output_type": "stream",
     "text": [
      "R precision mean: 0.0104 ± 0.06\n"
     ]
    },
    {
     "name": "stderr",
     "output_type": "stream",
     "text": [
      "Calculating Macro-F1@X: 100%|██████████| 2558/2558 [00:08<00:00, 289.59it/s]\n"
     ]
    },
    {
     "name": "stdout",
     "output_type": "stream",
     "text": [
      "Macro F1@X: 0.0104 ± 0.06\n"
     ]
    }
   ],
   "source": [
    "mean, std = 0, 0\n",
    "\n",
    "\n",
    "for city in [\"south\", \"midwest\", \"west\", \"northeast\"]:\n",
    "    print(\"-\" * 50 + city + \"-\" * 50)\n",
    "\n",
    "    text_train_embeddings, text_train_labels, text_test_embeddings, text_test_labels = load_embeddings_for_clipstylemodels_ids(\"CLIP\", city, mode=\"text\")\n",
    "    image_train_embeddings, image_train_labels, image_test_embeddings, image_test_labels = load_embeddings_for_clipstylemodels_ids(\"CLIP\", city, mode=\"image\")\n",
    "\n",
    "    test_embeddings = torch.cat((text_train_embeddings, text_test_embeddings), 0)\n",
    "    test_labels = torch.cat((text_train_labels, text_test_labels), 0)\n",
    "\n",
    "    train_embeddings = torch.cat((image_train_embeddings, image_test_embeddings), 0)\n",
    "    train_labels = torch.cat((image_train_labels, image_test_labels), 0)\n",
    "\n",
    "    initialize_globals(train_embeddings, train_labels)\n",
    "\n",
    "    try:\n",
    "        mean_temp, std_temp = generate_mrr_at_1_results(test_embeddings, test_labels, 10)\n",
    "        mean_temp, std_temp = generate_rprecision_results(test_embeddings, test_labels)\n",
    "        # _ = generate_macro_rprecision_results(test_embeddings, test_labels)\n",
    "        mean_temp, std_temp  = generate_macro_f1_at_x_results(test_embeddings, test_labels)\n",
    "        # print(f\"{city}-mean:{round(mean_temp, 4)} ± {round(std_temp, 2)}\\n\")\n",
    "        mean += mean_temp\n",
    "        std += std_temp\n",
    "    except Exception as e:\n",
    "        file.write(f\"Error processing {city}: {e}\\n\")\n",
    "\n",
    "    # Clear cache and free memory\n",
    "    del train_embeddings, train_labels, test_embeddings, test_labels\n",
    "    gc.collect()"
   ]
  },
  {
   "cell_type": "code",
   "execution_count": 102,
   "id": "049c7ebb-39be-47b7-a773-237cefb0378a",
   "metadata": {
    "tags": []
   },
   "outputs": [
    {
     "name": "stdout",
     "output_type": "stream",
     "text": [
      "--------------------------------------------------south--------------------------------------------------\n",
      "Global variables initialized in 0.11 seconds.\n"
     ]
    },
    {
     "name": "stderr",
     "output_type": "stream",
     "text": [
      "Calculating MRR@10: 100%|██████████| 13677/13677 [04:11<00:00, 54.42it/s]\n"
     ]
    },
    {
     "name": "stdout",
     "output_type": "stream",
     "text": [
      "MRR@10 mean: 0.0001 ± 0.01\n"
     ]
    },
    {
     "name": "stderr",
     "output_type": "stream",
     "text": [
      "Calculating R-precision: 100%|██████████| 13677/13677 [02:23<00:00, 95.51it/s] \n"
     ]
    },
    {
     "name": "stdout",
     "output_type": "stream",
     "text": [
      "R precision mean: 0.0001 ± 0.01\n"
     ]
    },
    {
     "name": "stderr",
     "output_type": "stream",
     "text": [
      "Calculating Macro-F1@X: 100%|██████████| 13677/13677 [02:22<00:00, 95.70it/s] \n"
     ]
    },
    {
     "name": "stdout",
     "output_type": "stream",
     "text": [
      "Macro F1@X: 0.0001 ± 0.01\n",
      "--------------------------------------------------midwest--------------------------------------------------\n",
      "Global variables initialized in 0.05 seconds.\n"
     ]
    },
    {
     "name": "stderr",
     "output_type": "stream",
     "text": [
      "Calculating MRR@10: 100%|██████████| 8285/8285 [01:21<00:00, 101.05it/s]\n"
     ]
    },
    {
     "name": "stdout",
     "output_type": "stream",
     "text": [
      "MRR@10 mean: 0.0 ± 0.0\n"
     ]
    },
    {
     "name": "stderr",
     "output_type": "stream",
     "text": [
      "Calculating R-precision: 100%|██████████| 8285/8285 [00:42<00:00, 194.65it/s]\n"
     ]
    },
    {
     "name": "stdout",
     "output_type": "stream",
     "text": [
      "R precision mean: 0.0003 ± 0.01\n"
     ]
    },
    {
     "name": "stderr",
     "output_type": "stream",
     "text": [
      "Calculating Macro-F1@X: 100%|██████████| 8285/8285 [00:42<00:00, 195.08it/s]\n"
     ]
    },
    {
     "name": "stdout",
     "output_type": "stream",
     "text": [
      "Macro F1@X: 0.0003 ± 0.01\n",
      "--------------------------------------------------west--------------------------------------------------\n",
      "Global variables initialized in 0.02 seconds.\n"
     ]
    },
    {
     "name": "stderr",
     "output_type": "stream",
     "text": [
      "Calculating MRR@10: 100%|██████████| 3158/3158 [00:10<00:00, 292.35it/s]\n"
     ]
    },
    {
     "name": "stdout",
     "output_type": "stream",
     "text": [
      "MRR@10 mean: 0.0003 ± 0.02\n"
     ]
    },
    {
     "name": "stderr",
     "output_type": "stream",
     "text": [
      "Calculating R-precision: 100%|██████████| 3158/3158 [00:05<00:00, 606.52it/s] \n"
     ]
    },
    {
     "name": "stdout",
     "output_type": "stream",
     "text": [
      "R precision mean: 0.001 ± 0.02\n"
     ]
    },
    {
     "name": "stderr",
     "output_type": "stream",
     "text": [
      "Calculating Macro-F1@X: 100%|██████████| 3158/3158 [00:05<00:00, 610.05it/s] \n"
     ]
    },
    {
     "name": "stdout",
     "output_type": "stream",
     "text": [
      "Macro F1@X: 0.001 ± 0.02\n",
      "--------------------------------------------------northeast--------------------------------------------------\n",
      "Global variables initialized in 0.00 seconds.\n"
     ]
    },
    {
     "name": "stderr",
     "output_type": "stream",
     "text": [
      "Calculating MRR@10: 100%|██████████| 2558/2558 [00:12<00:00, 197.49it/s]\n"
     ]
    },
    {
     "name": "stdout",
     "output_type": "stream",
     "text": [
      "MRR@10 mean: 0.0008 ± 0.03\n"
     ]
    },
    {
     "name": "stderr",
     "output_type": "stream",
     "text": [
      "Calculating R-precision: 100%|██████████| 2558/2558 [00:08<00:00, 288.99it/s]\n"
     ]
    },
    {
     "name": "stdout",
     "output_type": "stream",
     "text": [
      "R precision mean: 0.0005 ± 0.01\n"
     ]
    },
    {
     "name": "stderr",
     "output_type": "stream",
     "text": [
      "Calculating Macro-F1@X: 100%|██████████| 2558/2558 [00:08<00:00, 289.75it/s]\n"
     ]
    },
    {
     "name": "stdout",
     "output_type": "stream",
     "text": [
      "Macro F1@X: 0.0005 ± 0.01\n"
     ]
    }
   ],
   "source": [
    "mean, std = 0, 0\n",
    "\n",
    "\n",
    "for city in [\"south\", \"midwest\", \"west\", \"northeast\"]:\n",
    "    print(\"-\" * 50 + city + \"-\" * 50)\n",
    "\n",
    "    text_train_embeddings, text_train_labels, text_test_embeddings, text_test_labels = load_embeddings_for_clipstylemodels_ids(\"CLIPITM\", city, mode=\"text\")\n",
    "    image_train_embeddings, image_train_labels, image_test_embeddings, image_test_labels = load_embeddings_for_clipstylemodels_ids(\"CLIPITM\", city, mode=\"image\")    \n",
    "    \n",
    "    test_embeddings = torch.cat((text_train_embeddings, text_test_embeddings), 0)\n",
    "    test_labels = torch.cat((text_train_labels, text_test_labels), 0)\n",
    "\n",
    "    train_embeddings = torch.cat((image_train_embeddings, image_test_embeddings), 0)\n",
    "    train_labels = torch.cat((image_train_labels, image_test_labels), 0)\n",
    "    \n",
    "    # Performing mean pooling\n",
    "    train_embeddings = torch.mean(train_embeddings, dim=1)\n",
    "    \n",
    "    initialize_globals(train_embeddings, train_labels)\n",
    "\n",
    "    try:\n",
    "        mean_temp, std_temp = generate_mrr_at_1_results(test_embeddings, test_labels, 10)\n",
    "        mean_temp, std_temp = generate_rprecision_results(test_embeddings, test_labels)\n",
    "        # _ = generate_macro_rprecision_results(test_embeddings, test_labels)\n",
    "        mean_temp, std_temp  = generate_macro_f1_at_x_results(test_embeddings, test_labels)\n",
    "        # print(f\"{city}-mean:{round(mean_temp, 4)} ± {round(std_temp, 2)}\\n\")\n",
    "        mean += mean_temp\n",
    "        std += std_temp\n",
    "    except Exception as e:\n",
    "        file.write(f\"Error processing {city}: {e}\\n\")\n",
    "\n",
    "    # Clear cache and free memory\n",
    "    del train_embeddings, train_labels, test_embeddings, test_labels\n",
    "    gc.collect()"
   ]
  },
  {
   "cell_type": "code",
   "execution_count": 103,
   "id": "b94846a7-c516-4deb-bb05-c1f214c5374e",
   "metadata": {
    "tags": []
   },
   "outputs": [
    {
     "name": "stdout",
     "output_type": "stream",
     "text": [
      "--------------------------------------------------south--------------------------------------------------\n",
      "Global variables initialized in 0.10 seconds.\n"
     ]
    },
    {
     "name": "stderr",
     "output_type": "stream",
     "text": [
      "Calculating MRR@10: 100%|██████████| 13677/13677 [04:11<00:00, 54.42it/s]\n"
     ]
    },
    {
     "name": "stdout",
     "output_type": "stream",
     "text": [
      "MRR@10 mean: 0.0001 ± 0.01\n"
     ]
    },
    {
     "name": "stderr",
     "output_type": "stream",
     "text": [
      "Calculating R-precision: 100%|██████████| 13677/13677 [02:23<00:00, 95.64it/s] \n"
     ]
    },
    {
     "name": "stdout",
     "output_type": "stream",
     "text": [
      "R precision mean: 0.0001 ± 0.0\n"
     ]
    },
    {
     "name": "stderr",
     "output_type": "stream",
     "text": [
      "Calculating Macro-F1@X: 100%|██████████| 13677/13677 [02:22<00:00, 95.74it/s] \n"
     ]
    },
    {
     "name": "stdout",
     "output_type": "stream",
     "text": [
      "Macro F1@X: 0.0001 ± 0.0\n",
      "--------------------------------------------------midwest--------------------------------------------------\n",
      "Global variables initialized in 0.05 seconds.\n"
     ]
    },
    {
     "name": "stderr",
     "output_type": "stream",
     "text": [
      "Calculating MRR@10: 100%|██████████| 8285/8285 [01:21<00:00, 101.06it/s]\n"
     ]
    },
    {
     "name": "stdout",
     "output_type": "stream",
     "text": [
      "MRR@10 mean: 0.0001 ± 0.01\n"
     ]
    },
    {
     "name": "stderr",
     "output_type": "stream",
     "text": [
      "Calculating R-precision: 100%|██████████| 8285/8285 [00:42<00:00, 194.71it/s]\n"
     ]
    },
    {
     "name": "stdout",
     "output_type": "stream",
     "text": [
      "R precision mean: 0.0002 ± 0.01\n"
     ]
    },
    {
     "name": "stderr",
     "output_type": "stream",
     "text": [
      "Calculating Macro-F1@X: 100%|██████████| 8285/8285 [00:42<00:00, 195.04it/s]\n"
     ]
    },
    {
     "name": "stdout",
     "output_type": "stream",
     "text": [
      "Macro F1@X: 0.0002 ± 0.01\n",
      "--------------------------------------------------west--------------------------------------------------\n",
      "Global variables initialized in 0.02 seconds.\n"
     ]
    },
    {
     "name": "stderr",
     "output_type": "stream",
     "text": [
      "Calculating MRR@10: 100%|██████████| 3158/3158 [00:10<00:00, 292.22it/s]\n"
     ]
    },
    {
     "name": "stdout",
     "output_type": "stream",
     "text": [
      "MRR@10 mean: 0.0003 ± 0.02\n"
     ]
    },
    {
     "name": "stderr",
     "output_type": "stream",
     "text": [
      "Calculating R-precision: 100%|██████████| 3158/3158 [00:05<00:00, 607.33it/s] \n"
     ]
    },
    {
     "name": "stdout",
     "output_type": "stream",
     "text": [
      "R precision mean: 0.0013 ± 0.03\n"
     ]
    },
    {
     "name": "stderr",
     "output_type": "stream",
     "text": [
      "Calculating Macro-F1@X: 100%|██████████| 3158/3158 [00:05<00:00, 610.68it/s] \n"
     ]
    },
    {
     "name": "stdout",
     "output_type": "stream",
     "text": [
      "Macro F1@X: 0.0013 ± 0.03\n",
      "--------------------------------------------------northeast--------------------------------------------------\n",
      "Global variables initialized in 0.00 seconds.\n"
     ]
    },
    {
     "name": "stderr",
     "output_type": "stream",
     "text": [
      "Calculating MRR@10: 100%|██████████| 2558/2558 [00:12<00:00, 197.42it/s]\n"
     ]
    },
    {
     "name": "stdout",
     "output_type": "stream",
     "text": [
      "MRR@10 mean: 0.0004 ± 0.02\n"
     ]
    },
    {
     "name": "stderr",
     "output_type": "stream",
     "text": [
      "Calculating R-precision: 100%|██████████| 2558/2558 [00:08<00:00, 289.18it/s]\n"
     ]
    },
    {
     "name": "stdout",
     "output_type": "stream",
     "text": [
      "R precision mean: 0.0006 ± 0.01\n"
     ]
    },
    {
     "name": "stderr",
     "output_type": "stream",
     "text": [
      "Calculating Macro-F1@X: 100%|██████████| 2558/2558 [00:08<00:00, 290.06it/s]"
     ]
    },
    {
     "name": "stdout",
     "output_type": "stream",
     "text": [
      "Macro F1@X: 0.0006 ± 0.01\n"
     ]
    },
    {
     "name": "stderr",
     "output_type": "stream",
     "text": [
      "\n"
     ]
    }
   ],
   "source": [
    "mean, std = 0, 0\n",
    "\n",
    "\n",
    "for city in [\"south\", \"midwest\", \"west\", \"northeast\"]:\n",
    "    print(\"-\" * 50 + city + \"-\" * 50)\n",
    "\n",
    "    text_train_embeddings, text_train_labels, text_test_embeddings, text_test_labels = load_embeddings_for_clipstylemodels_ids(\"BLIP2\", city, mode=\"text\")\n",
    "    image_train_embeddings, image_train_labels, image_test_embeddings, image_test_labels = load_embeddings_for_clipstylemodels_ids(\"BLIP2\", city, mode=\"image\")\n",
    "\n",
    "    test_embeddings = torch.cat((text_train_embeddings, text_test_embeddings), 0)\n",
    "    test_labels = torch.cat((text_train_labels, text_test_labels), 0)\n",
    "\n",
    "    train_embeddings = torch.cat((image_train_embeddings, image_test_embeddings), 0)\n",
    "    train_labels = torch.cat((image_train_labels, image_test_labels), 0)\n",
    "    \n",
    "    # Performing mean pooling\n",
    "    train_embeddings = torch.mean(train_embeddings, dim=1)\n",
    "\n",
    "    initialize_globals(train_embeddings, train_labels)\n",
    "\n",
    "    try:\n",
    "        mean_temp, std_temp = generate_mrr_at_1_results(test_embeddings, test_labels, 10)\n",
    "        mean_temp, std_temp = generate_rprecision_results(test_embeddings, test_labels)\n",
    "        # _ = generate_macro_rprecision_results(test_embeddings, test_labels)\n",
    "        mean_temp, std_temp  = generate_macro_f1_at_x_results(test_embeddings, test_labels)\n",
    "        # print(f\"{city}-mean:{round(mean_temp, 4)} ± {round(std_temp, 2)}\\n\")\n",
    "        mean += mean_temp\n",
    "        std += std_temp\n",
    "    except Exception as e:\n",
    "        file.write(f\"Error processing {city}: {e}\\n\")\n",
    "\n",
    "    # Clear cache and free memory\n",
    "    del train_embeddings, train_labels, test_embeddings, test_labels\n",
    "    gc.collect()"
   ]
  },
  {
   "cell_type": "code",
   "execution_count": 118,
   "id": "3350561a-ef53-4b34-b53b-d30910b6aafc",
   "metadata": {
    "tags": []
   },
   "outputs": [],
   "source": []
  },
  {
   "cell_type": "code",
   "execution_count": 59,
   "id": "f077f568-b26c-474e-9df4-a0c8b1ec58ac",
   "metadata": {
    "tags": []
   },
   "outputs": [],
   "source": [
    "text_train_embeddings, text_train_labels, text_test_embeddings, text_test_labels = load_embeddings_for_clipstylemodels_ids(\"CLIP\", \"south\", mode=\"text\")\n",
    "image_train_embeddings, image_train_labels, image_test_embeddings, image_test_labels = load_embeddings_for_clipstylemodels_ids(\"CLIP\", \"south\", mode=\"image\")\n",
    "\n",
    "test_embeddings = torch.cat((text_train_embeddings, text_test_embeddings), 0)\n",
    "test_labels = torch.cat((text_train_labels, text_test_labels), 0)\n",
    "\n",
    "train_embeddings = torch.cat((image_train_embeddings, image_test_embeddings), 0)\n",
    "train_labels = torch.cat((image_train_labels, image_test_labels), 0)"
   ]
  },
  {
   "cell_type": "code",
   "execution_count": 67,
   "id": "8c7367dd-581e-4e77-a0db-4e83cb8ca1a2",
   "metadata": {
    "tags": []
   },
   "outputs": [
    {
     "data": {
      "text/plain": [
       "(65544, 768)"
      ]
     },
     "execution_count": 67,
     "metadata": {},
     "output_type": "execute_result"
    }
   ],
   "source": [
    "np.unique(test_embeddings, axis=1).shape"
   ]
  },
  {
   "cell_type": "code",
   "execution_count": 63,
   "id": "76ecae45-fadc-405d-b93e-f6f589e2bb79",
   "metadata": {
    "tags": []
   },
   "outputs": [
    {
     "data": {
      "text/plain": [
       "torch.Size([65544, 768])"
      ]
     },
     "execution_count": 63,
     "metadata": {},
     "output_type": "execute_result"
    }
   ],
   "source": [
    "train_embeddings.shape"
   ]
  },
  {
   "cell_type": "code",
   "execution_count": null,
   "id": "942a847a-cfca-4ef6-86c1-bf2c0d6615c9",
   "metadata": {},
   "outputs": [],
   "source": []
  },
  {
   "cell_type": "code",
   "execution_count": 19,
   "id": "01ea7363-ea96-4622-a27d-cdf1559f34a5",
   "metadata": {
    "tags": []
   },
   "outputs": [
    {
     "name": "stdout",
     "output_type": "stream",
     "text": [
      "--------------------------------------------------south--------------------------------------------------\n",
      "Global variables initialized in 0.25 seconds.\n"
     ]
    },
    {
     "name": "stderr",
     "output_type": "stream",
     "text": [
      "Calculating MRR@10: 100%|██████████| 1434/1434 [05:01<00:00,  4.76it/s]\n"
     ]
    },
    {
     "name": "stdout",
     "output_type": "stream",
     "text": [
      "MRR@10 mean: 0.0007 ± 0.03\n"
     ]
    },
    {
     "name": "stderr",
     "output_type": "stream",
     "text": [
      "Calculating R-precision: 100%|██████████| 1434/1434 [05:07<00:00,  4.67it/s]\n"
     ]
    },
    {
     "name": "stdout",
     "output_type": "stream",
     "text": [
      "R precision mean: 0.0008 ± 0.02\n"
     ]
    },
    {
     "name": "stderr",
     "output_type": "stream",
     "text": [
      "Calculating Macro-F1@X: 100%|██████████| 1434/1434 [05:03<00:00,  4.72it/s]\n"
     ]
    },
    {
     "name": "stdout",
     "output_type": "stream",
     "text": [
      "Macro F1@X: 0.0011 ± 0.02\n",
      "--------------------------------------------------midwest--------------------------------------------------\n",
      "Global variables initialized in 0.16 seconds.\n"
     ]
    },
    {
     "name": "stderr",
     "output_type": "stream",
     "text": [
      "Calculating MRR@10: 100%|██████████| 992/992 [01:39<00:00,  9.95it/s]\n"
     ]
    },
    {
     "name": "stdout",
     "output_type": "stream",
     "text": [
      "MRR@10 mean: 0.001 ± 0.03\n"
     ]
    },
    {
     "name": "stderr",
     "output_type": "stream",
     "text": [
      "Calculating R-precision: 100%|██████████| 992/992 [01:41<00:00,  9.80it/s]\n"
     ]
    },
    {
     "name": "stdout",
     "output_type": "stream",
     "text": [
      "R precision mean: 0.0012 ± 0.02\n"
     ]
    },
    {
     "name": "stderr",
     "output_type": "stream",
     "text": [
      "Calculating Macro-F1@X: 100%|██████████| 992/992 [01:42<00:00,  9.67it/s]\n"
     ]
    },
    {
     "name": "stdout",
     "output_type": "stream",
     "text": [
      "Macro F1@X: 0.0026 ± 0.02\n",
      "--------------------------------------------------west--------------------------------------------------\n",
      "Global variables initialized in 0.05 seconds.\n"
     ]
    },
    {
     "name": "stderr",
     "output_type": "stream",
     "text": [
      "Calculating MRR@10: 100%|██████████| 499/499 [00:16<00:00, 30.01it/s]\n"
     ]
    },
    {
     "name": "stdout",
     "output_type": "stream",
     "text": [
      "MRR@10 mean: 0.002 ± 0.04\n"
     ]
    },
    {
     "name": "stderr",
     "output_type": "stream",
     "text": [
      "Calculating R-precision: 100%|██████████| 499/499 [00:17<00:00, 28.88it/s]\n"
     ]
    },
    {
     "name": "stdout",
     "output_type": "stream",
     "text": [
      "R precision mean: 0.002 ± 0.02\n"
     ]
    },
    {
     "name": "stderr",
     "output_type": "stream",
     "text": [
      "Calculating Macro-F1@X: 100%|██████████| 499/499 [00:17<00:00, 28.28it/s]\n"
     ]
    },
    {
     "name": "stdout",
     "output_type": "stream",
     "text": [
      "Macro F1@X: 0.0034 ± 0.03\n",
      "--------------------------------------------------northeast--------------------------------------------------\n",
      "Global variables initialized in 0.07 seconds.\n"
     ]
    },
    {
     "name": "stderr",
     "output_type": "stream",
     "text": [
      "Calculating MRR@10: 100%|██████████| 574/574 [00:19<00:00, 29.23it/s]\n"
     ]
    },
    {
     "name": "stdout",
     "output_type": "stream",
     "text": [
      "MRR@10 mean: 0.002 ± 0.03\n"
     ]
    },
    {
     "name": "stderr",
     "output_type": "stream",
     "text": [
      "Calculating R-precision: 100%|██████████| 574/574 [00:19<00:00, 28.90it/s]\n"
     ]
    },
    {
     "name": "stdout",
     "output_type": "stream",
     "text": [
      "R precision mean: 0.002 ± 0.03\n"
     ]
    },
    {
     "name": "stderr",
     "output_type": "stream",
     "text": [
      "Calculating Macro-F1@X: 100%|██████████| 574/574 [00:19<00:00, 28.74it/s]\n"
     ]
    },
    {
     "name": "stdout",
     "output_type": "stream",
     "text": [
      "Macro F1@X: 0.0035 ± 0.03\n"
     ]
    }
   ],
   "source": [
    "mean, std = 0, 0\n",
    "\n",
    "\n",
    "for city in [\"south\", \"midwest\", \"west\", \"northeast\"]:\n",
    "    print(\"-\" * 50 + city + \"-\" * 50)\n",
    "\n",
    "    text_train_embeddings, text_train_labels, text_test_embeddings, text_test_labels = load_embeddings_for_clipstylemodels(\"CLIPITM\", city, mode=\"text\")\n",
    "    image_train_embeddings, image_train_labels, image_test_embeddings, image_test_labels = load_embeddings_for_clipstylemodels(\"CLIPITM\", city, mode=\"image\")\n",
    "\n",
    "    train_embeddings = torch.cat((text_train_embeddings, text_test_embeddings), 0)\n",
    "    train_labels = torch.cat((text_train_labels, text_test_labels), 0)\n",
    "\n",
    "    test_embeddings = torch.cat((image_train_embeddings, image_test_embeddings), 0)\n",
    "    test_labels = torch.cat((image_train_labels, image_test_labels), 0)\n",
    "\n",
    "    initialize_globals(train_embeddings, train_labels)\n",
    "\n",
    "    try:\n",
    "        mean_temp, std_temp = generate_mrr_at_1_results(test_embeddings, test_labels, 10)\n",
    "        mean_temp, std_temp = generate_rprecision_results(test_embeddings, test_labels)\n",
    "        # _ = generate_macro_rprecision_results(test_embeddings, test_labels)\n",
    "        mean_temp, std_temp  = generate_macro_f1_at_x_results(test_embeddings, test_labels)\n",
    "        # print(f\"{city}-mean:{round(mean_temp, 4)} ± {round(std_temp, 2)}\\n\")\n",
    "        mean += mean_temp\n",
    "        std += std_temp\n",
    "    except Exception as e:\n",
    "        file.write(f\"Error processing {city}: {e}\\n\")\n",
    "\n",
    "    # Clear cache and free memory\n",
    "    del train_embeddings, train_labels, test_embeddings, test_labels\n",
    "    gc.collect()"
   ]
  },
  {
   "cell_type": "code",
   "execution_count": 20,
   "id": "aec05747-c547-4a57-a4c0-a7d246415080",
   "metadata": {
    "tags": []
   },
   "outputs": [
    {
     "name": "stdout",
     "output_type": "stream",
     "text": [
      "--------------------------------------------------south--------------------------------------------------\n",
      "Global variables initialized in 0.22 seconds.\n"
     ]
    },
    {
     "name": "stderr",
     "output_type": "stream",
     "text": [
      "Calculating MRR@10: 100%|██████████| 1434/1434 [05:02<00:00,  4.74it/s]\n"
     ]
    },
    {
     "name": "stdout",
     "output_type": "stream",
     "text": [
      "MRR@10 mean: 0.0007 ± 0.03\n"
     ]
    },
    {
     "name": "stderr",
     "output_type": "stream",
     "text": [
      "Calculating R-precision: 100%|██████████| 1434/1434 [05:12<00:00,  4.59it/s]\n"
     ]
    },
    {
     "name": "stdout",
     "output_type": "stream",
     "text": [
      "R precision mean: 0.0008 ± 0.02\n"
     ]
    },
    {
     "name": "stderr",
     "output_type": "stream",
     "text": [
      "Calculating Macro-F1@X: 100%|██████████| 1434/1434 [05:25<00:00,  4.41it/s]\n"
     ]
    },
    {
     "name": "stdout",
     "output_type": "stream",
     "text": [
      "Macro F1@X: 0.0033 ± 0.03\n",
      "--------------------------------------------------midwest--------------------------------------------------\n",
      "Global variables initialized in 0.17 seconds.\n"
     ]
    },
    {
     "name": "stderr",
     "output_type": "stream",
     "text": [
      "Calculating MRR@10: 100%|██████████| 992/992 [01:40<00:00,  9.91it/s]\n"
     ]
    },
    {
     "name": "stdout",
     "output_type": "stream",
     "text": [
      "MRR@10 mean: 0.001 ± 0.03\n"
     ]
    },
    {
     "name": "stderr",
     "output_type": "stream",
     "text": [
      "Calculating R-precision: 100%|██████████| 992/992 [01:41<00:00,  9.75it/s]\n"
     ]
    },
    {
     "name": "stdout",
     "output_type": "stream",
     "text": [
      "R precision mean: 0.001 ± 0.02\n"
     ]
    },
    {
     "name": "stderr",
     "output_type": "stream",
     "text": [
      "Calculating Macro-F1@X: 100%|██████████| 992/992 [01:42<00:00,  9.70it/s]\n"
     ]
    },
    {
     "name": "stdout",
     "output_type": "stream",
     "text": [
      "Macro F1@X: 0.0056 ± 0.03\n",
      "--------------------------------------------------west--------------------------------------------------\n",
      "Global variables initialized in 0.05 seconds.\n"
     ]
    },
    {
     "name": "stderr",
     "output_type": "stream",
     "text": [
      "Calculating MRR@10: 100%|██████████| 499/499 [00:16<00:00, 30.45it/s]\n"
     ]
    },
    {
     "name": "stdout",
     "output_type": "stream",
     "text": [
      "MRR@10 mean: 0.002 ± 0.04\n"
     ]
    },
    {
     "name": "stderr",
     "output_type": "stream",
     "text": [
      "Calculating R-precision: 100%|██████████| 499/499 [00:17<00:00, 29.15it/s]\n"
     ]
    },
    {
     "name": "stdout",
     "output_type": "stream",
     "text": [
      "R precision mean: 0.0024 ± 0.04\n"
     ]
    },
    {
     "name": "stderr",
     "output_type": "stream",
     "text": [
      "Calculating Macro-F1@X: 100%|██████████| 499/499 [00:18<00:00, 27.70it/s]\n"
     ]
    },
    {
     "name": "stdout",
     "output_type": "stream",
     "text": [
      "Macro F1@X: 0.012 ± 0.09\n",
      "--------------------------------------------------northeast--------------------------------------------------\n",
      "Global variables initialized in 0.06 seconds.\n"
     ]
    },
    {
     "name": "stderr",
     "output_type": "stream",
     "text": [
      "Calculating MRR@10: 100%|██████████| 574/574 [00:19<00:00, 29.32it/s]\n"
     ]
    },
    {
     "name": "stdout",
     "output_type": "stream",
     "text": [
      "MRR@10 mean: 0.0035 ± 0.06\n"
     ]
    },
    {
     "name": "stderr",
     "output_type": "stream",
     "text": [
      "Calculating R-precision: 100%|██████████| 574/574 [00:19<00:00, 29.11it/s]\n"
     ]
    },
    {
     "name": "stdout",
     "output_type": "stream",
     "text": [
      "R precision mean: 0.002 ± 0.03\n"
     ]
    },
    {
     "name": "stderr",
     "output_type": "stream",
     "text": [
      "Calculating Macro-F1@X: 100%|██████████| 574/574 [00:19<00:00, 28.90it/s]\n"
     ]
    },
    {
     "name": "stdout",
     "output_type": "stream",
     "text": [
      "Macro F1@X: 0.0063 ± 0.06\n"
     ]
    }
   ],
   "source": [
    "mean, std = 0, 0\n",
    "\n",
    "\n",
    "for city in [\"south\", \"midwest\", \"west\", \"northeast\"]:\n",
    "    print(\"-\" * 50 + city + \"-\" * 50)\n",
    "\n",
    "    text_train_embeddings, text_train_labels, text_test_embeddings, text_test_labels = load_embeddings_for_clipstylemodels(\"BLIP2\", city, mode=\"text\")\n",
    "    image_train_embeddings, image_train_labels, image_test_embeddings, image_test_labels = load_embeddings_for_clipstylemodels(\"BLIP2\", city, mode=\"image\")\n",
    "\n",
    "    train_embeddings = torch.cat((text_train_embeddings, text_test_embeddings), 0)\n",
    "    train_labels = torch.cat((text_train_labels, text_test_labels), 0)\n",
    "\n",
    "    test_embeddings = torch.cat((image_train_embeddings, image_test_embeddings), 0)\n",
    "    test_labels = torch.cat((image_train_labels, image_test_labels), 0)\n",
    "\n",
    "    initialize_globals(train_embeddings, train_labels)\n",
    "\n",
    "    try:\n",
    "        mean_temp, std_temp = generate_mrr_at_1_results(test_embeddings, test_labels, 10)\n",
    "        mean_temp, std_temp = generate_rprecision_results(test_embeddings, test_labels)\n",
    "        # _ = generate_macro_rprecision_results(test_embeddings, test_labels)\n",
    "        mean_temp, std_temp  = generate_macro_f1_at_x_results(test_embeddings, test_labels)\n",
    "        # print(f\"{city}-mean:{round(mean_temp, 4)} ± {round(std_temp, 2)}\\n\")\n",
    "        mean += mean_temp\n",
    "        std += std_temp\n",
    "    except Exception as e:\n",
    "        file.write(f\"Error processing {city}: {e}\\n\")\n",
    "\n",
    "    # Clear cache and free memory\n",
    "    del train_embeddings, train_labels, test_embeddings, test_labels\n",
    "    gc.collect()"
   ]
  },
  {
   "cell_type": "code",
   "execution_count": 106,
   "id": "64a93ce2-ea1e-46e2-8018-36a730a62d14",
   "metadata": {
    "tags": []
   },
   "outputs": [
    {
     "name": "stdout",
     "output_type": "stream",
     "text": [
      "--------------------------------------------------south--------------------------------------------------\n"
     ]
    },
    {
     "ename": "FileNotFoundError",
     "evalue": "[Errno 2] No such file or directory: '/workspace/persistent/HTClipper/models/pickled/embeddings/grouped-and-masked/trained_declutr_vit/CE+SupCon/south_labels_train.pt'",
     "output_type": "error",
     "traceback": [
      "\u001b[0;31m---------------------------------------------------------------------------\u001b[0m",
      "\u001b[0;31mFileNotFoundError\u001b[0m                         Traceback (most recent call last)",
      "Cell \u001b[0;32mIn[106], line 7\u001b[0m\n\u001b[1;32m      4\u001b[0m \u001b[38;5;28;01mfor\u001b[39;00m city \u001b[38;5;129;01min\u001b[39;00m [\u001b[38;5;124m\"\u001b[39m\u001b[38;5;124msouth\u001b[39m\u001b[38;5;124m\"\u001b[39m, \u001b[38;5;124m\"\u001b[39m\u001b[38;5;124mmidwest\u001b[39m\u001b[38;5;124m\"\u001b[39m, \u001b[38;5;124m\"\u001b[39m\u001b[38;5;124mwest\u001b[39m\u001b[38;5;124m\"\u001b[39m, \u001b[38;5;124m\"\u001b[39m\u001b[38;5;124mnortheast\u001b[39m\u001b[38;5;124m\"\u001b[39m]:\n\u001b[1;32m      5\u001b[0m     \u001b[38;5;28mprint\u001b[39m(\u001b[38;5;124m\"\u001b[39m\u001b[38;5;124m-\u001b[39m\u001b[38;5;124m\"\u001b[39m \u001b[38;5;241m*\u001b[39m \u001b[38;5;241m50\u001b[39m \u001b[38;5;241m+\u001b[39m city \u001b[38;5;241m+\u001b[39m \u001b[38;5;124m\"\u001b[39m\u001b[38;5;124m-\u001b[39m\u001b[38;5;124m\"\u001b[39m \u001b[38;5;241m*\u001b[39m \u001b[38;5;241m50\u001b[39m)\n\u001b[0;32m----> 7\u001b[0m     text_train_embeddings, text_train_labels, text_test_embeddings, text_test_labels \u001b[38;5;241m=\u001b[39m \u001b[43mload_embeddings\u001b[49m\u001b[43m(\u001b[49m\u001b[38;5;124;43m\"\u001b[39;49m\u001b[38;5;124;43mCE+SupCon\u001b[39;49m\u001b[38;5;124;43m\"\u001b[39;49m\u001b[43m,\u001b[49m\u001b[43m \u001b[49m\u001b[43mcity\u001b[49m\u001b[43m,\u001b[49m\u001b[43m \u001b[49m\u001b[43mmode\u001b[49m\u001b[38;5;241;43m=\u001b[39;49m\u001b[38;5;124;43m\"\u001b[39;49m\u001b[38;5;124;43mtext\u001b[39;49m\u001b[38;5;124;43m\"\u001b[39;49m\u001b[43m)\u001b[49m\n\u001b[1;32m      8\u001b[0m     image_train_embeddings, image_train_labels, image_test_embeddings, image_test_labels \u001b[38;5;241m=\u001b[39m load_embeddings(\u001b[38;5;124m\"\u001b[39m\u001b[38;5;124mCE+SupCon\u001b[39m\u001b[38;5;124m\"\u001b[39m, city, mode\u001b[38;5;241m=\u001b[39m\u001b[38;5;124m\"\u001b[39m\u001b[38;5;124mimage\u001b[39m\u001b[38;5;124m\"\u001b[39m)\n\u001b[1;32m     10\u001b[0m     train_embeddings \u001b[38;5;241m=\u001b[39m torch\u001b[38;5;241m.\u001b[39mcat((text_train_embeddings, text_test_embeddings), \u001b[38;5;241m0\u001b[39m)\n",
      "Cell \u001b[0;32mIn[105], line 31\u001b[0m, in \u001b[0;36mload_embeddings\u001b[0;34m(model_name, city, mode)\u001b[0m\n\u001b[1;32m     29\u001b[0m \u001b[38;5;66;03m# Load embeddings and labels\u001b[39;00m\n\u001b[1;32m     30\u001b[0m train_emb \u001b[38;5;241m=\u001b[39m torch\u001b[38;5;241m.\u001b[39mload(os\u001b[38;5;241m.\u001b[39mpath\u001b[38;5;241m.\u001b[39mjoin(emb_dir, filenames[\u001b[38;5;124m\"\u001b[39m\u001b[38;5;124mtrain_emb\u001b[39m\u001b[38;5;124m\"\u001b[39m]), map_location\u001b[38;5;241m=\u001b[39mtorch\u001b[38;5;241m.\u001b[39mdevice(\u001b[38;5;124m'\u001b[39m\u001b[38;5;124mcpu\u001b[39m\u001b[38;5;124m'\u001b[39m))\n\u001b[0;32m---> 31\u001b[0m train_labels \u001b[38;5;241m=\u001b[39m \u001b[43mtorch\u001b[49m\u001b[38;5;241;43m.\u001b[39;49m\u001b[43mload\u001b[49m\u001b[43m(\u001b[49m\u001b[43mos\u001b[49m\u001b[38;5;241;43m.\u001b[39;49m\u001b[43mpath\u001b[49m\u001b[38;5;241;43m.\u001b[39;49m\u001b[43mjoin\u001b[49m\u001b[43m(\u001b[49m\u001b[43memb_dir\u001b[49m\u001b[43m,\u001b[49m\u001b[43m \u001b[49m\u001b[43mfilenames\u001b[49m\u001b[43m[\u001b[49m\u001b[38;5;124;43m\"\u001b[39;49m\u001b[38;5;124;43mtrain_labels\u001b[39;49m\u001b[38;5;124;43m\"\u001b[39;49m\u001b[43m]\u001b[49m\u001b[43m)\u001b[49m\u001b[43m,\u001b[49m\u001b[43m \u001b[49m\u001b[43mmap_location\u001b[49m\u001b[38;5;241;43m=\u001b[39;49m\u001b[43mtorch\u001b[49m\u001b[38;5;241;43m.\u001b[39;49m\u001b[43mdevice\u001b[49m\u001b[43m(\u001b[49m\u001b[38;5;124;43m'\u001b[39;49m\u001b[38;5;124;43mcpu\u001b[39;49m\u001b[38;5;124;43m'\u001b[39;49m\u001b[43m)\u001b[49m\u001b[43m)\u001b[49m\n\u001b[1;32m     32\u001b[0m test_emb \u001b[38;5;241m=\u001b[39m torch\u001b[38;5;241m.\u001b[39mload(os\u001b[38;5;241m.\u001b[39mpath\u001b[38;5;241m.\u001b[39mjoin(emb_dir, filenames[\u001b[38;5;124m\"\u001b[39m\u001b[38;5;124mtest_emb\u001b[39m\u001b[38;5;124m\"\u001b[39m]), map_location\u001b[38;5;241m=\u001b[39mtorch\u001b[38;5;241m.\u001b[39mdevice(\u001b[38;5;124m'\u001b[39m\u001b[38;5;124mcpu\u001b[39m\u001b[38;5;124m'\u001b[39m))\n\u001b[1;32m     33\u001b[0m test_labels \u001b[38;5;241m=\u001b[39m torch\u001b[38;5;241m.\u001b[39mload(os\u001b[38;5;241m.\u001b[39mpath\u001b[38;5;241m.\u001b[39mjoin(emb_dir, filenames[\u001b[38;5;124m\"\u001b[39m\u001b[38;5;124mtest_labels\u001b[39m\u001b[38;5;124m\"\u001b[39m]), map_location\u001b[38;5;241m=\u001b[39mtorch\u001b[38;5;241m.\u001b[39mdevice(\u001b[38;5;124m'\u001b[39m\u001b[38;5;124mcpu\u001b[39m\u001b[38;5;124m'\u001b[39m))\n",
      "File \u001b[0;32m~/miniconda3/envs/MHT/lib/python3.10/site-packages/torch/serialization.py:1065\u001b[0m, in \u001b[0;36mload\u001b[0;34m(f, map_location, pickle_module, weights_only, mmap, **pickle_load_args)\u001b[0m\n\u001b[1;32m   1062\u001b[0m \u001b[38;5;28;01mif\u001b[39;00m \u001b[38;5;124m'\u001b[39m\u001b[38;5;124mencoding\u001b[39m\u001b[38;5;124m'\u001b[39m \u001b[38;5;129;01mnot\u001b[39;00m \u001b[38;5;129;01min\u001b[39;00m pickle_load_args\u001b[38;5;241m.\u001b[39mkeys():\n\u001b[1;32m   1063\u001b[0m     pickle_load_args[\u001b[38;5;124m'\u001b[39m\u001b[38;5;124mencoding\u001b[39m\u001b[38;5;124m'\u001b[39m] \u001b[38;5;241m=\u001b[39m \u001b[38;5;124m'\u001b[39m\u001b[38;5;124mutf-8\u001b[39m\u001b[38;5;124m'\u001b[39m\n\u001b[0;32m-> 1065\u001b[0m \u001b[38;5;28;01mwith\u001b[39;00m \u001b[43m_open_file_like\u001b[49m\u001b[43m(\u001b[49m\u001b[43mf\u001b[49m\u001b[43m,\u001b[49m\u001b[43m \u001b[49m\u001b[38;5;124;43m'\u001b[39;49m\u001b[38;5;124;43mrb\u001b[39;49m\u001b[38;5;124;43m'\u001b[39;49m\u001b[43m)\u001b[49m \u001b[38;5;28;01mas\u001b[39;00m opened_file:\n\u001b[1;32m   1066\u001b[0m     \u001b[38;5;28;01mif\u001b[39;00m _is_zipfile(opened_file):\n\u001b[1;32m   1067\u001b[0m         \u001b[38;5;66;03m# The zipfile reader is going to advance the current file position.\u001b[39;00m\n\u001b[1;32m   1068\u001b[0m         \u001b[38;5;66;03m# If we want to actually tail call to torch.jit.load, we need to\u001b[39;00m\n\u001b[1;32m   1069\u001b[0m         \u001b[38;5;66;03m# reset back to the original position.\u001b[39;00m\n\u001b[1;32m   1070\u001b[0m         orig_position \u001b[38;5;241m=\u001b[39m opened_file\u001b[38;5;241m.\u001b[39mtell()\n",
      "File \u001b[0;32m~/miniconda3/envs/MHT/lib/python3.10/site-packages/torch/serialization.py:468\u001b[0m, in \u001b[0;36m_open_file_like\u001b[0;34m(name_or_buffer, mode)\u001b[0m\n\u001b[1;32m    466\u001b[0m \u001b[38;5;28;01mdef\u001b[39;00m \u001b[38;5;21m_open_file_like\u001b[39m(name_or_buffer, mode):\n\u001b[1;32m    467\u001b[0m     \u001b[38;5;28;01mif\u001b[39;00m _is_path(name_or_buffer):\n\u001b[0;32m--> 468\u001b[0m         \u001b[38;5;28;01mreturn\u001b[39;00m \u001b[43m_open_file\u001b[49m\u001b[43m(\u001b[49m\u001b[43mname_or_buffer\u001b[49m\u001b[43m,\u001b[49m\u001b[43m \u001b[49m\u001b[43mmode\u001b[49m\u001b[43m)\u001b[49m\n\u001b[1;32m    469\u001b[0m     \u001b[38;5;28;01melse\u001b[39;00m:\n\u001b[1;32m    470\u001b[0m         \u001b[38;5;28;01mif\u001b[39;00m \u001b[38;5;124m'\u001b[39m\u001b[38;5;124mw\u001b[39m\u001b[38;5;124m'\u001b[39m \u001b[38;5;129;01min\u001b[39;00m mode:\n",
      "File \u001b[0;32m~/miniconda3/envs/MHT/lib/python3.10/site-packages/torch/serialization.py:449\u001b[0m, in \u001b[0;36m_open_file.__init__\u001b[0;34m(self, name, mode)\u001b[0m\n\u001b[1;32m    448\u001b[0m \u001b[38;5;28;01mdef\u001b[39;00m \u001b[38;5;21m__init__\u001b[39m(\u001b[38;5;28mself\u001b[39m, name, mode):\n\u001b[0;32m--> 449\u001b[0m     \u001b[38;5;28msuper\u001b[39m()\u001b[38;5;241m.\u001b[39m\u001b[38;5;21m__init__\u001b[39m(\u001b[38;5;28;43mopen\u001b[39;49m\u001b[43m(\u001b[49m\u001b[43mname\u001b[49m\u001b[43m,\u001b[49m\u001b[43m \u001b[49m\u001b[43mmode\u001b[49m\u001b[43m)\u001b[49m)\n",
      "\u001b[0;31mFileNotFoundError\u001b[0m: [Errno 2] No such file or directory: '/workspace/persistent/HTClipper/models/pickled/embeddings/grouped-and-masked/trained_declutr_vit/CE+SupCon/south_labels_train.pt'"
     ]
    }
   ],
   "source": [
    "mean, std = 0, 0\n",
    "\n",
    "\n",
    "for city in [\"south\", \"midwest\", \"west\", \"northeast\"]:\n",
    "    print(\"-\" * 50 + city + \"-\" * 50)\n",
    "\n",
    "    text_train_embeddings, text_train_labels, text_test_embeddings, text_test_labels = load_embeddings(\"CE+SupCon\", city, mode=\"text\")\n",
    "    image_train_embeddings, image_train_labels, image_test_embeddings, image_test_labels = load_embeddings(\"CE+SupCon\", city, mode=\"image\")\n",
    "\n",
    "    train_embeddings = torch.cat((text_train_embeddings, text_test_embeddings), 0)\n",
    "    train_labels = torch.cat((text_train_labels, text_test_labels), 0)\n",
    "\n",
    "    test_embeddings = torch.cat((image_train_embeddings, image_test_embeddings), 0)\n",
    "    test_labels = torch.cat((image_train_labels, image_test_labels), 0)\n",
    "\n",
    "    initialize_globals(train_embeddings, train_labels)\n",
    "\n",
    "    try:\n",
    "        mean_temp, std_temp = generate_mrr_at_1_results(test_embeddings, test_labels, 10)\n",
    "        mean_temp, std_temp = generate_rprecision_results(test_embeddings, test_labels)\n",
    "        # _ = generate_macro_rprecision_results(test_embeddings, test_labels)\n",
    "        mean_temp, std_temp  = generate_macro_f1_at_x_results(test_embeddings, test_labels)\n",
    "        # print(f\"{city}-mean:{round(mean_temp, 4)} ± {round(std_temp, 2)}\\n\")\n",
    "        mean += mean_temp\n",
    "        std += std_temp\n",
    "    except Exception as e:\n",
    "        file.write(f\"Error processing {city}: {e}\\n\")\n",
    "\n",
    "    # Clear cache and free memory\n",
    "    del train_embeddings, train_labels, test_embeddings, test_labels\n",
    "    gc.collect()"
   ]
  },
  {
   "cell_type": "code",
   "execution_count": null,
   "id": "b0f12a22-4c2c-47b3-9da2-2120d770e778",
   "metadata": {
    "tags": []
   },
   "outputs": [],
   "source": [
    "mean, std = 0, 0\n",
    "\n",
    "# Open the file in write mode\n",
    "with open(\"CE+SupCon-noAug.txt\", \"w\") as file:\n",
    "    for city in [\"chicago\", \"dallas\", \"houston\", \"detroit\", \"atlanta\", \"sf\", \"ny\"]:\n",
    "        file.write(\"-\" * 50 + \"\\n\")\n",
    "        \n",
    "        text_train_embeddings, text_train_labels, text_test_embeddings, text_test_labels = load_embeddings(\"CE+SupCon-noAug\", city, mode=\"text\")\n",
    "        image_train_embeddings, image_train_labels, image_test_embeddings, image_test_labels = load_embeddings(\"CE+SupCon-noAug\", city, mode=\"image\")\n",
    "        \n",
    "        train_embeddings = torch.cat((text_train_embeddings, text_test_embeddings), 0)\n",
    "        train_labels = torch.cat((text_train_labels, text_test_labels), 0)\n",
    "        \n",
    "        test_embeddings = torch.cat((image_train_embeddings, image_test_embeddings), 0)\n",
    "        test_labels = torch.cat((image_train_labels, image_test_labels), 0)\n",
    "        \n",
    "        initialize_globals(train_embeddings, train_labels)\n",
    "    \n",
    "        try:\n",
    "            # mean_temp, std_temp = generate_mrr_at_1_results(test_embeddings, test_labels, 10)\n",
    "            # mean_temp, std_temp = generate_rprecision_results(test_embeddings, test_labels)\n",
    "            # _ = generate_macro_rprecision_results(test_embeddings, test_labels)\n",
    "            mean_temp, std_temp  = generate_macro_f1_at_x_results(test_embeddings, test_labels)\n",
    "            file.write(f\"{city}-mean:{round(mean_temp, 4)} ± {round(std_temp, 2)}\\n\")\n",
    "            mean += mean_temp\n",
    "            std += std_temp\n",
    "        except Exception as e:\n",
    "            file.write(f\"Error processing {city}: {e}\\n\")\n",
    "    \n",
    "        # Clear cache and free memory\n",
    "        del text_train_embeddings, text_train_labels, text_test_embeddings, text_test_labels\n",
    "        del image_train_embeddings, image_train_labels, image_test_embeddings, image_test_labels\n",
    "        del train_embeddings, train_labels, test_embeddings, test_labels\n",
    "        gc.collect()\n",
    "            \n",
    "    file.write(f\"Average score: {round(mean/7, 4)} ± {round(std/7, 2)}\\n\")"
   ]
  },
  {
   "cell_type": "code",
   "execution_count": null,
   "id": "370bc0f0-5e3d-4b02-a95c-fd12b64ba0c8",
   "metadata": {
    "tags": []
   },
   "outputs": [],
   "source": [
    "mean, std = 0, 0\n",
    "\n",
    "# Open the file in write mode\n",
    "with open(\"CE+SupCon-bs:28-neg:20-gradsteps:1.txt\", \"w\") as file:\n",
    "    for city in [\"chicago\", \"dallas\", \"houston\", \"detroit\", \"atlanta\", \"sf\", \"ny\"]:\n",
    "        file.write(\"-\" * 50 + \"\\n\")\n",
    "        \n",
    "        text_train_embeddings, text_train_labels, text_test_embeddings, text_test_labels = load_embeddings(\"CE+SupCon-bs:28-neg:20-gradsteps:1\", city, mode=\"text\")\n",
    "        image_train_embeddings, image_train_labels, image_test_embeddings, image_test_labels = load_embeddings(\"CE+SupCon-bs:28-neg:20-gradsteps:1\", city, mode=\"image\")\n",
    "        \n",
    "        train_embeddings = torch.cat((text_train_embeddings, text_test_embeddings), 0)\n",
    "        train_labels = torch.cat((text_train_labels, text_test_labels), 0)\n",
    "        \n",
    "        test_embeddings = torch.cat((image_train_embeddings, image_test_embeddings), 0)\n",
    "        test_labels = torch.cat((image_train_labels, image_test_labels), 0)\n",
    "        \n",
    "        initialize_globals(train_embeddings, train_labels)\n",
    "    \n",
    "        try:\n",
    "            # mean_temp, std_temp = generate_mrr_at_1_results(test_embeddings, test_labels, 10)\n",
    "            # mean_temp, std_temp = generate_rprecision_results(test_embeddings, test_labels)\n",
    "            # _ = generate_macro_rprecision_results(test_embeddings, test_labels)\n",
    "            mean_temp, std_temp  = generate_macro_f1_at_x_results(test_embeddings, test_labels)\n",
    "            file.write(f\"{city}-mean:{round(mean_temp, 4)} ± {round(std_temp, 2)}\\n\")\n",
    "            mean += mean_temp\n",
    "            std += std_temp\n",
    "        except Exception as e:\n",
    "            file.write(f\"Error processing {city}: {e}\\n\")\n",
    "    \n",
    "        # Clear cache and free memory\n",
    "        del text_train_embeddings, text_train_labels, text_test_embeddings, text_test_labels\n",
    "        del image_train_embeddings, image_train_labels, image_test_embeddings, image_test_labels\n",
    "        del train_embeddings, train_labels, test_embeddings, test_labels\n",
    "        gc.collect()\n",
    "            \n",
    "    file.write(f\"Average score: {round(mean/7, 4)} ± {round(std/7, 2)}\\n\")"
   ]
  },
  {
   "cell_type": "code",
   "execution_count": null,
   "id": "ec3d862d-c81e-44d6-9ea9-6974b3bf9c95",
   "metadata": {
    "tags": []
   },
   "outputs": [],
   "source": [
    "mean, std = 0, 0\n",
    "\n",
    "# Open the file in write mode\n",
    "with open(\"CE+SupCon:2.txt\", \"w\") as file:\n",
    "    for city in [\"chicago\", \"dallas\", \"houston\", \"detroit\", \"atlanta\", \"sf\", \"ny\"]:\n",
    "        file.write(\"-\" * 50 + \"\\n\")\n",
    "        \n",
    "        text_train_embeddings, text_train_labels, text_test_embeddings, text_test_labels = load_embeddings(\"CE+SupCon:2\", city, mode=\"text\")\n",
    "        image_train_embeddings, image_train_labels, image_test_embeddings, image_test_labels = load_embeddings(\"CE+SupCon:2\", city, mode=\"image\")\n",
    "        \n",
    "        train_embeddings = torch.cat((text_train_embeddings, text_test_embeddings), 0)\n",
    "        train_labels = torch.cat((text_train_labels, text_test_labels), 0)\n",
    "        \n",
    "        test_embeddings = torch.cat((image_train_embeddings, image_test_embeddings), 0)\n",
    "        test_labels = torch.cat((image_train_labels, image_test_labels), 0)\n",
    "        \n",
    "        initialize_globals(train_embeddings, train_labels)\n",
    "    \n",
    "        try:\n",
    "            # mean_temp, std_temp = generate_mrr_at_1_results(test_embeddings, test_labels, 10)\n",
    "            # mean_temp, std_temp = generate_rprecision_results(test_embeddings, test_labels)\n",
    "            # _ = generate_macro_rprecision_results(test_embeddings, test_labels)\n",
    "            mean_temp, std_temp  = generate_macro_f1_at_x_results(test_embeddings, test_labels)\n",
    "            file.write(f\"{city}-mean:{round(mean_temp, 4)} ± {round(std_temp, 2)}\\n\")\n",
    "            mean += mean_temp\n",
    "            std += std_temp\n",
    "        except Exception as e:\n",
    "            file.write(f\"Error processing {city}: {e}\\n\")\n",
    "    \n",
    "        # Clear cache and free memory\n",
    "        del text_train_embeddings, text_train_labels, text_test_embeddings, text_test_labels\n",
    "        del image_train_embeddings, image_train_labels, image_test_embeddings, image_test_labels\n",
    "        del train_embeddings, train_labels, test_embeddings, test_labels\n",
    "        gc.collect()\n",
    "            \n",
    "    file.write(f\"Average score: {round(mean/7, 4)} ± {round(std/7, 2)}\\n\")"
   ]
  },
  {
   "cell_type": "code",
   "execution_count": null,
   "id": "d7e10d6f-21ab-482c-bf19-794aad155c84",
   "metadata": {},
   "outputs": [],
   "source": [
    "mean, std = 0, 0\n",
    "\n",
    "# Open the file in write mode\n",
    "with open(\"CE-concat.txt\", \"w\") as file:\n",
    "    for city in [\"chicago\", \"dallas\", \"houston\", \"detroit\", \"atlanta\", \"sf\", \"ny\"]:\n",
    "        file.write(\"-\" * 50 + \"\\n\")\n",
    "        \n",
    "        text_train_embeddings, text_train_labels, text_test_embeddings, text_test_labels = load_embeddings(\"CE-concat\", city, mode=\"text\")\n",
    "        image_train_embeddings, image_train_labels, image_test_embeddings, image_test_labels = load_embeddings(\"CE-concat\", city, mode=\"image\")\n",
    "        \n",
    "        train_embeddings = torch.cat((text_train_embeddings, text_test_embeddings), 0)\n",
    "        train_labels = torch.cat((text_train_labels, text_test_labels), 0)\n",
    "        \n",
    "        test_embeddings = torch.cat((image_train_embeddings, image_test_embeddings), 0)\n",
    "        test_labels = torch.cat((image_train_labels, image_test_labels), 0)\n",
    "        \n",
    "        initialize_globals(train_embeddings, train_labels)\n",
    "    \n",
    "        try:\n",
    "            # mean_temp, std_temp = generate_mrr_at_1_results(test_embeddings, test_labels, 10)\n",
    "            # mean_temp, std_temp = generate_rprecision_results(test_embeddings, test_labels)\n",
    "            # _ = generate_macro_rprecision_results(test_embeddings, test_labels)\n",
    "            mean_temp, std_temp  = generate_macro_f1_at_x_results(test_embeddings, test_labels)\n",
    "            file.write(f\"{city}-mean:{round(mean_temp, 4)} ± {round(std_temp, 2)}\\n\")\n",
    "            mean += mean_temp\n",
    "            std += std_temp\n",
    "        except Exception as e:\n",
    "            file.write(f\"Error processing {city}: {e}\\n\")\n",
    "    \n",
    "        # Clear cache and free memory\n",
    "        del text_train_embeddings, text_train_labels, text_test_embeddings, text_test_labels\n",
    "        del image_train_embeddings, image_train_labels, image_test_embeddings, image_test_labels\n",
    "        del train_embeddings, train_labels, test_embeddings, test_labels\n",
    "        gc.collect()\n",
    "            \n",
    "    file.write(f\"Average score: {round(mean/7, 4)} ± {round(std/7, 2)}\\n\")"
   ]
  },
  {
   "cell_type": "code",
   "execution_count": null,
   "id": "8dc0fca1-73c4-498b-b5a3-b5990d07e579",
   "metadata": {},
   "outputs": [],
   "source": []
  },
  {
   "cell_type": "code",
   "execution_count": null,
   "id": "7b599366-22f0-4deb-9098-b0e953c94e4f",
   "metadata": {},
   "outputs": [],
   "source": []
  },
  {
   "cell_type": "code",
   "execution_count": null,
   "id": "0b72808f-2d5c-4146-a825-e1fe00495e96",
   "metadata": {},
   "outputs": [],
   "source": []
  },
  {
   "cell_type": "code",
   "execution_count": null,
   "id": "d84e8855-d962-495c-add2-b7b54fa68830",
   "metadata": {},
   "outputs": [],
   "source": []
  },
  {
   "cell_type": "code",
   "execution_count": null,
   "id": "b72623b5-95c2-4306-a0dc-9a19e1d26d86",
   "metadata": {},
   "outputs": [],
   "source": []
  },
  {
   "cell_type": "code",
   "execution_count": 70,
   "id": "82810813-2d4e-4078-a906-f6bdb59fd612",
   "metadata": {
    "tags": []
   },
   "outputs": [
    {
     "name": "stdout",
     "output_type": "stream",
     "text": [
      "--------------------------------------------------south--------------------------------------------------\n",
      "Global variables initialized in 0.19 seconds.\n"
     ]
    },
    {
     "name": "stderr",
     "output_type": "stream",
     "text": [
      "Calculating MRR@10: 100%|██████████| 1338/1338 [01:20<00:00, 16.61it/s]\n"
     ]
    },
    {
     "name": "stdout",
     "output_type": "stream",
     "text": [
      "MRR@10 mean: 0.6574 ± 0.35\n"
     ]
    },
    {
     "name": "stderr",
     "output_type": "stream",
     "text": [
      "Calculating R-precision: 100%|██████████| 1338/1338 [01:21<00:00, 16.41it/s]\n"
     ]
    },
    {
     "name": "stdout",
     "output_type": "stream",
     "text": [
      "R precision mean: 0.1797 ± 0.16\n"
     ]
    },
    {
     "name": "stderr",
     "output_type": "stream",
     "text": [
      "Calculating Macro-F1@X: 100%|██████████| 1338/1338 [01:22<00:00, 16.23it/s]\n"
     ]
    },
    {
     "name": "stdout",
     "output_type": "stream",
     "text": [
      "Macro F1@X: 0.2519 ± 0.23\n",
      "Error processing south: name 'file' is not defined\n",
      "\n",
      "--------------------------------------------------midwest--------------------------------------------------\n",
      "Global variables initialized in 0.10 seconds.\n"
     ]
    },
    {
     "name": "stderr",
     "output_type": "stream",
     "text": [
      "Calculating MRR@10: 100%|██████████| 914/914 [00:30<00:00, 30.42it/s]\n"
     ]
    },
    {
     "name": "stdout",
     "output_type": "stream",
     "text": [
      "MRR@10 mean: 0.6822 ± 0.36\n"
     ]
    },
    {
     "name": "stderr",
     "output_type": "stream",
     "text": [
      "Calculating R-precision: 100%|██████████| 914/914 [00:30<00:00, 30.44it/s]\n"
     ]
    },
    {
     "name": "stdout",
     "output_type": "stream",
     "text": [
      "R precision mean: 0.2373 ± 0.2\n"
     ]
    },
    {
     "name": "stderr",
     "output_type": "stream",
     "text": [
      "Calculating Macro-F1@X: 100%|██████████| 914/914 [00:30<00:00, 30.36it/s]\n"
     ]
    },
    {
     "name": "stdout",
     "output_type": "stream",
     "text": [
      "Macro F1@X: 0.3254 ± 0.26\n",
      "Error processing midwest: name 'file' is not defined\n",
      "\n",
      "--------------------------------------------------west--------------------------------------------------\n",
      "Global variables initialized in 0.03 seconds.\n"
     ]
    },
    {
     "name": "stderr",
     "output_type": "stream",
     "text": [
      "Calculating MRR@10: 100%|██████████| 452/452 [00:06<00:00, 73.08it/s]\n"
     ]
    },
    {
     "name": "stdout",
     "output_type": "stream",
     "text": [
      "MRR@10 mean: 0.7396 ± 0.36\n"
     ]
    },
    {
     "name": "stderr",
     "output_type": "stream",
     "text": [
      "Calculating R-precision: 100%|██████████| 452/452 [00:06<00:00, 72.72it/s]\n"
     ]
    },
    {
     "name": "stdout",
     "output_type": "stream",
     "text": [
      "R precision mean: 0.333 ± 0.23\n"
     ]
    },
    {
     "name": "stderr",
     "output_type": "stream",
     "text": [
      "Calculating Macro-F1@X: 100%|██████████| 452/452 [00:06<00:00, 71.67it/s]\n"
     ]
    },
    {
     "name": "stdout",
     "output_type": "stream",
     "text": [
      "Macro F1@X: 0.4687 ± 0.27\n",
      "Error processing west: name 'file' is not defined\n",
      "\n",
      "--------------------------------------------------northeast--------------------------------------------------\n",
      "Global variables initialized in 0.02 seconds.\n"
     ]
    },
    {
     "name": "stderr",
     "output_type": "stream",
     "text": [
      "Calculating MRR@10: 100%|██████████| 514/514 [00:07<00:00, 72.21it/s]\n"
     ]
    },
    {
     "name": "stdout",
     "output_type": "stream",
     "text": [
      "MRR@10 mean: 0.675 ± 0.38\n"
     ]
    },
    {
     "name": "stderr",
     "output_type": "stream",
     "text": [
      "Calculating R-precision: 100%|██████████| 514/514 [00:07<00:00, 72.45it/s]\n"
     ]
    },
    {
     "name": "stdout",
     "output_type": "stream",
     "text": [
      "R precision mean: 0.3076 ± 0.24\n"
     ]
    },
    {
     "name": "stderr",
     "output_type": "stream",
     "text": [
      "Calculating Macro-F1@X: 100%|██████████| 514/514 [00:07<00:00, 71.52it/s]\n"
     ]
    },
    {
     "name": "stdout",
     "output_type": "stream",
     "text": [
      "Macro F1@X: 0.3493 ± 0.26\n",
      "Error processing northeast: name 'file' is not defined\n",
      "\n",
      "Average score: 0.0 ± 0.0\n",
      "\n"
     ]
    }
   ],
   "source": [
    "mean, std = 0, 0\n",
    "\n",
    "for city in [\"south\", \"midwest\", \"west\", \"northeast\"]:\n",
    "    print(\"-\" * 50 + city + \"-\" * 50)\n",
    "    text_train_embeddings, text_train_labels, text_test_embeddings, text_test_labels = load_embeddings_for_clipstylemodels(\"CLIP\", city, mode=\"multimodal\")\n",
    "    # image_train_embeddings, image_train_labels, image_test_embeddings, image_test_labels = load_embeddings_for_clipstylemodels(\"CLIP\", city, mode=\"image\")\n",
    "    \n",
    "    # image_train_embeddings, image_train_labels, image_test_embeddings, image_test_labels = load_embeddings(\"CE+SupCon+ITM\", city, mode=\"image\")\n",
    "    text_train_embeddings, text_train_labels, text_test_embeddings, text_test_labels = remove_duplicate_embeddings(text_train_embeddings, text_train_labels, text_test_embeddings, text_test_labels)\n",
    "    text_train_embeddings, text_train_labels, text_test_embeddings, text_test_labels = find_members(text_train_embeddings, text_train_labels, text_test_embeddings, text_test_labels)\n",
    "    \n",
    "    initialize_globals(text_train_embeddings, text_train_labels)\n",
    "\n",
    "    try:\n",
    "        mean_temp, std_temp = generate_mrr_at_1_results(text_test_embeddings, text_test_labels, 10)\n",
    "        mean_temp, std_temp = generate_rprecision_results(text_test_embeddings, text_test_labels)\n",
    "        # _ = generate_macro_rprecision_results(test_embeddings, test_labels)\n",
    "        mean_temp, std_temp  = generate_macro_f1_at_x_results(text_test_embeddings, text_test_labels)\n",
    "        file.write(f\"{city}-mean:{round(mean_temp, 4)} ± {round(std_temp, 2)}\\n\")\n",
    "        mean += mean_temp\n",
    "        std += std_temp\n",
    "    except Exception as e:\n",
    "        print(f\"Error processing {city}: {e}\\n\")\n",
    "\n",
    "    # Clear cache and free memory\n",
    "    del text_train_embeddings, text_train_labels, text_test_embeddings, text_test_labels\n",
    "    gc.collect()\n",
    "            \n",
    "print(f\"Average score: {round(mean/7, 4)} ± {round(std/7, 2)}\\n\")"
   ]
  },
  {
   "cell_type": "markdown",
   "id": "d367f9bc-7070-4fd3-ab7c-a432972c4802",
   "metadata": {},
   "source": [
    "# Error Analysis"
   ]
  },
  {
   "cell_type": "code",
   "execution_count": 25,
   "id": "44165b95-ac63-4aaf-80c2-10a70348f7f4",
   "metadata": {
    "tags": []
   },
   "outputs": [],
   "source": [
    "def load_embedddings_for_e2e(model_name, city, mode=\"text\"):\n",
    "    assert mode in [\"text\", \"image\", \"multimodal\"]\n",
    "    \n",
    "    # Define directory mapping for models\n",
    "    model_dirs = {\n",
    "        \"declutr-vit\": \"/workspace/persistent/HTClipper/models/pickled/embeddings/grouped-and-masked/trained_declutr_vit/CE+SupCon\",\n",
    "        \"CE-SupCon-mean\": \"/workspace/persistent/HTClipper/models/pickled/embeddings/grouped-and-masked/multimodal_baselines/E2E/CE-SupCon-mean-0.5\",\n",
    "        \"declutr-vit-face\": \"/workspace/persistent/HTClipper/models/pickled/embeddings/grouped-and-masked/error_analysis/multimodal_baseline/trained_declutr-vit/face\",\n",
    "        \"declutr-vit-noface\": \"/workspace/persistent/HTClipper/models/pickled/embeddings/grouped-and-masked/error_analysis/multimodal_baseline/trained_declutr-vit/noface\",\n",
    "    }\n",
    "    \n",
    "    # Check if model_name is valid\n",
    "    if model_name not in model_dirs:\n",
    "        raise ValueError(f\"Model '{model_name}' not implemented\")\n",
    "        \n",
    "    emb_dir = model_dirs[model_name]\n",
    "    \n",
    "    if model_name == \"declutr-vit\":\n",
    "        filenames = {\n",
    "            \"train_emb\": f\"{city}_{mode}data_train.pt\",\n",
    "            \"train_labels\": f\"{city}_labels_{mode}_train.pt\",\n",
    "            \"test_emb\": f\"{city}_{mode}data_test.pt\",\n",
    "            \"test_labels\": f\"{city}_labels_{mode}_test.pt\",\n",
    "        }\n",
    "    else:\n",
    "        filenames = {\n",
    "            \"train_emb\": f\"{city}_{mode}data_train.pt\",\n",
    "            \"train_labels\": f\"{city}_labels_train.pt\",\n",
    "            \"test_emb\": f\"{city}_{mode}data_test.pt\",\n",
    "            \"test_labels\": f\"{city}_labels_test.pt\",\n",
    "        }\n",
    "    \n",
    "    # Load embeddings and labels\n",
    "    train_emb = torch.load(os.path.join(emb_dir, filenames[\"train_emb\"]), map_location=torch.device('cpu'))\n",
    "    train_labels = torch.load(os.path.join(emb_dir, filenames[\"train_labels\"]), map_location=torch.device('cpu'))\n",
    "    test_emb = torch.load(os.path.join(emb_dir, filenames[\"test_emb\"]), map_location=torch.device('cpu'))\n",
    "    test_labels = torch.load(os.path.join(emb_dir, filenames[\"test_labels\"]), map_location=torch.device('cpu'))\n",
    "    \n",
    "    return train_emb, train_labels, test_emb, test_labels"
   ]
  },
  {
   "cell_type": "code",
   "execution_count": 26,
   "id": "e407ed62-e5ec-4520-85d3-ca78d56980f9",
   "metadata": {
    "tags": []
   },
   "outputs": [],
   "source": [
    "def generate_rprecision_results(test_embeddings, test_labels):\n",
    "    unique_vendors = torch.unique(test_labels)\n",
    "    train_labels_np = train_labels_tensor.numpy()\n",
    "    vendor_dict = {int(vendor_id): np.sum(train_labels_np == int(vendor_id)) for vendor_id in unique_vendors}\n",
    "    r_precision_score = {}\n",
    "\n",
    "    for vendor_id in tqdm(unique_vendors, total=len(unique_vendors), desc=\"Calculating R-precision\"):\n",
    "        vendor_id = int(vendor_id)\n",
    "        test_adsidx = (test_labels == vendor_id).nonzero(as_tuple=True)[0]\n",
    "\n",
    "        if len(test_adsidx) == 0 or vendor_dict[vendor_id] == 0:\n",
    "            continue\n",
    "\n",
    "        test_vendor_embeddings = test_embeddings[test_adsidx]\n",
    "        if test_vendor_embeddings.ndim == 1:\n",
    "            test_vendor_embeddings = test_vendor_embeddings.unsqueeze(0)\n",
    "        test_vendor_embeddings_np = test_vendor_embeddings.numpy()\n",
    "\n",
    "        k = vendor_dict[vendor_id]\n",
    "        if k > train_embeddings_np.shape[0]:\n",
    "            k = train_embeddings_np.shape[0]\n",
    "\n",
    "        _, I = index.search(test_vendor_embeddings_np, int(k))\n",
    "\n",
    "        predicted_label_list = [torch.tensor(I[index]) for index in range(len(test_adsidx))]\n",
    "        true_label_list = [torch.where(train_labels_tensor == vendor_id)[0] for _ in range(len(test_adsidx))]\n",
    "\n",
    "        r_precision_score[vendor_id] = round(np.mean(recall_at_k(true_label_list, predicted_label_list, k)), 4)\n",
    "    \n",
    "    return r_precision_score\n",
    "\n",
    "def generate_mrr_at_1_results(test_embeddings, test_labels, k):\n",
    "    unique_labels = torch.unique(test_labels)\n",
    "    mrr_score_dict = {}\n",
    "\n",
    "    for label in tqdm(unique_labels, total=len(unique_labels), desc=f\"Calculating MRR@{k}\"):\n",
    "        label_id = int(label)\n",
    "        test_idx = (test_labels == label_id).nonzero(as_tuple=True)[0]\n",
    "\n",
    "        if len(test_idx) == 0:\n",
    "            continue\n",
    "\n",
    "        test_embeddings_np = test_embeddings[test_idx].numpy()\n",
    "\n",
    "        D, I = index.search(test_embeddings_np, k)\n",
    "\n",
    "        predicted_label_list = [train_labels_tensor[I[index]] for index in range(len(test_idx))]\n",
    "        true_label_list = [train_labels_tensor[torch.where(train_labels_tensor == label_id)[0]] for _ in range(len(test_idx))]\n",
    "\n",
    "        mrr_score = mrr_at_k(true_label_list, predicted_label_list, k_=k)\n",
    "        mrr_score_dict[label_id] = round(mrr_score, 4)\n",
    "\n",
    "    return mrr_score_dict\n",
    "\n",
    "\n",
    "def generate_macro_f1_at_x_results(test_embeddings, test_labels):\n",
    "    unique_vendors = torch.unique(test_labels)\n",
    "    train_labels_np = train_labels_tensor.numpy()\n",
    "    vendor_dict = {int(vendor_id): np.sum(train_labels_np == int(vendor_id)) for vendor_id in unique_vendors}\n",
    "    f1_score_dict = {}\n",
    "\n",
    "    for vendor_id in tqdm(unique_vendors, total=len(unique_vendors), desc=\"Calculating Macro-F1@X\"):\n",
    "        vendor_id = int(vendor_id)\n",
    "        test_adsidx = (test_labels == vendor_id).nonzero(as_tuple=True)[0]\n",
    "\n",
    "        if len(test_adsidx) == 0 or vendor_dict[vendor_id] == 0:\n",
    "            continue\n",
    "\n",
    "        test_vendor_embeddings = test_embeddings[test_adsidx]\n",
    "        if test_vendor_embeddings.ndim == 1:\n",
    "            test_vendor_embeddings = test_vendor_embeddings.unsqueeze(0)\n",
    "        test_vendor_embeddings_np = test_vendor_embeddings.numpy()\n",
    "\n",
    "        k = vendor_dict[vendor_id]\n",
    "        if k > train_embeddings_np.shape[0]:\n",
    "            k = train_embeddings_np.shape[0]\n",
    "\n",
    "        _, I = index.search(test_vendor_embeddings_np, int(k))\n",
    "\n",
    "        predicted_label_list = [torch.tensor(I[index]) for index in range(len(test_adsidx))]\n",
    "        true_label_list = [torch.where(train_labels_tensor == vendor_id)[0] for _ in range(len(test_adsidx))]\n",
    "\n",
    "        f1_score = np.mean(f1_at_k(true_label_list, predicted_label_list, k))\n",
    "        f1_score_dict[vendor_id] = round(f1_score, 4)\n",
    "\n",
    "    return f1_score_dict"
   ]
  },
  {
   "cell_type": "code",
   "execution_count": 27,
   "id": "2a741c67-0cc8-46dd-9cd9-2622e2754c20",
   "metadata": {
    "tags": []
   },
   "outputs": [],
   "source": [
    "# Function to convert data to JSON-serializable format\n",
    "def convert_to_json_serializable(data):\n",
    "    \"\"\"\n",
    "    Recursively convert NumPy and PyTorch objects in dictionaries to Python-native types.\n",
    "    \"\"\"\n",
    "    if isinstance(data, dict):\n",
    "        return {k: convert_to_json_serializable(v) for k, v in data.items()}\n",
    "    elif isinstance(data, (np.ndarray, np.generic)):\n",
    "        return data.tolist()\n",
    "    elif isinstance(data, torch.Tensor):\n",
    "        return data.detach().cpu().numpy().tolist()\n",
    "    elif isinstance(data, set):\n",
    "        return list(data)\n",
    "    return data"
   ]
  },
  {
   "cell_type": "code",
   "execution_count": 28,
   "id": "b8950b94-6f88-4777-acc6-7c22b81e9cda",
   "metadata": {
    "tags": []
   },
   "outputs": [],
   "source": [
    "import json\n",
    "\n",
    "def process_and_save_metrics(model_name, city, mode_):\n",
    "    print(\"-\" * 50 + f\" Model: {model_name}, City: {city}, Mode: {mode_} \" + \"-\" * 50)\n",
    "\n",
    "    try:\n",
    "        # Load embeddings\n",
    "        train_embeddings, train_labels, test_embeddings, test_labels = load_embedddings_for_e2e(model_name, city, mode=mode_)\n",
    "    except Exception as e:\n",
    "        print(f\"Error loading embeddings for {city}, {mode_}: {e}\")\n",
    "        return\n",
    "\n",
    "    # Preprocess embeddings\n",
    "    train_embeddings, train_labels, test_embeddings, test_labels = remove_duplicate_embeddings(train_embeddings, train_labels, test_embeddings, test_labels)\n",
    "    train_embeddings, train_labels, test_embeddings, test_labels = find_members(train_embeddings, train_labels, test_embeddings, test_labels)\n",
    "\n",
    "    # Initialize FAISS globals\n",
    "    initialize_globals(train_embeddings, train_labels)\n",
    "\n",
    "    try:\n",
    "        # Generate metrics\n",
    "        mrr_dict = generate_mrr_at_1_results(test_embeddings, test_labels, 10)\n",
    "        rprecision_dict = generate_rprecision_results(test_embeddings, test_labels)\n",
    "        macro_f1_dict = generate_macro_f1_at_x_results(test_embeddings, test_labels)\n",
    "\n",
    "        # Print the size of the generated dictionaries\n",
    "        print(f\"Generated MRR: {len(mrr_dict)} keys\")\n",
    "        print(f\"Generated R-Precision: {len(rprecision_dict)} keys\")\n",
    "        print(f\"Generated Macro-F1: {len(macro_f1_dict)} keys\")\n",
    "    except Exception as e:\n",
    "        print(f\"Error generating metrics for {city}, {mode_}: {e}\")\n",
    "        return\n",
    "\n",
    "    # Check if dictionaries are valid before saving\n",
    "    if not mrr_dict:\n",
    "        print(f\"Skipping saving MRR for {model_name}_{city}_{mode_}: Empty or None.\")\n",
    "    else:\n",
    "        mrr_dict = convert_to_json_serializable(mrr_dict)\n",
    "        with open(f'../error_analysis/{model_name}_{city}_{mode_}_mrr.json', 'w') as json_file:\n",
    "            json.dump(mrr_dict, json_file, indent=4)\n",
    "\n",
    "    if not rprecision_dict:\n",
    "        print(f\"Skipping saving R-Precision for {model_name}_{city}_{mode_}: Empty or None.\")\n",
    "    else:\n",
    "        rprecision_dict = convert_to_json_serializable(rprecision_dict)\n",
    "        with open(f'../error_analysis/{model_name}_{city}_{mode_}_rprecision.json', 'w') as json_file:\n",
    "            json.dump(rprecision_dict, json_file, indent=4)\n",
    "\n",
    "    if not macro_f1_dict:\n",
    "        print(f\"Skipping saving Macro-F1 for {model_name}_{city}_{mode_}: Empty or None.\")\n",
    "    else:\n",
    "        macro_f1_dict = convert_to_json_serializable(macro_f1_dict)\n",
    "        with open(f'../error_analysis/{model_name}_{city}_{mode_}_macro.json', 'w') as json_file:\n",
    "            json.dump(macro_f1_dict, json_file, indent=4)\n",
    "\n",
    "    # Free memory\n",
    "    del mrr_dict, rprecision_dict, macro_f1_dict\n",
    "    gc.collect()"
   ]
  },
  {
   "cell_type": "code",
   "execution_count": 29,
   "id": "8f46141b-56ef-467b-843c-fcad41d34bcb",
   "metadata": {
    "tags": []
   },
   "outputs": [
    {
     "name": "stdout",
     "output_type": "stream",
     "text": [
      "-------------------------------------------------- Model: CE-SupCon-mean, City: south, Mode: text --------------------------------------------------\n",
      "Global variables initialized in 0.01 seconds.\n"
     ]
    },
    {
     "name": "stderr",
     "output_type": "stream",
     "text": [
      "Calculating MRR@10: 100%|██████████| 1098/1098 [00:10<00:00, 106.92it/s]\n",
      "Calculating R-precision: 100%|██████████| 1098/1098 [00:10<00:00, 108.09it/s]\n",
      "Calculating Macro-F1@X: 100%|██████████| 1098/1098 [00:10<00:00, 106.59it/s]\n"
     ]
    },
    {
     "name": "stdout",
     "output_type": "stream",
     "text": [
      "Generated MRR: 1098 keys\n",
      "Generated R-Precision: 1098 keys\n",
      "Generated Macro-F1: 1098 keys\n",
      "-------------------------------------------------- Model: CE-SupCon-mean, City: south, Mode: image --------------------------------------------------\n",
      "Global variables initialized in 0.06 seconds.\n"
     ]
    },
    {
     "name": "stderr",
     "output_type": "stream",
     "text": [
      "Calculating MRR@10: 100%|██████████| 731/731 [00:16<00:00, 44.03it/s]\n",
      "Calculating R-precision: 100%|██████████| 731/731 [00:16<00:00, 43.08it/s]\n",
      "Calculating Macro-F1@X: 100%|██████████| 731/731 [00:16<00:00, 43.32it/s]\n"
     ]
    },
    {
     "name": "stdout",
     "output_type": "stream",
     "text": [
      "Generated MRR: 731 keys\n",
      "Generated R-Precision: 731 keys\n",
      "Generated Macro-F1: 731 keys\n",
      "-------------------------------------------------- Model: CE-SupCon-mean, City: south, Mode: multimodal --------------------------------------------------\n",
      "Global variables initialized in 0.20 seconds.\n"
     ]
    },
    {
     "name": "stderr",
     "output_type": "stream",
     "text": [
      "Calculating MRR@10: 100%|██████████| 1098/1098 [01:08<00:00, 15.95it/s]\n",
      "Calculating R-precision: 100%|██████████| 1098/1098 [01:08<00:00, 15.94it/s]\n",
      "Calculating Macro-F1@X: 100%|██████████| 1098/1098 [01:09<00:00, 15.77it/s]\n"
     ]
    },
    {
     "name": "stdout",
     "output_type": "stream",
     "text": [
      "Generated MRR: 1098 keys\n",
      "Generated R-Precision: 1098 keys\n",
      "Generated Macro-F1: 1098 keys\n",
      "-------------------------------------------------- Model: CE-SupCon-mean, City: midwest, Mode: text --------------------------------------------------\n",
      "Global variables initialized in 0.03 seconds.\n"
     ]
    },
    {
     "name": "stderr",
     "output_type": "stream",
     "text": [
      "Calculating MRR@10: 100%|██████████| 672/672 [00:03<00:00, 168.46it/s]\n",
      "Calculating R-precision: 100%|██████████| 672/672 [00:04<00:00, 164.66it/s]\n",
      "Calculating Macro-F1@X: 100%|██████████| 672/672 [00:04<00:00, 163.37it/s]\n"
     ]
    },
    {
     "name": "stdout",
     "output_type": "stream",
     "text": [
      "Generated MRR: 672 keys\n",
      "Generated R-Precision: 672 keys\n",
      "Generated Macro-F1: 672 keys\n",
      "-------------------------------------------------- Model: CE-SupCon-mean, City: midwest, Mode: image --------------------------------------------------\n",
      "Global variables initialized in 0.01 seconds.\n"
     ]
    },
    {
     "name": "stderr",
     "output_type": "stream",
     "text": [
      "Calculating MRR@10: 100%|██████████| 399/399 [00:05<00:00, 72.90it/s]\n",
      "Calculating R-precision: 100%|██████████| 399/399 [00:05<00:00, 70.47it/s]\n",
      "Calculating Macro-F1@X: 100%|██████████| 399/399 [00:05<00:00, 72.16it/s]\n"
     ]
    },
    {
     "name": "stdout",
     "output_type": "stream",
     "text": [
      "Generated MRR: 399 keys\n",
      "Generated R-Precision: 399 keys\n",
      "Generated Macro-F1: 399 keys\n",
      "-------------------------------------------------- Model: CE-SupCon-mean, City: midwest, Mode: multimodal --------------------------------------------------\n",
      "Global variables initialized in 0.09 seconds.\n"
     ]
    },
    {
     "name": "stderr",
     "output_type": "stream",
     "text": [
      "Calculating MRR@10: 100%|██████████| 672/672 [00:23<00:00, 28.12it/s]\n",
      "Calculating R-precision: 100%|██████████| 672/672 [00:24<00:00, 27.90it/s]\n",
      "Calculating Macro-F1@X: 100%|██████████| 672/672 [00:24<00:00, 27.59it/s]\n"
     ]
    },
    {
     "name": "stdout",
     "output_type": "stream",
     "text": [
      "Generated MRR: 672 keys\n",
      "Generated R-Precision: 672 keys\n",
      "Generated Macro-F1: 672 keys\n",
      "-------------------------------------------------- Model: CE-SupCon-mean, City: west, Mode: text --------------------------------------------------\n",
      "Global variables initialized in 0.01 seconds.\n"
     ]
    },
    {
     "name": "stderr",
     "output_type": "stream",
     "text": [
      "Calculating MRR@10: 100%|██████████| 299/299 [00:00<00:00, 328.23it/s]\n",
      "Calculating R-precision: 100%|██████████| 299/299 [00:00<00:00, 354.41it/s]\n",
      "Calculating Macro-F1@X: 100%|██████████| 299/299 [00:00<00:00, 365.21it/s]\n"
     ]
    },
    {
     "name": "stdout",
     "output_type": "stream",
     "text": [
      "Generated MRR: 299 keys\n",
      "Generated R-Precision: 299 keys\n",
      "Generated Macro-F1: 299 keys\n",
      "-------------------------------------------------- Model: CE-SupCon-mean, City: west, Mode: image --------------------------------------------------\n",
      "Global variables initialized in 0.00 seconds.\n"
     ]
    },
    {
     "name": "stderr",
     "output_type": "stream",
     "text": [
      "Calculating MRR@10: 100%|██████████| 165/165 [00:01<00:00, 146.23it/s]\n",
      "Calculating R-precision: 100%|██████████| 165/165 [00:01<00:00, 153.95it/s]\n",
      "Calculating Macro-F1@X: 100%|██████████| 165/165 [00:01<00:00, 148.87it/s]\n"
     ]
    },
    {
     "name": "stdout",
     "output_type": "stream",
     "text": [
      "Generated MRR: 165 keys\n",
      "Generated R-Precision: 165 keys\n",
      "Generated Macro-F1: 165 keys\n",
      "-------------------------------------------------- Model: CE-SupCon-mean, City: west, Mode: multimodal --------------------------------------------------\n",
      "Global variables initialized in 0.02 seconds.\n"
     ]
    },
    {
     "name": "stderr",
     "output_type": "stream",
     "text": [
      "Calculating MRR@10: 100%|██████████| 299/299 [00:05<00:00, 58.35it/s]\n",
      "Calculating R-precision: 100%|██████████| 299/299 [00:05<00:00, 56.77it/s]\n",
      "Calculating Macro-F1@X: 100%|██████████| 299/299 [00:05<00:00, 57.22it/s]\n"
     ]
    },
    {
     "name": "stdout",
     "output_type": "stream",
     "text": [
      "Generated MRR: 299 keys\n",
      "Generated R-Precision: 299 keys\n",
      "Generated Macro-F1: 299 keys\n",
      "-------------------------------------------------- Model: CE-SupCon-mean, City: northeast, Mode: text --------------------------------------------------\n",
      "Global variables initialized in 0.00 seconds.\n"
     ]
    },
    {
     "name": "stderr",
     "output_type": "stream",
     "text": [
      "Calculating MRR@10: 100%|██████████| 408/408 [00:00<00:00, 583.32it/s]\n",
      "Calculating R-precision: 100%|██████████| 408/408 [00:00<00:00, 584.24it/s]\n",
      "Calculating Macro-F1@X: 100%|██████████| 408/408 [00:00<00:00, 566.62it/s]\n"
     ]
    },
    {
     "name": "stdout",
     "output_type": "stream",
     "text": [
      "Generated MRR: 408 keys\n",
      "Generated R-Precision: 408 keys\n",
      "Generated Macro-F1: 408 keys\n",
      "-------------------------------------------------- Model: CE-SupCon-mean, City: northeast, Mode: image --------------------------------------------------\n",
      "Global variables initialized in 0.01 seconds.\n"
     ]
    },
    {
     "name": "stderr",
     "output_type": "stream",
     "text": [
      "Calculating MRR@10: 100%|██████████| 261/261 [00:02<00:00, 103.41it/s]\n",
      "Calculating R-precision: 100%|██████████| 261/261 [00:02<00:00, 99.63it/s] \n",
      "Calculating Macro-F1@X: 100%|██████████| 261/261 [00:02<00:00, 101.67it/s]\n"
     ]
    },
    {
     "name": "stdout",
     "output_type": "stream",
     "text": [
      "Generated MRR: 261 keys\n",
      "Generated R-Precision: 261 keys\n",
      "Generated Macro-F1: 261 keys\n",
      "-------------------------------------------------- Model: CE-SupCon-mean, City: northeast, Mode: multimodal --------------------------------------------------\n",
      "Global variables initialized in 0.03 seconds.\n"
     ]
    },
    {
     "name": "stderr",
     "output_type": "stream",
     "text": [
      "Calculating MRR@10: 100%|██████████| 408/408 [00:06<00:00, 64.75it/s]\n",
      "Calculating R-precision: 100%|██████████| 408/408 [00:06<00:00, 63.09it/s]\n",
      "Calculating Macro-F1@X: 100%|██████████| 408/408 [00:06<00:00, 61.07it/s]\n"
     ]
    },
    {
     "name": "stdout",
     "output_type": "stream",
     "text": [
      "Generated MRR: 408 keys\n",
      "Generated R-Precision: 408 keys\n",
      "Generated Macro-F1: 408 keys\n"
     ]
    }
   ],
   "source": [
    "for city in [\"south\", \"midwest\", \"west\", \"northeast\"]:\n",
    "    for mode_ in [\"text\", \"image\", \"multimodal\"]:\n",
    "        process_and_save_metrics(\"CE-SupCon-mean\", city, mode_)"
   ]
  },
  {
   "cell_type": "code",
   "execution_count": null,
   "id": "dd072cc7-3e27-4f89-b8af-91f4ed5b6db7",
   "metadata": {},
   "outputs": [],
   "source": []
  }
 ],
 "metadata": {
  "kernelspec": {
   "display_name": "HT",
   "language": "python",
   "name": "ht"
  },
  "language_info": {
   "codemirror_mode": {
    "name": "ipython",
    "version": 3
   },
   "file_extension": ".py",
   "mimetype": "text/x-python",
   "name": "python",
   "nbconvert_exporter": "python",
   "pygments_lexer": "ipython3",
   "version": "3.10.0"
  }
 },
 "nbformat": 4,
 "nbformat_minor": 5
}
